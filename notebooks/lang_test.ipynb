{
 "cells": [
  {
   "cell_type": "code",
   "execution_count": 1,
   "metadata": {},
   "outputs": [
    {
     "name": "stdout",
     "output_type": "stream",
     "text": [
      "sk-859 00c641\n"
     ]
    }
   ],
   "source": [
    "from dotenv import load_dotenv\n",
    "import os\n",
    "from langchain.chains import LLMChain\n",
    "from langchain import PromptTemplate\n",
    "from langchain.llms import OpenAI\n",
    "from serpapi import GoogleSearch\n",
    "\n",
    "load_dotenv()\n",
    "\n",
    "OPENAI_API_KEY=os.getenv(\"OPENAI_API_KEY\")\n",
    "SERPAPI_KEY = os.getenv(\"SERPAPI_KEY\")\n",
    "print(OPENAI_API_KEY[0:6], SERPAPI_KEY[0:6])"
   ]
  },
  {
   "cell_type": "code",
   "execution_count": 19,
   "metadata": {},
   "outputs": [],
   "source": [
    "import requests\n",
    "import json\n",
    "\n",
    "search = GoogleSearch(\n",
    "    {\n",
    "        \"q\": \"Swift Logistics + website\",\n",
    "        \"engine\": \"google\",\n",
    "        \"location\": \"Austin, Texas\",\n",
    "        \"api_key\": SERPAPI_KEY,\n",
    "    }\n",
    ")\n",
    "response = search.get_dict()\n"
   ]
  },
  {
   "cell_type": "code",
   "execution_count": 20,
   "metadata": {},
   "outputs": [
    {
     "data": {
      "text/plain": "'https://www.swiftlogistics.com/'"
     },
     "execution_count": 20,
     "metadata": {},
     "output_type": "execute_result"
    }
   ],
   "source": [
    "response[\"organic_results\"][0][\"link\"]"
   ]
  },
  {
   "cell_type": "code",
   "execution_count": 4,
   "metadata": {},
   "outputs": [
    {
     "name": "stderr",
     "output_type": "stream",
     "text": [
      "/home/jp/anaconda3/envs/inno/lib/python3.9/site-packages/langchain/llms/openai.py:169: UserWarning: You are trying to use a chat model. This way of initializing it is no longer supported. Instead, please use: `from langchain.chat_models import ChatOpenAI`\n",
      "  warnings.warn(\n",
      "/home/jp/anaconda3/envs/inno/lib/python3.9/site-packages/langchain/llms/openai.py:696: UserWarning: You are trying to use a chat model. This way of initializing it is no longer supported. Instead, please use: `from langchain.chat_models import ChatOpenAI`\n",
      "  warnings.warn(\n"
     ]
    }
   ],
   "source": [
    "\n",
    "llm = OpenAI(model_name=\"gpt-3.5-turbo\", temperature=0)"
   ]
  },
  {
   "cell_type": "code",
   "execution_count": 5,
   "metadata": {},
   "outputs": [],
   "source": [
    "\n",
    "\n",
    "\n",
    "template = \"\"\"\n",
    "    I'll give you three inputs. These inputs will be the name of the company, \n",
    "    the country of the company, and the website company. The website of the company\n",
    "    is not mandatory.\n",
    "    You have to give me the products and services that the company offers as output.\n",
    "    you dont need to give me nothing more than the ouput.\n",
    "\n",
    "\n",
    "\n",
    "    input:\n",
    "    IKEA Deutschland GmbH & Co. KG\n",
    "    Germany\n",
    "    ikea.com\n",
    "\n",
    "    the output must be in this format, please use it:\n",
    "    \"Products/services\": Furniture, Home decor, Kitchen and Dining;\n",
    "    \"Keywords\":furniture, storage, lighting;\n",
    "    \"Company Classification\":5712 (Furniture Stores) – SIC, 442110 (Furniture Stores) – NAICS\n",
    "    do it yourself now.\n",
    "    input:\n",
    "    {name_of_company}\n",
    "    {country_of_company}\n",
    "    {website_of_company}\n",
    "\n",
    "    what is the output?\n",
    "\"\"\"\n",
    "\n",
    "prompt = PromptTemplate(\n",
    "    input_variables=[\"name_of_company\", \"country_of_company\", \"website_of_company\"],\n",
    "    template=template,\n",
    ")"
   ]
  },
  {
   "cell_type": "code",
   "execution_count": 6,
   "metadata": {},
   "outputs": [],
   "source": [
    "\n",
    "chain = LLMChain(llm=llm, prompt=prompt)\n",
    "output = chain.run({\"name_of_company\": \"Google\", \n",
    "           \"country_of_company\": \"United States\", \n",
    "           \"website_of_company\":\"google.com\"\n",
    "\n",
    "})"
   ]
  },
  {
   "cell_type": "code",
   "execution_count": 7,
   "metadata": {},
   "outputs": [
    {
     "name": "stdout",
     "output_type": "stream",
     "text": [
      "\"Products/services\": Search engine, Advertising, Cloud computing, Software;\n",
      "    \"Keywords\": Search, Advertising, Cloud, Software, Technology;\n",
      "    \"Company Classification\": 7370 (Computer Programming, Data Processing, and Related Services) – SIC, 511210 (Software Publishers) – NAICS.\n"
     ]
    }
   ],
   "source": [
    "print(output)"
   ]
  },
  {
   "cell_type": "code",
   "execution_count": null,
   "metadata": {},
   "outputs": [],
   "source": [
    "#query de busca no serpapi:\n",
    "#nomedaempresa + paisdaempresa + palavrachave1 + palavrachave2 + palavrachave3"
   ]
  },
  {
   "cell_type": "code",
   "execution_count": 8,
   "metadata": {},
   "outputs": [],
   "source": [
    "def parse_output(output_langchain: str) -> dict:\n",
    "  \"\"\" \n",
    "  Will parse the output_langchain of the Langchain query\n",
    "  \n",
    "  Args:\n",
    "    output(str): The output_langchain of Langchain query.\n",
    "\n",
    "  Returns:\n",
    "    result_dict(dict): the parsed output_langchain to dict\n",
    "  \"\"\"\n",
    "\n",
    "  result_dict = {}\n",
    "\n",
    "  sections = [section.strip() for section in output.split(\";\")]\n",
    "\n",
    "  for section in sections:\n",
    "      if section:\n",
    "          header, values_str = section.split(\":\")\n",
    "          header = header.strip('\"')\n",
    "          values = [value.strip() for value in values_str.strip('[]').split(\",\")]\n",
    "\n",
    "          result_dict[header] = values\n",
    "\n",
    "  return result_dict"
   ]
  },
  {
   "cell_type": "code",
   "execution_count": 9,
   "metadata": {},
   "outputs": [],
   "source": [
    "parsed = parse_output(output)"
   ]
  },
  {
   "cell_type": "code",
   "execution_count": 11,
   "metadata": {},
   "outputs": [
    {
     "data": {
      "text/plain": "{'Products/services': ['Search engine',\n  'Advertising',\n  'Cloud computing',\n  'Software'],\n 'Keywords': ['Search', 'Advertising', 'Cloud', 'Software', 'Technology'],\n 'Company Classification': ['7370 (Computer Programming',\n  'Data Processing',\n  'and Related Services) – SIC',\n  '511210 (Software Publishers) – NAICS.'],\n 'images': 'test'}"
     },
     "execution_count": 11,
     "metadata": {},
     "output_type": "execute_result"
    }
   ],
   "source": [
    "parsed[\"images\"] = \"test\"\n",
    "parsed"
   ]
  },
  {
   "cell_type": "code",
   "execution_count": 8,
   "metadata": {},
   "outputs": [
    {
     "data": {
      "text/plain": "['Search engine', 'Advertising', 'Cloud computing', 'Software']"
     },
     "execution_count": 8,
     "metadata": {},
     "output_type": "execute_result"
    }
   ],
   "source": [
    "parsed[\"Products/services\"]"
   ]
  },
  {
   "cell_type": "markdown",
   "metadata": {},
   "source": [
    "# Teste com SerpAPI"
   ]
  },
  {
   "cell_type": "code",
   "execution_count": 9,
   "metadata": {},
   "outputs": [],
   "source": [
    "#!pip install google-search-results\n"
   ]
  },
  {
   "cell_type": "code",
   "execution_count": 19,
   "metadata": {},
   "outputs": [],
   "source": [
    "search = GoogleSearch({\n",
    "    \"q\": \"Innoscripta + Germany + Innovation consulting + Digital transformation + Product development \",\n",
    "    \"engine\": \"google_images\",\n",
    "    \"location\": \"Austin, Texas\",\n",
    "    \"api_key\": SERPAPI_KEY\n",
    "})"
   ]
  },
  {
   "cell_type": "code",
   "execution_count": 12,
   "metadata": {},
   "outputs": [
    {
     "data": {
      "text/plain": "<serpapi.google_search.GoogleSearch at 0x7f240b485190>"
     },
     "execution_count": 12,
     "metadata": {},
     "output_type": "execute_result"
    }
   ],
   "source": [
    "search"
   ]
  },
  {
   "cell_type": "code",
   "execution_count": 27,
   "metadata": {},
   "outputs": [
    {
     "name": "stdout",
     "output_type": "stream",
     "text": [
      "{'position': 3, 'thumbnail': 'https://serpapi.com/searches/64657183f0adfbcd97e4a773/images/4f3abf25eaa5fccfe017f296d62f7f3cb3cc25ed527034b09f8049b5aab91d65.jpeg', 'related_content_id': 'Y1NsQlBId0NjZE04eE1cIixcIjdxUlFlNWdFc1d1V3NN', 'serpapi_related_content_link': 'https://serpapi.com/search.json?engine=google_images_related_content&gl=us&hl=en&q=Innoscripta+%2B+Germany+%2B+Innovation+consulting+%2B+Digital+transformation+%2B+Product+development+&related_content_id=Y1NsQlBId0NjZE04eE1cIixcIjdxUlFlNWdFc1d1V3NN', 'source': 'innoscripta', 'title': 'Who we are looking for: What we offer: Your tasks: Are you interested?  Apply now!', 'link': 'https://it.innoscripta.com/documents/positions/innoscripta_Product_Manager_IT.pdf', 'is_product': False}\n"
     ]
    }
   ],
   "source": [
    "response = search.get_dict()\n",
    "print(response[\"images_results\"][2])"
   ]
  },
  {
   "cell_type": "code",
   "execution_count": 16,
   "metadata": {},
   "outputs": [
    {
     "data": {
      "text/plain": "dict_keys(['search_metadata', 'search_parameters', 'search_information', 'suggested_searches', 'images_results', 'related_searches'])"
     },
     "execution_count": 16,
     "metadata": {},
     "output_type": "execute_result"
    }
   ],
   "source": [
    "response.keys()"
   ]
  },
  {
   "cell_type": "code",
   "execution_count": 30,
   "metadata": {},
   "outputs": [
    {
     "data": {
      "text/plain": "['https://d3ml3b6vywsj0z.cloudfront.net/company_images/5ba611307c86660d3c6b2536_images.png',\n 'https://image.pitchbook.com/3T2zgG15lp2J4ZRw44DGxAmhbJe1598972475402_200x200',\n None,\n 'https://www.cparityevent.com/wp-content/uploads/2023/05/Web-Innoscripta-HQ-300x300.png',\n 'https://www.innoscripta.com/6cc987b6a5d16e4b06b5.jpg?url']"
     },
     "execution_count": 30,
     "metadata": {},
     "output_type": "execute_result"
    }
   ],
   "source": [
    "imgs = [r.get(\"original\", None) for r in response[\"images_results\"][:5]]\n",
    "imgs"
   ]
  },
  {
   "cell_type": "code",
   "execution_count": 26,
   "metadata": {},
   "outputs": [],
   "source": [
    "def google_search(query: str) -> list:\n",
    "    \"\"\"\n",
    "    Will query google for images based in the output of OpenAIAPI\n",
    "    \n",
    "    Args:\n",
    "        query(str): Formated query using the output openaiAPI\n",
    "    \n",
    "    Results:\n",
    "        imgs(list): List with URLs for images\n",
    "    \"\"\"\n",
    "    search = GoogleSearch({\n",
    "    \"q\": query,\n",
    "    \"engine\": \"google_images\",\n",
    "    \"location\": \"Austin, Texas\",\n",
    "    \"api_key\": SERPAPI_KEY\n",
    "    })\n",
    "    response = search.get_dict()\n",
    "    imgs = [r[\"original\"] for r in response[\"images_results\"][:5]]\n",
    "\n",
    "    return imgs"
   ]
  },
  {
   "cell_type": "code",
   "execution_count": 27,
   "metadata": {},
   "outputs": [
    {
     "data": {
      "text/plain": "['https://upload.wikimedia.org/wikipedia/commons/6/66/Polar_Bear_-_Alaska_%28cropped%29.jpg',\n 'https://i.natgeofe.com/k/55256f3f-2cf1-4b93-9d95-a13b0faa30a6/Mom-and-Babies_Polar-Bear_KIDS_0223-crop_3x2.jpg',\n 'https://files.worldwildlife.org/wwfcmsprod/images/Polar_bear_on_ice_in_Svalbard_Norway_WW294883/story_full_width/42ny6cwj8t_Polar_bear_on_ice_in_Svalbard_Norway_WW294883.jpg',\n 'https://good-nature-blog-uploads.s3.amazonaws.com/uploads/2022/07/Polar-Bear-playing-in-the-snow-by-Eddy-Savage-1280x640.png',\n 'https://optimise2.assets-servd.host/maniacal-finch/production/animals/polar-bear-01-01.jpg?w=1200&auto=compress%2Cformat&fit=crop&dm=1658950229&s=92bb7b274a3ab178ae54ddf5b186306b']"
     },
     "execution_count": 27,
     "metadata": {},
     "output_type": "execute_result"
    }
   ],
   "source": [
    "tst = google_search(\"Polar bear\")\n",
    "tst"
   ]
  },
  {
   "cell_type": "code",
   "execution_count": 28,
   "metadata": {},
   "outputs": [],
   "source": [
    "#prompt creation -> openai query -> google query creation -> google search\n",
    "\n",
    "def gpt_call(name: str, country: str, website: str = None) -> dict:\n",
    "    \"\"\"\n",
    "    Will call gpt-3.5-turbo for querying informations about a company.\n",
    "\n",
    "    Args:\n",
    "        name(str): Name of the company\n",
    "        country(str): Country of the company\n",
    "        website(str): Website of the company\n",
    "\n",
    "    Results:\n",
    "        output(dict) = Parsed output of OpenAIAPI\n",
    "    \"\"\"\n",
    "    if not website:\n",
    "        website = \"\"\n",
    "    llm = OpenAI(model_name=\"gpt-3.5-turbo\", temperature=0)\n",
    "\n",
    "    template = \"\"\"\n",
    "    I'll give you three inputs. These inputs will be the name of the company, \n",
    "    the country of the company, and the website company. The website of the company\n",
    "    is not mandatory.\n",
    "    You have to give me the products and services that the company offers as output.\n",
    "    you dont need to give me nothing more than the ouput.\n",
    "\n",
    "\n",
    "\n",
    "    input:\n",
    "    IKEA Deutschland GmbH & Co. KG\n",
    "    Germany\n",
    "    ikea.com\n",
    "\n",
    "    the output must be in this format, please use it:\n",
    "    \"Products/services\": Furniture, Home decor, Kitchen and Dining;\n",
    "    \"Keywords\":furniture, storage, lighting;\n",
    "    \"Company Classification\":5712 (Furniture Stores) – SIC, 442110 (Furniture Stores) – NAICS\n",
    "    do it yourself now.\n",
    "    input:\n",
    "    {name_of_company}\n",
    "    {country_of_company}\n",
    "    {website_of_company}\n",
    "\n",
    "    what is the output?\n",
    "    \"\"\"\n",
    "\n",
    "    prompt = PromptTemplate(\n",
    "        input_variables=[\"name_of_company\", \"country_of_company\", \"website_of_company\"],\n",
    "        template=template,\n",
    "    )\n",
    "    chain = LLMChain(llm=llm, prompt=prompt)\n",
    "    output = chain.run({\"name_of_company\": name, \n",
    "            \"country_of_company\": country, \n",
    "            \"website_of_company\":website\n",
    "\n",
    "    })\n",
    "    parsed = parse_output(output)\n",
    "\n",
    "    return parsed\n"
   ]
  },
  {
   "cell_type": "code",
   "execution_count": 29,
   "metadata": {},
   "outputs": [
    {
     "name": "stderr",
     "output_type": "stream",
     "text": [
      "/home/jp/anaconda3/envs/inno/lib/python3.9/site-packages/langchain/llms/openai.py:169: UserWarning: You are trying to use a chat model. This way of initializing it is no longer supported. Instead, please use: `from langchain.chat_models import ChatOpenAI`\n",
      "  warnings.warn(\n",
      "/home/jp/anaconda3/envs/inno/lib/python3.9/site-packages/langchain/llms/openai.py:696: UserWarning: You are trying to use a chat model. This way of initializing it is no longer supported. Instead, please use: `from langchain.chat_models import ChatOpenAI`\n",
      "  warnings.warn(\n"
     ]
    },
    {
     "name": "stdout",
     "output_type": "stream",
     "text": [
      "{'Products/services': ['Search engine', 'Advertising', 'Cloud computing', 'Software'], 'Keywords': ['Search', 'Advertising', 'Cloud', 'Software', 'Technology'], 'Company Classification': ['7370 (Computer Programming', 'Data Processing', 'and Other Computer Related Services) – SIC', '511210 (Software Publishers) – NAICS']}\n",
      "{'Products/services': ['Search engine', 'Advertising', 'Cloud computing', 'Software'], 'Keywords': ['Search', 'Advertising', 'Cloud', 'Software', 'Technology'], 'Company Classification': ['7370 (Computer Programming', 'Data Processing', 'and Other Computer Related Services) – SIC', '511210 (Software Publishers) – NAICS']}\n"
     ]
    }
   ],
   "source": [
    "parsed = gpt_call(name=\"Google\", country=\"United States\")\n",
    "print(parsed)"
   ]
  },
  {
   "cell_type": "code",
   "execution_count": 37,
   "metadata": {},
   "outputs": [],
   "source": [
    "products_services_str = \" + \".join(parsed[\"Products/services\"])"
   ]
  },
  {
   "cell_type": "code",
   "execution_count": 43,
   "metadata": {},
   "outputs": [],
   "source": [
    "def google_query_formation(name: str, country: str, products: list) -> str:\n",
    "    \"\"\"\n",
    "    Will manipulate strings to create Google search query\n",
    "\n",
    "    Args:\n",
    "        name(str): Name of company\n",
    "        countr(str): Country of company\n",
    "        products(list): Products that the company offers\n",
    "\n",
    "    Return:\n",
    "        google_query(str): Google query\n",
    "    \"\"\"\n",
    "    products_services_str = \" + \".join(products)\n",
    "\n",
    "    return \" + \".join([name, country, products_services_str])"
   ]
  },
  {
   "cell_type": "code",
   "execution_count": 51,
   "metadata": {},
   "outputs": [],
   "source": [
    "from langchain.chains import LLMChain\n",
    "from langchain import PromptTemplate\n",
    "from langchain.llms import OpenAI\n",
    "from serpapi import GoogleSearch\n",
    "import logging\n",
    "\n",
    "logger = logging.getLogger(__name__)\n",
    "class Innoscripta:\n",
    "    \"\"\"Class of innoscript solution\"\"\"\n",
    "\n",
    "    def __init__(self, name: str, country: str, website: str = None):\n",
    "        \"\"\"\n",
    "        Initialize the Innoscripta search engine.\n",
    "\n",
    "        Args:\n",
    "            name (str): name of the company\n",
    "            country (str): name of the country of the company\n",
    "            website (str): website of the company\n",
    "        \"\"\"\n",
    "        self.name = name\n",
    "        self.country = country\n",
    "        if not website:\n",
    "            logger.info(\"Website not provided, searching for it....\")\n",
    "            self.website = self.find_website(company_name=name)\n",
    "            logger.info(f\"Found website! {self.website}\")\n",
    "        else:\n",
    "            self.website = website\n",
    "        self.llm = OpenAI(model_name=\"gpt-3.5-turbo\", temperature=0)\n",
    "\n",
    "    def find_website(self, company_name) -> str:\n",
    "        \"\"\"\n",
    "        Try to find the website of the company\n",
    "\n",
    "        Args:\n",
    "            company_name (str): The name of the company.\n",
    "        Returns:\n",
    "            website (str): website of the company\n",
    "        \"\"\"\n",
    "        search = GoogleSearch(\n",
    "            {\n",
    "                \"q\": f\"{company_name} + website\",\n",
    "                \"engine\": \"google\",\n",
    "                \"location\": \"Austin, Texas\",\n",
    "                \"api_key\": SERPAPI_KEY,\n",
    "            }\n",
    "        )\n",
    "        response = search.get_dict()\n",
    "\n",
    "        website = response[\"organic_results\"][0][\"link\"]\n",
    "\n",
    "        if website:\n",
    "            return website\n",
    "        else:\n",
    "            return \" \"\n",
    "\n",
    "    def main(self):\n",
    "        \"\"\"\n",
    "        Will do the innoscripta querying\n",
    "        \"\"\"\n",
    "        logger.info(\"Doing GPT search...\")\n",
    "        parsed_gpt_ouput = self.gpt_call()\n",
    "        logger.info(\"Doing Google search...\")\n",
    "        google_query = self.google_query_formation(\n",
    "            parsed_gpt_ouput[\"products_services\"]\n",
    "        )\n",
    "        imgs = self.google_search(google_query)\n",
    "        parsed_gpt_ouput[\"images\"] = imgs\n",
    "        # parsed_gpt_ouput[\"additional_informations\"] = [\n",
    "        #     txt.replace(\"\\n\", \" \")\n",
    "        #     for txt in parsed_gpt_ouput[\"additional_informations\"]\n",
    "        # ]\n",
    "        # parsed_gpt_ouput[\"additional_informations\"] = \"\".join(\n",
    "        #     parsed_gpt_ouput[\"additional_informations\"]\n",
    "        # )\n",
    "        return parsed_gpt_ouput\n",
    "\n",
    "    def gpt_call(self) -> dict:\n",
    "        \"\"\"\n",
    "        Will call gpt-3.5-turbo for querying informations about a company.\n",
    "\n",
    "        Args:\n",
    "            name(str): Name of the company\n",
    "            country(str): Country of the company\n",
    "            website(str): Website of the company\n",
    "\n",
    "        Results:\n",
    "            output(dict) = Parsed output of OpenAIAPI\n",
    "        \"\"\"\n",
    "\n",
    "        prompt = self.prompt_template()\n",
    "\n",
    "        chain = LLMChain(llm=self.llm, prompt=prompt)\n",
    "        output = chain.run(\n",
    "            {\n",
    "                \"name_of_company\": self.name,\n",
    "                \"country_of_company\": self.country,\n",
    "                \"website_of_company\": self.website,\n",
    "            }\n",
    "        )\n",
    "        parsed = self.parse_output(output)\n",
    "\n",
    "        return parsed\n",
    "\n",
    "    def google_query_formation(self, products: list) -> str:\n",
    "        \"\"\"\n",
    "        Will manipulate strings to create Google search query\n",
    "\n",
    "        Return:\n",
    "            google_query(str): Google query\n",
    "        \"\"\"\n",
    "        products_services_str = \" + \".join(products)\n",
    "\n",
    "        return \" + \".join([self.name, products_services_str])\n",
    "\n",
    "    def google_search(self, query: str) -> list:\n",
    "        \"\"\"\n",
    "        Will query google for images based in the output of OpenAIAPI\n",
    "\n",
    "        Args:\n",
    "            query(str): Formated query using the output openaiAPI\n",
    "\n",
    "        Results:\n",
    "            imgs(list): List with URLs for images\n",
    "        \"\"\"\n",
    "        search = GoogleSearch(\n",
    "            {\n",
    "                \"q\": query,\n",
    "                \"engine\": \"google_images\",\n",
    "                \"location\": \"Austin, Texas\",\n",
    "                \"api_key\": SERPAPI_KEY,\n",
    "            }\n",
    "        )\n",
    "        response = search.get_dict()\n",
    "        imgs = [r.get(\"original\", None) for r in response[\"images_results\"][:5]]\n",
    "\n",
    "        return imgs\n",
    "\n",
    "    def prompt_template(self):\n",
    "        template = \"\"\"\n",
    "        I'll give you three inputs. These inputs will be the name of the company, \n",
    "        the country of the company, and the website company. The website of the company\n",
    "        is not mandatory, so it can be just an empty string.\n",
    "        If the website was not provided, gather all info you can with just name and country.\n",
    "        You have to give me the products and services that the company offers as output.\n",
    "        you dont need to give me nothing more than the ouput.\n",
    "\n",
    "        input:\n",
    "        IKEA Deutschland GmbH & Co. KG\n",
    "        Germany\n",
    "        ikea.com\n",
    "\n",
    "        the output must be in this format, please use it:\n",
    "        \"products_services\": Furniture, Home decor, Kitchen and Dining;\n",
    "        \"keywords\":furniture, storage, lighting;\n",
    "        \"company_classification\":5712 (Furniture Stores) – SIC, 442110 (Furniture Stores) – NAICS;\n",
    "        \"additional_informations\":\n",
    "            \"Furniture\" = \"IKEA is well-known for its wide range of stylish and affordable furniture. They offer various furniture pieces for every room in the home, including living room, bedroom, kitchen, dining, and outdoor furniture. Their products feature modern designs, functionality, and often come in flat-pack form for easy transportation and assembly.\",\n",
    "            \"Home Decor and Accessories\" =  \"In addition to furniture, IKEA provides a variety of home decor and accessories to enhance the style and functionality of living spaces. This includes items such as rugs, curtains, lighting fixtures, mirrors, frames, plants, and decorative storage solutions.\",\n",
    "            \"Kitchen and Dining\" = \"IKEA offers a comprehensive range of kitchen and dining products. This includes kitchen cabinets, countertops, appliances, cookware, utensils, tableware, and dining furniture. They provide solutions for various kitchen styles, sizes, and budgets.\",\n",
    "            \"Storage and Organization\" = \"IKEA specializes in storage and organization solutions to help keep homes tidy and efficient. They offer a wide selection of shelves, storage units, wardrobes, drawers, and closet systems. These products are designed to maximize space and provide smart storage solutions.\",\n",
    "            \"Bedroom Furniture and Mattresses\"= \"IKEA provides bedroom furniture and mattresses that cater to different preferences and needs. They offer beds, bed frames, mattresses, dressers, wardrobes, and bedding accessories. Their products focus on comfort, functionality, and innovative design.\",\n",
    "            \"Bathroom Furnishings\" = \"For bathrooms, IKEA offers a range of furnishings and accessories, including vanities, cabinets, sinks, faucets, showers, storage solutions, and bathroom textiles. These products aim to optimize space utilization and create a stylish and functional bathroom environment.\",\n",
    "            \"Children's Furniture and Toys\" = \"IKEA features a variety of furniture and toys designed specifically for children. They offer children's beds, desks, storage systems, playroom furniture, toys, and decor items. Their products prioritize safety, durability, and imaginative play.\",\n",
    "            \"Textiles and Fabrics\" = \"IKEA provides an assortment of textiles and fabrics for home decor, including curtains, blinds, rugs, cushions, bedding, and fabrics by the yard. They offer a wide selection of colors, patterns, and materials to suit different styles and preferences.\",\n",
    "            \"Smart Home Solutions\" = \"In line with the growing trend of smart homes, IKEA offers smart home solutions such as lighting systems, wireless chargers, smart plugs, and integrated furniture with built-in technology. These products aim to enhance convenience, energy efficiency, and connectivity in the home.\",\n",
    "            \"Home Delivery and Assembly Services\" = \"IKEA offers home delivery services to bring purchased products directly to customers' homes. They also provide assembly services, where IKEA's professionals can assemble the furniture and ensure it is ready to use.\",\n",
    "\n",
    "\n",
    "        do it yourself now.\n",
    "        input:\n",
    "        {name_of_company}\n",
    "        {country_of_company}\n",
    "        {website_of_company}\n",
    "\n",
    "        what is the output?\n",
    "        \"\"\"\n",
    "\n",
    "        prompt = PromptTemplate(\n",
    "            input_variables=[\n",
    "                \"name_of_company\",\n",
    "                \"country_of_company\",\n",
    "                \"website_of_company\",\n",
    "            ],\n",
    "            template=template,\n",
    "        )\n",
    "\n",
    "        return prompt\n",
    "\n",
    "    def parse_output(self, output_langchain: str) -> dict:\n",
    "        \"\"\"\n",
    "        Will parse the output_langchain of the Langchain query\n",
    "\n",
    "        Args:\n",
    "            output(str): The output_langchain of Langchain query.\n",
    "\n",
    "        Returns:\n",
    "            result_dict(dict): the parsed output_langchain to dict\n",
    "        \"\"\"\n",
    "\n",
    "        result_dict = {}\n",
    "\n",
    "        sections = [section.strip() for section in output_langchain.split(\";\")]\n",
    "\n",
    "        for section in sections:\n",
    "            print(f\"---->{section}\")\n",
    "            if section:\n",
    "                if \"additional_informations\" in section:\n",
    "                    print(\"---> oi porra\")\n",
    "                    header = \"additional_informations\"\n",
    "                    values = self.parse_additional_info(section)\n",
    "                else:\n",
    "                    header, values_str = section.split(\":\")\n",
    "                    header = header.strip('\"')\n",
    "                    values = [value.strip() for value in values_str.strip(\"[]\").split(\",\")]\n",
    "\n",
    "                result_dict[header] = values\n",
    "\n",
    "        return result_dict\n",
    "\n",
    "    def parse_additional_info(self, data):\n",
    "        # Parse to dict\n",
    "        additional_informations = {}\n",
    "\n",
    "        # Split into lines and iterate\n",
    "        for line in data.split('\\n'):\n",
    "            # Ignore lines without '='\n",
    "            if '=' not in line:\n",
    "                continue\n",
    "\n",
    "            # Split line into key-value pair\n",
    "            key, value = line.split('=', 1)\n",
    "\n",
    "            # Remove unwanted characters from key and value\n",
    "            key = key.replace('\"', '').strip()\n",
    "            value = value.replace('\"', '').strip()\n",
    "\n",
    "            # Add to dictionary\n",
    "            additional_informations[key] = value\n",
    "        return additional_informations"
   ]
  },
  {
   "cell_type": "code",
   "execution_count": 52,
   "metadata": {},
   "outputs": [],
   "source": [
    "inno = Innoscripta(name=\"Innoscripta\", country=\"Germany\", website=None)"
   ]
  },
  {
   "cell_type": "code",
   "execution_count": 53,
   "metadata": {},
   "outputs": [
    {
     "name": "stderr",
     "output_type": "stream",
     "text": [
      "Retrying langchain.llms.openai.completion_with_retry.<locals>._completion_with_retry in 4.0 seconds as it raised RateLimitError: The server had an error while processing your request. Sorry about that!.\n"
     ]
    },
    {
     "name": "stdout",
     "output_type": "stream",
     "text": [
      "---->\"products_services\": Digital transformation, Software development, IT consulting\n",
      "---->\"keywords\":digital transformation, software development, IT consulting, innovation, technology\n",
      "---->\"company_classification\":62020 (Information Technology (IT) Consulting) – NAICS\n",
      "---->\"additional_informations\":\n",
      "            \"Digital Transformation\" = \"Innoscripta offers digital transformation services to help businesses adapt to the changing digital landscape. They provide solutions for digital strategy, customer experience, data analytics, and process optimization. Their services aim to improve efficiency, productivity, and customer satisfaction.\",\n",
      "            \"Software Development\" =  \"Innoscripta specializes in software development services, including web and mobile app development, software integration, and custom software solutions. They use the latest technologies and agile methodologies to deliver high-quality software products that meet clients' needs.\",\n",
      "            \"IT Consulting\" = \"Innoscripta provides IT consulting services to help businesses optimize their IT infrastructure and operations. They offer services such as IT strategy, cybersecurity, cloud computing, and IT project management. Their services aim to improve IT efficiency, security, and cost-effectiveness.\",\n",
      "            \"Innovation and Technology\" = \"Innoscripta focuses on innovation and technology to help businesses stay ahead of the competition. They provide services such as innovation management, technology scouting, and digital innovation. Their services aim to help businesses identify new opportunities and develop innovative solutions.\",\n",
      "            \"Industry Expertise\" = \"Innoscripta has expertise in various industries, including healthcare, finance, logistics, and manufacturing. They provide industry-specific solutions and insights to help businesses address their unique challenges and opportunities.\",\n",
      "            \"Collaborative Approach\" = \"Innoscripta takes a collaborative approach to working with clients, involving them in every step of the process. They prioritize communication, transparency, and flexibility to ensure that clients' needs are met and expectations are exceeded.\",\n",
      "            \"Global Presence\" = \"Innoscripta has a global presence, with offices in Germany, Switzerland, and the United States. They provide services to clients around the world, helping them navigate the complexities of the global business environment.\",\n",
      "            \"Client Satisfaction\" = \"Innoscripta is committed to client satisfaction, with a focus on delivering high-quality services that meet clients' needs and exceed their expectations. They have a track record of success and a reputation for excellence in the industry.\"\n",
      "---> oi porra\n"
     ]
    }
   ],
   "source": [
    "tst = inno.main()"
   ]
  },
  {
   "cell_type": "code",
   "execution_count": 54,
   "metadata": {},
   "outputs": [
    {
     "data": {
      "text/plain": "{'products_services': ['Digital transformation',\n  'Software development',\n  'IT consulting'],\n 'keywords': ['digital transformation',\n  'software development',\n  'IT consulting',\n  'innovation',\n  'technology'],\n 'company_classification': ['62020 (Information Technology (IT) Consulting) – NAICS'],\n 'additional_informations': {'Digital Transformation': 'Innoscripta offers digital transformation services to help businesses adapt to the changing digital landscape. They provide solutions for digital strategy, customer experience, data analytics, and process optimization. Their services aim to improve efficiency, productivity, and customer satisfaction.,',\n  'Software Development': \"Innoscripta specializes in software development services, including web and mobile app development, software integration, and custom software solutions. They use the latest technologies and agile methodologies to deliver high-quality software products that meet clients' needs.,\",\n  'IT Consulting': 'Innoscripta provides IT consulting services to help businesses optimize their IT infrastructure and operations. They offer services such as IT strategy, cybersecurity, cloud computing, and IT project management. Their services aim to improve IT efficiency, security, and cost-effectiveness.,',\n  'Innovation and Technology': 'Innoscripta focuses on innovation and technology to help businesses stay ahead of the competition. They provide services such as innovation management, technology scouting, and digital innovation. Their services aim to help businesses identify new opportunities and develop innovative solutions.,',\n  'Industry Expertise': 'Innoscripta has expertise in various industries, including healthcare, finance, logistics, and manufacturing. They provide industry-specific solutions and insights to help businesses address their unique challenges and opportunities.,',\n  'Collaborative Approach': \"Innoscripta takes a collaborative approach to working with clients, involving them in every step of the process. They prioritize communication, transparency, and flexibility to ensure that clients' needs are met and expectations are exceeded.,\",\n  'Global Presence': 'Innoscripta has a global presence, with offices in Germany, Switzerland, and the United States. They provide services to clients around the world, helping them navigate the complexities of the global business environment.,',\n  'Client Satisfaction': \"Innoscripta is committed to client satisfaction, with a focus on delivering high-quality services that meet clients' needs and exceed their expectations. They have a track record of success and a reputation for excellence in the industry.\"},\n 'images': ['https://media.licdn.com/dms/image/C4D0BAQFbfUNKW2A-9Q/company-logo_200_200/0/1669909775579?e=1688601600&v=beta&t=fCE3goyQIcpls5NL2c_QMzXo4Y0u13pI6DZ5ZvbMS9k',\n  'https://image.pitchbook.com/3T2zgG15lp2J4ZRw44DGxAmhbJe1598972475402_200x200',\n  'https://www.innoscripta.com/861345e95d41fe7fc3ea.jpg?url',\n  'https://www.innoscripta.com/6cc987b6a5d16e4b06b5.jpg?url',\n  'https://www.innosight.com/wp-content/uploads/2018/02/Figure2_700x438.png']}"
     },
     "execution_count": 54,
     "metadata": {},
     "output_type": "execute_result"
    }
   ],
   "source": [
    "tst"
   ]
  },
  {
   "cell_type": "code",
   "execution_count": 25,
   "metadata": {},
   "outputs": [
    {
     "data": {
      "text/plain": "True"
     },
     "execution_count": 25,
     "metadata": {},
     "output_type": "execute_result"
    }
   ],
   "source": [
    "\"innoscripta\" in \"innoscripta.com\""
   ]
  },
  {
   "cell_type": "code",
   "execution_count": 1,
   "metadata": {},
   "outputs": [
    {
     "name": "stdout",
     "output_type": "stream",
     "text": [
      "{'products_services': ['Artificial Intelligence research', 'development', 'and deployment'], 'keywords': ['AI', 'machine learning', 'natural language processing'], 'company_classification': ['7371 (Computer Programming Services) – SIC', '541511 (Custom Computer Programming Services) – NAICS'], 'images': ['https://assets.weforum.org/editor/WAi7awMyhM1beUh5qAHB-m7gkrZ9BCjQrhRovg5OHVA.jpeg', 'https://fourweekmba.com/wp-content/uploads/2023/01/openai-organizational-structur-1200x900.png', 'https://www.delcotimes.com/wp-content/uploads/2023/05/OpenAI_CEO_Congress_63364.jpg?w=525', 'https://i0.wp.com/fourweekmba.com/wp-content/uploads/2023/02/how-does-openai-make-money.png?fit=2560%2C1901&ssl=1', 'https://news.microsoft.com/source/wp-content/uploads/2023/01/openai3-1020x960-1-768x720.png'], 'additional_informations': \"OpenAI is a research organization that focuses on developing and deploying          artificial intelligence in a safe and beneficial way. They work on a wide range of AI-related projectsincluding machine learningnatural language processingroboticsand more. Their goal is to create          advanced AI systems that can help solve some of the world's most pressing problemswhile also ensuring          that these systems are safe and beneficial for everyone.\"}\n"
     ]
    }
   ],
   "source": [
    "import requests\n",
    "\n",
    "# define the base url\n",
    "base_url = 'http://localhost:8885'  # replace with your actual server address and port\n",
    "\n",
    "# define the endpoint\n",
    "endpoint = \"/company/\"\n",
    "\n",
    "# define the parameters for the GET request\n",
    "params = {\n",
    "    \"company_name\": \"OpenAI\",\n",
    "    \"company_country\": \"USA\",\n",
    "    \"company_website\": \"https://www.openai.com\",\n",
    "}\n",
    "\n",
    "# send a GET request\n",
    "response = requests.get(base_url + endpoint, params=params)\n",
    "\n",
    "# print the response\n",
    "print(response.json())"
   ]
  },
  {
   "cell_type": "code",
   "execution_count": 40,
   "metadata": {},
   "outputs": [],
   "source": [
    "data = \"\"\"\n",
    "\"additional_informations\":\n",
    "            \"Digital Transformation\" = \"Innoscripta offers digital transformation services to help businesses adapt to the digital age. They provide solutions for digital strategy, customer experience, data analytics, and process optimization. Their services aim to improve efficiency, productivity, and customer satisfaction.\",\n",
    "            \"Software Development\" = \"Innoscripta specializes in software development services, including web and mobile app development, software architecture, and quality assurance. They use agile methodologies and cutting-edge technologies to deliver high-quality software solutions.\",\n",
    "            \"IT Consulting\" = \"Innoscripta provides IT consulting services to help businesses align their IT strategy with their business goals. They offer services such as IT strategy development, IT governance, risk management, and IT project management. Their services aim to improve IT efficiency, reduce costs, and mitigate risks.\"\n",
    "\"\"\""
   ]
  },
  {
   "cell_type": "code",
   "execution_count": 42,
   "metadata": {},
   "outputs": [],
   "source": [
    "# Parse to dict\n",
    "additional_informations = {}\n",
    "\n",
    "# Split into lines and iterate\n",
    "for line in tst.split('\\n'):\n",
    "    # Ignore lines without '='\n",
    "    if '=' not in line:\n",
    "        continue\n",
    "\n",
    "    # Split line into key-value pair\n",
    "    key, value = line.split('=', 1)\n",
    "\n",
    "    # Remove unwanted characters from key and value\n",
    "    key = key.replace('\"', '').strip()\n",
    "    value = value.replace('\"', '').strip()\n",
    "\n",
    "    # Add to dictionary\n",
    "    additional_informations[key] = value\n"
   ]
  },
  {
   "cell_type": "code",
   "execution_count": 43,
   "metadata": {},
   "outputs": [
    {
     "data": {
      "text/plain": "{'Digital Transformation': 'Innoscripta offers digital transformation services to help businesses adapt to the digital age. They provide solutions for digital strategy, customer experience, data analytics, and process optimization. Their services aim to improve efficiency, productivity, and customer satisfaction.,',\n 'Software Development': 'Innoscripta specializes in software development services, including web and mobile app development, software architecture, and quality assurance. They use agile methodologies and cutting-edge technologies to deliver high-quality software solutions.,',\n 'IT Consulting': 'Innoscripta provides IT consulting services to help businesses align their IT strategy with their business goals. They offer services such as IT strategy development, IT governance, risk management, and IT project management. Their services aim to improve IT efficiency, reduce costs, and mitigate risks.'}"
     },
     "execution_count": 43,
     "metadata": {},
     "output_type": "execute_result"
    }
   ],
   "source": [
    "additional_informations"
   ]
  },
  {
   "cell_type": "code",
   "execution_count": 44,
   "metadata": {},
   "outputs": [],
   "source": [
    "tst2 = {\"oi\": additional_informations}"
   ]
  },
  {
   "cell_type": "code",
   "execution_count": 2,
   "metadata": {},
   "outputs": [],
   "source": [
    "search = GoogleSearch(\n",
    "    {\n",
    "        \"q\": \"Horsch GmbH & Co. KG\",\n",
    "        \"engine\": \"google_images\",\n",
    "        \"location\": \"Germany\",\n",
    "        \"api_key\": SERPAPI_KEY,\n",
    "        \"google_domain\": \"google.de\",\n",
    "        \"hl\": \"de\",\n",
    "        \"gl\": \"de\"\n",
    "    }\n",
    ")\n",
    "response = search.get_dict()"
   ]
  },
  {
   "cell_type": "code",
   "execution_count": 3,
   "metadata": {},
   "outputs": [
    {
     "data": {
      "text/plain": "{'search_metadata': {'id': '64713f5ef26ac692946906b8',\n  'status': 'Success',\n  'json_endpoint': 'https://serpapi.com/searches/bf7159697f498450/64713f5ef26ac692946906b8.json',\n  'created_at': '2023-05-26 23:23:10 UTC',\n  'processed_at': '2023-05-26 23:23:10 UTC',\n  'google_images_url': 'https://www.google.de/search?q=Horsch+GmbH+%26+Co.+KG&oq=Horsch+GmbH+%26+Co.+KG&uule=w+CAIQICIHR2VybWFueQ&hl=de&gl=de&tbm=isch',\n  'raw_html_file': 'https://serpapi.com/searches/bf7159697f498450/64713f5ef26ac692946906b8.html',\n  'total_time_taken': 1.39},\n 'search_parameters': {'engine': 'google_images',\n  'q': 'Horsch GmbH & Co. KG',\n  'location_requested': 'Germany',\n  'location_used': 'Germany',\n  'google_domain': 'google.de',\n  'hl': 'de',\n  'gl': 'de',\n  'device': 'desktop'},\n 'search_information': {'image_results_state': 'Results for exact spelling',\n  'menu_items': [{'position': 1,\n    'title': 'Alle',\n    'link': 'https://www.google.de/search?q=Horsch+GmbH+%26+Co.+KG&source=lmns&gl=de&hl=de&sa=X&ved=2ahUKEwjQh9SpkJT_AhVfKt4AHbDLDP0Q_AUoAHoECAEQAA',\n    'serpapi_link': 'https://serpapi.com/search.json?device=desktop&engine=google&gl=de&google_domain=google.com&hl=de&q=Horsch+GmbH+%26+Co.+KG'},\n   {'position': 2,\n    'title': 'Maps',\n    'link': 'https://maps.google.de/maps?q=Horsch+GmbH+%26+Co.+KG&source=lmns&entry=mt&gl=de&hl=de&sa=X&ved=2ahUKEwjQh9SpkJT_AhVfKt4AHbDLDP0Q_AUoAXoECAEQAQ'},\n   {'position': 3, 'title': 'Bilder'},\n   {'position': 4,\n    'title': 'Videos',\n    'link': 'https://www.google.de/search?q=Horsch+GmbH+%26+Co.+KG&source=lmns&tbm=vid&gl=de&hl=de&sa=X&ved=2ahUKEwjQh9SpkJT_AhVfKt4AHbDLDP0Q_AUoA3oECAEQAw',\n    'serpapi_link': 'https://serpapi.com/search.json?device=desktop&engine=google_videos&gl=de&google_domain=google.com&hl=de&q=Horsch+GmbH+%26+Co.+KG'},\n   {'position': 5,\n    'title': 'Shopping',\n    'link': 'https://www.google.de/search?q=Horsch+GmbH+%26+Co.+KG&source=lmns&tbm=shop&gl=de&hl=de&sa=X&ved=2ahUKEwjQh9SpkJT_AhVfKt4AHbDLDP0Q_AUoBHoECAEQBA',\n    'serpapi_link': 'https://serpapi.com/search.json?device=desktop&engine=google_shopping&gl=de&google_domain=google.com&hl=de&q=Horsch+GmbH+%26+Co.+KG'},\n   {'position': 6,\n    'title': 'Bücher',\n    'link': 'https://www.google.de/search?q=Horsch+GmbH+%26+Co.+KG&source=lmns&tbm=bks&gl=de&hl=de&sa=X&ved=2ahUKEwjQh9SpkJT_AhVfKt4AHbDLDP0Q_AUoAHoECAEQBw'},\n   {'position': 7,\n    'title': 'News',\n    'link': 'https://www.google.de/search?q=Horsch+GmbH+%26+Co.+KG&source=lmns&tbm=nws&gl=de&hl=de&sa=X&ved=2ahUKEwjQh9SpkJT_AhVfKt4AHbDLDP0Q_AUoAXoECAEQCA',\n    'serpapi_link': 'https://serpapi.com/search.json?device=desktop&engine=google&gl=de&google_domain=google.com&hl=de&q=Horsch+GmbH+%26+Co.+KG&tbm=nws'},\n   {'position': 8,\n    'title': 'Flüge',\n    'link': 'https://www.google.de/travel/flights?q=Horsch+GmbH+%26+Co.+KG&source=lmns&tbm=flm&gl=de&hl=de&sa=X&ved=2ahUKEwjQh9SpkJT_AhVfKt4AHbDLDP0Q_AUoAnoECAEQCQ'},\n   {'position': 9,\n    'title': 'Finanzen',\n    'link': 'https://www.google.de/search?q=Horsch+GmbH+%26+Co.+KG&source=lmns&tbm=fin&gl=de&hl=de&sa=X&ved=2ahUKEwjQh9SpkJT_AhVfKt4AHbDLDP0Q_AUoA3oECAEQCg'}]},\n 'suggested_searches': [{'name': 'horsch maschinen',\n   'link': 'https://www.google.de/search?q=Horsch+GmbH+%26+Co.+KG&tbm=isch&hl=de&gl=de&chips=q:horsch+gmbh+%26+co+kg,online_chips:horsch+maschinen:PI_72L99gK0%3D&sa=X&ved=2ahUKEwjQh9SpkJT_AhVfKt4AHbDLDP0Q4lYoAHoECAEQIw',\n   'chips': 'q:horsch+gmbh+%26+co+kg,online_chips:horsch+maschinen:PI_72L99gK0%3D',\n   'serpapi_link': 'https://serpapi.com/search.json?chips=q%3Ahorsch%2Bgmbh%2B%2526%2Bco%2Bkg%2Conline_chips%3Ahorsch%2Bmaschinen%3API_72L99gK0%253D&device=desktop&engine=google_images&gl=de&google_domain=google.de&hl=de&location=Germany&q=Horsch+GmbH+%26+Co.+KG',\n   'thumbnail': 'https://serpapi.com/searches/64713f5ef26ac692946906b8/images/3aca6841fddfe94b98fab4a3e2cf9e6b11caf8251d63ff11272d48664fb980e7.jpeg'},\n  {'name': 'düngerstreuer',\n   'link': 'https://www.google.de/search?q=Horsch+GmbH+%26+Co.+KG&tbm=isch&hl=de&gl=de&chips=q:horsch+gmbh+%26+co+kg,online_chips:d%C3%BCngerstreuer:i5H6gsE1wOo%3D&sa=X&ved=2ahUKEwjQh9SpkJT_AhVfKt4AHbDLDP0Q4lYoAXoECAEQJQ',\n   'chips': 'q:horsch+gmbh+%26+co+kg,online_chips:d%C3%BCngerstreuer:i5H6gsE1wOo%3D',\n   'serpapi_link': 'https://serpapi.com/search.json?chips=q%3Ahorsch%2Bgmbh%2B%2526%2Bco%2Bkg%2Conline_chips%3Ad%25C3%25BCngerstreuer%3Ai5H6gsE1wOo%253D&device=desktop&engine=google_images&gl=de&google_domain=google.de&hl=de&location=Germany&q=Horsch+GmbH+%26+Co.+KG',\n   'thumbnail': 'https://serpapi.com/searches/64713f5ef26ac692946906b8/images/3aca6841fddfe94b98fab4a3e2cf9e6b46c69b45c16a3424096ff975f6c1ac0b.jpeg'},\n  {'name': 'werbetechnik horsch',\n   'link': 'https://www.google.de/search?q=Horsch+GmbH+%26+Co.+KG&tbm=isch&hl=de&gl=de&chips=q:horsch+gmbh+%26+co+kg,online_chips:werbetechnik+horsch:tVg7HM3vxH4%3D&sa=X&ved=2ahUKEwjQh9SpkJT_AhVfKt4AHbDLDP0Q4lYoAnoECAEQJw',\n   'chips': 'q:horsch+gmbh+%26+co+kg,online_chips:werbetechnik+horsch:tVg7HM3vxH4%3D',\n   'serpapi_link': 'https://serpapi.com/search.json?chips=q%3Ahorsch%2Bgmbh%2B%2526%2Bco%2Bkg%2Conline_chips%3Awerbetechnik%2Bhorsch%3AtVg7HM3vxH4%253D&device=desktop&engine=google_images&gl=de&google_domain=google.de&hl=de&location=Germany&q=Horsch+GmbH+%26+Co.+KG',\n   'thumbnail': 'https://serpapi.com/searches/64713f5ef26ac692946906b8/images/3aca6841fddfe94b98fab4a3e2cf9e6b43e6c322739334009a98a45e4866149c.jpeg'},\n  {'name': 'horsch leeb',\n   'link': 'https://www.google.de/search?q=Horsch+GmbH+%26+Co.+KG&tbm=isch&hl=de&gl=de&chips=q:horsch+gmbh+%26+co+kg,online_chips:horsch+leeb:kRlb6z1qxyI%3D&sa=X&ved=2ahUKEwjQh9SpkJT_AhVfKt4AHbDLDP0Q4lYoA3oECAEQKQ',\n   'chips': 'q:horsch+gmbh+%26+co+kg,online_chips:horsch+leeb:kRlb6z1qxyI%3D',\n   'serpapi_link': 'https://serpapi.com/search.json?chips=q%3Ahorsch%2Bgmbh%2B%2526%2Bco%2Bkg%2Conline_chips%3Ahorsch%2Bleeb%3AkRlb6z1qxyI%253D&device=desktop&engine=google_images&gl=de&google_domain=google.de&hl=de&location=Germany&q=Horsch+GmbH+%26+Co.+KG',\n   'thumbnail': 'https://serpapi.com/searches/64713f5ef26ac692946906b8/images/3aca6841fddfe94b98fab4a3e2cf9e6b66aeb68a501027255ba7529d39315b45.jpeg'},\n  {'name': 'aachener papierverwertung',\n   'link': 'https://www.google.de/search?q=Horsch+GmbH+%26+Co.+KG&tbm=isch&hl=de&gl=de&chips=q:horsch+gmbh+%26+co+kg,online_chips:aachener+papierverwertung:XC-C9N4px7s%3D&sa=X&ved=2ahUKEwjQh9SpkJT_AhVfKt4AHbDLDP0Q4lYoBHoECAEQKw',\n   'chips': 'q:horsch+gmbh+%26+co+kg,online_chips:aachener+papierverwertung:XC-C9N4px7s%3D',\n   'serpapi_link': 'https://serpapi.com/search.json?chips=q%3Ahorsch%2Bgmbh%2B%2526%2Bco%2Bkg%2Conline_chips%3Aaachener%2Bpapierverwertung%3AXC-C9N4px7s%253D&device=desktop&engine=google_images&gl=de&google_domain=google.de&hl=de&location=Germany&q=Horsch+GmbH+%26+Co.+KG',\n   'thumbnail': 'https://serpapi.com/searches/64713f5ef26ac692946906b8/images/3aca6841fddfe94b98fab4a3e2cf9e6bb12858ab8be06734b6f89c4192f741a9.jpeg'},\n  {'name': 'autotechnik horsch',\n   'link': 'https://www.google.de/search?q=Horsch+GmbH+%26+Co.+KG&tbm=isch&hl=de&gl=de&chips=q:horsch+gmbh+%26+co+kg,online_chips:autotechnik+horsch:JBk9xvNnQJY%3D&sa=X&ved=2ahUKEwjQh9SpkJT_AhVfKt4AHbDLDP0Q4lYoBXoECAEQLQ',\n   'chips': 'q:horsch+gmbh+%26+co+kg,online_chips:autotechnik+horsch:JBk9xvNnQJY%3D',\n   'serpapi_link': 'https://serpapi.com/search.json?chips=q%3Ahorsch%2Bgmbh%2B%2526%2Bco%2Bkg%2Conline_chips%3Aautotechnik%2Bhorsch%3AJBk9xvNnQJY%253D&device=desktop&engine=google_images&gl=de&google_domain=google.de&hl=de&location=Germany&q=Horsch+GmbH+%26+Co.+KG',\n   'thumbnail': 'https://serpapi.com/searches/64713f5ef26ac692946906b8/images/3aca6841fddfe94b98fab4a3e2cf9e6b6b721386d9002705b32671a8627556ac.png'},\n  {'name': 'bodenbearbeitung',\n   'link': 'https://www.google.de/search?q=Horsch+GmbH+%26+Co.+KG&tbm=isch&hl=de&gl=de&chips=q:horsch+gmbh+%26+co+kg,online_chips:bodenbearbeitung:5ZqR6SscByU%3D&sa=X&ved=2ahUKEwjQh9SpkJT_AhVfKt4AHbDLDP0Q4lYoBnoECAEQLw',\n   'chips': 'q:horsch+gmbh+%26+co+kg,online_chips:bodenbearbeitung:5ZqR6SscByU%3D',\n   'serpapi_link': 'https://serpapi.com/search.json?chips=q%3Ahorsch%2Bgmbh%2B%2526%2Bco%2Bkg%2Conline_chips%3Abodenbearbeitung%3A5ZqR6SscByU%253D&device=desktop&engine=google_images&gl=de&google_domain=google.de&hl=de&location=Germany&q=Horsch+GmbH+%26+Co.+KG',\n   'thumbnail': 'https://serpapi.com/searches/64713f5ef26ac692946906b8/images/3aca6841fddfe94b98fab4a3e2cf9e6b12ee9b092dfff17f686fd000bf6e59c2.jpeg'},\n  {'name': 'augsburg',\n   'link': 'https://www.google.de/search?q=Horsch+GmbH+%26+Co.+KG&tbm=isch&hl=de&gl=de&chips=q:horsch+gmbh+%26+co+kg,online_chips:augsburg:3DMpTph-7uk%3D&sa=X&ved=2ahUKEwjQh9SpkJT_AhVfKt4AHbDLDP0Q4lYoB3oECAEQMQ',\n   'chips': 'q:horsch+gmbh+%26+co+kg,online_chips:augsburg:3DMpTph-7uk%3D',\n   'serpapi_link': 'https://serpapi.com/search.json?chips=q%3Ahorsch%2Bgmbh%2B%2526%2Bco%2Bkg%2Conline_chips%3Aaugsburg%3A3DMpTph-7uk%253D&device=desktop&engine=google_images&gl=de&google_domain=google.de&hl=de&location=Germany&q=Horsch+GmbH+%26+Co.+KG',\n   'thumbnail': 'https://serpapi.com/searches/64713f5ef26ac692946906b8/images/3aca6841fddfe94b98fab4a3e2cf9e6b475670c222ed0df0bd92c223046926b8.jpeg'},\n  {'name': 'horsch landmaschinen',\n   'link': 'https://www.google.de/search?q=Horsch+GmbH+%26+Co.+KG&tbm=isch&hl=de&gl=de&chips=q:horsch+gmbh+%26+co+kg,online_chips:horsch+landmaschinen:NLeKhA6Ncrs%3D&sa=X&ved=2ahUKEwjQh9SpkJT_AhVfKt4AHbDLDP0Q4lYoCHoECAEQMw',\n   'chips': 'q:horsch+gmbh+%26+co+kg,online_chips:horsch+landmaschinen:NLeKhA6Ncrs%3D',\n   'serpapi_link': 'https://serpapi.com/search.json?chips=q%3Ahorsch%2Bgmbh%2B%2526%2Bco%2Bkg%2Conline_chips%3Ahorsch%2Blandmaschinen%3ANLeKhA6Ncrs%253D&device=desktop&engine=google_images&gl=de&google_domain=google.de&hl=de&location=Germany&q=Horsch+GmbH+%26+Co.+KG',\n   'thumbnail': 'https://serpapi.com/searches/64713f5ef26ac692946906b8/images/3aca6841fddfe94b98fab4a3e2cf9e6baa17d9cb3cabea6e27e6e7b2c3bebe27.jpeg'},\n  {'name': 'firma horsch aachen',\n   'link': 'https://www.google.de/search?q=Horsch+GmbH+%26+Co.+KG&tbm=isch&hl=de&gl=de&chips=q:horsch+gmbh+%26+co+kg,online_chips:firma+horsch+aachen:WYy9Bdc9gdw%3D&sa=X&ved=2ahUKEwjQh9SpkJT_AhVfKt4AHbDLDP0Q4lYoCXoECAEQNQ',\n   'chips': 'q:horsch+gmbh+%26+co+kg,online_chips:firma+horsch+aachen:WYy9Bdc9gdw%3D',\n   'serpapi_link': 'https://serpapi.com/search.json?chips=q%3Ahorsch%2Bgmbh%2B%2526%2Bco%2Bkg%2Conline_chips%3Afirma%2Bhorsch%2Baachen%3AWYy9Bdc9gdw%253D&device=desktop&engine=google_images&gl=de&google_domain=google.de&hl=de&location=Germany&q=Horsch+GmbH+%26+Co.+KG',\n   'thumbnail': 'https://serpapi.com/searches/64713f5ef26ac692946906b8/images/3aca6841fddfe94b98fab4a3e2cf9e6ba65af336e045d74dda1ca6b33bb4a191.jpeg'},\n  {'name': 'containerdienst horsch',\n   'link': 'https://www.google.de/search?q=Horsch+GmbH+%26+Co.+KG&tbm=isch&hl=de&gl=de&chips=q:horsch+gmbh+%26+co+kg,online_chips:containerdienst+horsch:DeGLEBXdXWo%3D&sa=X&ved=2ahUKEwjQh9SpkJT_AhVfKt4AHbDLDP0Q4lYoCnoECAEQNw',\n   'chips': 'q:horsch+gmbh+%26+co+kg,online_chips:containerdienst+horsch:DeGLEBXdXWo%3D',\n   'serpapi_link': 'https://serpapi.com/search.json?chips=q%3Ahorsch%2Bgmbh%2B%2526%2Bco%2Bkg%2Conline_chips%3Acontainerdienst%2Bhorsch%3ADeGLEBXdXWo%253D&device=desktop&engine=google_images&gl=de&google_domain=google.de&hl=de&location=Germany&q=Horsch+GmbH+%26+Co.+KG',\n   'thumbnail': 'https://serpapi.com/searches/64713f5ef26ac692946906b8/images/3aca6841fddfe94b98fab4a3e2cf9e6b47e303e808f36d386d32c19e1774cfd1.jpeg'},\n  {'name': 'landwirtschaft',\n   'link': 'https://www.google.de/search?q=Horsch+GmbH+%26+Co.+KG&tbm=isch&hl=de&gl=de&chips=q:horsch+gmbh+%26+co+kg,online_chips:landwirtschaft:bUTvyYki8lE%3D&sa=X&ved=2ahUKEwjQh9SpkJT_AhVfKt4AHbDLDP0Q4lYoC3oECAEQOQ',\n   'chips': 'q:horsch+gmbh+%26+co+kg,online_chips:landwirtschaft:bUTvyYki8lE%3D',\n   'serpapi_link': 'https://serpapi.com/search.json?chips=q%3Ahorsch%2Bgmbh%2B%2526%2Bco%2Bkg%2Conline_chips%3Alandwirtschaft%3AbUTvyYki8lE%253D&device=desktop&engine=google_images&gl=de&google_domain=google.de&hl=de&location=Germany&q=Horsch+GmbH+%26+Co.+KG',\n   'thumbnail': 'https://serpapi.com/searches/64713f5ef26ac692946906b8/images/3aca6841fddfe94b98fab4a3e2cf9e6bdee6b8e3e48d638d6a2dfcbf7c14b073.jpeg'},\n  {'name': 'landtechnik',\n   'link': 'https://www.google.de/search?q=Horsch+GmbH+%26+Co.+KG&tbm=isch&hl=de&gl=de&chips=q:horsch+gmbh+%26+co+kg,online_chips:landtechnik:H3ZCFrBopRw%3D&sa=X&ved=2ahUKEwjQh9SpkJT_AhVfKt4AHbDLDP0Q4lYoDHoECAEQOw',\n   'chips': 'q:horsch+gmbh+%26+co+kg,online_chips:landtechnik:H3ZCFrBopRw%3D',\n   'serpapi_link': 'https://serpapi.com/search.json?chips=q%3Ahorsch%2Bgmbh%2B%2526%2Bco%2Bkg%2Conline_chips%3Alandtechnik%3AH3ZCFrBopRw%253D&device=desktop&engine=google_images&gl=de&google_domain=google.de&hl=de&location=Germany&q=Horsch+GmbH+%26+Co.+KG',\n   'thumbnail': 'https://encrypted-tbn0.gstatic.com/images?q=tbn:ANd9GcSFtOrRYkyxHLAInbR_J1n2S8YOv0C3V8kNKKJ59CVHs9VZc0Pt&usqp=CAU'},\n  {'name': 'schaltschrankbau',\n   'link': 'https://www.google.de/search?q=Horsch+GmbH+%26+Co.+KG&tbm=isch&hl=de&gl=de&chips=q:horsch+gmbh+%26+co+kg,online_chips:schaltschrankbau:LdBmeitkBDA%3D&sa=X&ved=2ahUKEwjQh9SpkJT_AhVfKt4AHbDLDP0Q4lYoDXoECAEQPQ',\n   'chips': 'q:horsch+gmbh+%26+co+kg,online_chips:schaltschrankbau:LdBmeitkBDA%3D',\n   'serpapi_link': 'https://serpapi.com/search.json?chips=q%3Ahorsch%2Bgmbh%2B%2526%2Bco%2Bkg%2Conline_chips%3Aschaltschrankbau%3ALdBmeitkBDA%253D&device=desktop&engine=google_images&gl=de&google_domain=google.de&hl=de&location=Germany&q=Horsch+GmbH+%26+Co.+KG',\n   'thumbnail': 'https://encrypted-tbn0.gstatic.com/images?q=tbn:ANd9GcSjrhuApGkAx2hhR3enj47eJKpyItI2lF8bdV0PrAkms1lLPswv&usqp=CAU'},\n  {'name': 'michael horsch',\n   'link': 'https://www.google.de/search?q=Horsch+GmbH+%26+Co.+KG&tbm=isch&hl=de&gl=de&chips=q:horsch+gmbh+%26+co+kg,online_chips:michael+horsch:foWRSxEaLxs%3D&sa=X&ved=2ahUKEwjQh9SpkJT_AhVfKt4AHbDLDP0Q4lYoDnoECAEQPw',\n   'chips': 'q:horsch+gmbh+%26+co+kg,online_chips:michael+horsch:foWRSxEaLxs%3D',\n   'serpapi_link': 'https://serpapi.com/search.json?chips=q%3Ahorsch%2Bgmbh%2B%2526%2Bco%2Bkg%2Conline_chips%3Amichael%2Bhorsch%3AfoWRSxEaLxs%253D&device=desktop&engine=google_images&gl=de&google_domain=google.de&hl=de&location=Germany&q=Horsch+GmbH+%26+Co.+KG',\n   'thumbnail': 'https://encrypted-tbn0.gstatic.com/images?q=tbn:ANd9GcSr0TeZOyGWPwC1y-KWEYP43Q704TW57cfCGUQz78nyw7Yl2qTq&usqp=CAU'}],\n 'images_results': [{'position': 1,\n   'thumbnail': 'https://serpapi.com/searches/64713f5ef26ac692946906b8/images/68e6ffc5601e693cef3e80240c87c7852545bd57e426572f14454e65bc297266.png',\n   'related_content_id': 'Q1dYeTBtaWhKS2Eyc01cIixcIk5xd2hPbXBlMURDby1N',\n   'serpapi_related_content_link': 'https://serpapi.com/search.json?engine=google_images_related_content&gl=de&hl=de&q=Horsch+GmbH+%26+Co.+KG&related_content_id=Q1dYeTBtaWhKS2Eyc01cIixcIk5xd2hPbXBlMURDby1N',\n   'source': 'www.horsch.de',\n   'title': 'Horsch GmbH & Co. KG',\n   'link': 'https://www.horsch.de/',\n   'original': 'https://www.horsch.de/wp-content/uploads/2020/01/Horsch-Logo_2018-transparenter-Hintergrund.png',\n   'original_width': 1447,\n   'original_height': 670,\n   'is_product': False},\n  {'position': 2,\n   'thumbnail': 'https://serpapi.com/searches/64713f5ef26ac692946906b8/images/68e6ffc5601e693c3c50afeba2495ab981fac41e0d63f961f84faf35fb9a0fc8.jpeg',\n   'related_content_id': 'dThjcDN2U0NMMXhJeE1cIixcIjU5YU5NVVh0Z0J1dUVN',\n   'serpapi_related_content_link': 'https://serpapi.com/search.json?engine=google_images_related_content&gl=de&hl=de&q=Horsch+GmbH+%26+Co.+KG&related_content_id=dThjcDN2U0NMMXhJeE1cIixcIjU5YU5NVVh0Z0J1dUVN',\n   'source': 'Das Örtliche',\n   'title': 'Aachener-Papierverwertung & Containerdienst in Aachen ⇒ in Das Örtliche',\n   'link': 'https://www.dasoertliche.de/Themen/Aachener-Papierverwertung-Containerdienst-Horsch-GmbH-Co-KG-Aachen-Wei%C3%9Fwasserstr',\n   'original': 'https://102m.de/02/0103/0001/53024285_1.adn.png',\n   'original_width': 598,\n   'original_height': 598,\n   'is_product': False},\n  {'position': 3,\n   'thumbnail': 'https://serpapi.com/searches/64713f5ef26ac692946906b8/images/68e6ffc5601e693c5394d1fded8fd835a5b551a53f3d04cb650807c166ee3a7e.jpeg',\n   'related_content_id': 'RG5RT2toSXE1SEgzdk1cIixcImh0YVpFWDhtZ292amFN',\n   'serpapi_related_content_link': 'https://serpapi.com/search.json?engine=google_images_related_content&gl=de&hl=de&q=Horsch+GmbH+%26+Co.+KG&related_content_id=RG5RT2toSXE1SEgzdk1cIixcImh0YVpFWDhtZ292amFN',\n   'source': 'www.horsch.com',\n   'title': 'Home | HORSCH',\n   'link': 'https://www.horsch.com/home',\n   'original': 'https://www.horsch.com/fileadmin/_processed_/e/a/csm_HORSCH_neues_Werk_in_Brasilien_2bc9d97ae9.jpg',\n   'original_width': 640,\n   'original_height': 360,\n   'is_product': False},\n  {'position': 4,\n   'thumbnail': 'https://serpapi.com/searches/64713f5ef26ac692946906b8/images/68e6ffc5601e693c5a6301861ad7dd51a89097b09ede43165e060fe4dc78554e.jpeg',\n   'related_content_id': 'ZWVTWHBWU3dfN1pFUk1cIixcIjh1TEpfb2NybUlnbHZN',\n   'serpapi_related_content_link': 'https://serpapi.com/search.json?engine=google_images_related_content&gl=de&hl=de&q=Horsch+GmbH+%26+Co.+KG&related_content_id=ZWVTWHBWU3dfN1pFUk1cIixcIjh1TEpfb2NybUlnbHZN',\n   'source': 'golocal',\n   'title': 'Bilder und Fotos zu Aachener Papierverwertung & Containerdienst Horsch GmbH  & Co. KG in Aachen, Weißwasserstraße',\n   'link': 'https://www.golocal.de/aachen/recycling/aachener-papierverwertung-containerdienst-horsch-gmbh-co-kg-Fki/fotos/',\n   'original': 'https://s3.eu-central-1.amazonaws.com/uberall-userpics-prod/344956/0u42aTgrCW.jpg',\n   'original_width': 1144,\n   'original_height': 480,\n   'is_product': False},\n  {'position': 5,\n   'thumbnail': 'https://serpapi.com/searches/64713f5ef26ac692946906b8/images/68e6ffc5601e693c21df2c12d711e011b7e5edc3124336510481286e158ca654.jpeg',\n   'related_content_id': 'SlFjY0stbVJtdVZMV01cIixcIklVTjRoNkJnWDcybkdN',\n   'serpapi_related_content_link': 'https://serpapi.com/search.json?engine=google_images_related_content&gl=de&hl=de&q=Horsch+GmbH+%26+Co.+KG&related_content_id=SlFjY0stbVJtdVZMV01cIixcIklVTjRoNkJnWDcybkdN',\n   'source': 'Feick Landtechnik',\n   'title': 'HORSCH - Feick Landtechnik GmbH Co KG',\n   'link': 'https://feick-landtechnik.net/partner/horsch/',\n   'original': 'https://feick-landtechnik.net/wp-content/uploads/2017/06/Horsch-1155x600.jpg',\n   'original_width': 1155,\n   'original_height': 600,\n   'is_product': False},\n  {'position': 6,\n   'thumbnail': 'https://serpapi.com/searches/64713f5ef26ac692946906b8/images/68e6ffc5601e693cf637fcbd58966b8ef96d1e6815f69d0cb7db7b18fe43df8e.jpeg',\n   'related_content_id': 'QnlKN1VRM1VWU2NsZ01cIixcIjR5N0Y0MjJ2Snk1dFRN',\n   'serpapi_related_content_link': 'https://serpapi.com/search.json?engine=google_images_related_content&gl=de&hl=de&q=Horsch+GmbH+%26+Co.+KG&related_content_id=QnlKN1VRM1VWU2NsZ01cIixcIjR5N0Y0MjJ2Snk1dFRN',\n   'source': 'golocal',\n   'title': 'Aachener Papierverwertung & Containerdienst Horsch GmbH & Co. KG - 5 Fotos  - Aachen - Weißwasserstraße | golocal',\n   'link': 'https://www.golocal.de/aachen/recycling/aachener-papierverwertung-containerdienst-horsch-gmbh-co-kg-Fki/',\n   'original': 'https://s3.eu-central-1.amazonaws.com/uberall-userpics-prod/344956/sJFQpvwegR.jpg',\n   'original_width': 987,\n   'original_height': 480,\n   'is_product': False},\n  {'position': 7,\n   'thumbnail': 'https://serpapi.com/searches/64713f5ef26ac692946906b8/images/68e6ffc5601e693c2ac6e7a8cc673a05f0643cac2c7c2e910c617f193c797d94.jpeg',\n   'related_content_id': 'VXBKeUlJM1FaS2JJeE1cIixcImlnSVdFcHI5RnljUXlN',\n   'serpapi_related_content_link': 'https://serpapi.com/search.json?engine=google_images_related_content&gl=de&hl=de&q=Horsch+GmbH+%26+Co.+KG&related_content_id=VXBKeUlJM1FaS2JJeE1cIixcImlnSVdFcHI5RnljUXlN',\n   'source': 'Wikipedia',\n   'title': 'Horsch Maschinen – Wikipedia',\n   'link': 'https://de.wikipedia.org/wiki/Horsch_Maschinen',\n   'original': 'https://upload.wikimedia.org/wikipedia/commons/thumb/e/e0/Schlepper_mit_S%C3%A4maschine_DSCF5827.jpg/1200px-Schlepper_mit_S%C3%A4maschine_DSCF5827.jpg',\n   'original_width': 1200,\n   'original_height': 900,\n   'is_product': False},\n  {'position': 8,\n   'thumbnail': 'https://serpapi.com/searches/64713f5ef26ac692946906b8/images/68e6ffc5601e693c56b800fbd25e93bc508c8fc442bf67ff2b3bd1443d9ab74c.jpeg',\n   'related_content_id': 'dTNLTkRvU0t0elFFd01cIixcImh0YVpFWDhtZ292amFN',\n   'serpapi_related_content_link': 'https://serpapi.com/search.json?engine=google_images_related_content&gl=de&hl=de&q=Horsch+GmbH+%26+Co.+KG&related_content_id=dTNLTkRvU0t0elFFd01cIixcImh0YVpFWDhtZ292amFN',\n   'source': 'www.horsch.com',\n   'title': 'Home | HORSCH',\n   'link': 'https://www.horsch.com/home',\n   'tag': 'vor 1 Tag',\n   'original': 'https://www.horsch.com/fileadmin/_processed_/5/a/csm_23_17A2945-HDR_d0b9c75e53.jpg',\n   'original_width': 1920,\n   'original_height': 720,\n   'is_product': True},\n  {'position': 9,\n   'thumbnail': 'https://serpapi.com/searches/64713f5ef26ac692946906b8/images/68e6ffc5601e693cd8d3ace5aacc6a82ebe54d26ef0701e30634e10170deb7dc.jpeg',\n   'related_content_id': 'cjhGM1VIcUpzVUlTV01cIixcIm5NbVVabTA3aERfZ3FN',\n   'serpapi_related_content_link': 'https://serpapi.com/search.json?engine=google_images_related_content&gl=de&hl=de&q=Horsch+GmbH+%26+Co.+KG&related_content_id=cjhGM1VIcUpzVUlTV01cIixcIm5NbVVabTA3aERfZ3FN',\n   'source': 'www.horsch-gmbh.com',\n   'title': 'Schaltschränke & mehr | Horsch GmbH Augsburg',\n   'link': 'https://www.horsch-gmbh.com/',\n   'original': 'https://www.horsch-gmbh.com/wp-content/uploads/horsch.png',\n   'original_width': 1526,\n   'original_height': 450,\n   'is_product': False},\n  {'position': 10,\n   'thumbnail': 'https://serpapi.com/searches/64713f5ef26ac692946906b8/images/68e6ffc5601e693c60259430882b3674c2a58ee791450877751342cbfce9126c.jpeg',\n   'related_content_id': 'TUFSa0szcG0wQzNfWk1cIixcIm5NbVVabTA3aERfZ3FN',\n   'serpapi_related_content_link': 'https://serpapi.com/search.json?engine=google_images_related_content&gl=de&hl=de&q=Horsch+GmbH+%26+Co.+KG&related_content_id=TUFSa0szcG0wQzNfWk1cIixcIm5NbVVabTA3aERfZ3FN',\n   'source': 'www.horsch-gmbh.com',\n   'title': 'Schaltschränke & mehr | Horsch GmbH Augsburg',\n   'link': 'https://www.horsch-gmbh.com/',\n   'original': 'https://www.horsch-gmbh.com/wp-content/uploads/DSC_0088b.jpg',\n   'original_width': 6000,\n   'original_height': 4000,\n   'is_product': False},\n  {'position': 11,\n   'thumbnail': 'https://serpapi.com/searches/64713f5ef26ac692946906b8/images/68e6ffc5601e693c3c50afeba2495ab9edbe800a7c20d265970c8d1fca0f29f2.jpeg',\n   'related_content_id': 'M0lFOTF3VzlqRmxwc01cIixcInJWLXpsZzQ4d3hYUzRN',\n   'serpapi_related_content_link': 'https://serpapi.com/search.json?engine=google_images_related_content&gl=de&hl=de&q=Horsch+GmbH+%26+Co.+KG&related_content_id=M0lFOTF3VzlqRmxwc01cIixcInJWLXpsZzQ4d3hYUzRN',\n   'source': 'Kununu',\n   'title': 'HORSCH Maschinen als Arbeitgeber: Gehalt, Karriere, Benefits',\n   'link': 'https://www.kununu.com/de/horsch-maschinen1',\n   'original': 'https://assets.kununu.com/images/images_company/202207/resize_800/horsch-maschinen-gmbh_e08b4b97fe4094b1c6a05914f7eb519e.jpg',\n   'original_width': 1200,\n   'original_height': 800,\n   'is_product': False},\n  {'position': 12,\n   'thumbnail': 'https://serpapi.com/searches/64713f5ef26ac692946906b8/images/68e6ffc5601e693c3c50afeba2495ab9b651232f91a669778a1e276e6313ebe5.jpeg',\n   'related_content_id': 'NnNBMXdZTDZrWXZOY01cIixcIi1nbjVBUjZIbnlpRHBN',\n   'serpapi_related_content_link': 'https://serpapi.com/search.json?engine=google_images_related_content&gl=de&hl=de&q=Horsch+GmbH+%26+Co.+KG&related_content_id=NnNBMXdZTDZrWXZOY01cIixcIi1nbjVBUjZIbnlpRHBN',\n   'source': 'agrarheute.com',\n   'title': 'Horsch-Premiere XXL: Erster Düngerstreuer auf Acker gesichtet |  agrarheute.com',\n   'link': 'https://www.agrarheute.com/technik/ackerbautechnik/horsch-premiere-xxl-erster-duengerstreuer-acker-gesichtet-605965',\n   'original': 'https://www.agrarheute.com/sites/agrarheute.com/files/2023-04/horsch-leeb-xeric-front-47813858.jpg',\n   'original_width': 2000,\n   'original_height': 969,\n   'is_product': False},\n  {'position': 13,\n   'thumbnail': 'https://serpapi.com/searches/64713f5ef26ac692946906b8/images/68e6ffc5601e693c3c50afeba2495ab98eb1d6d1dff86a933775ac45886a0875.jpeg',\n   'related_content_id': 'Q3Z6aW9BYWZVWi0tWE1cIixcIm5NbVVabTA3aERfZ3FN',\n   'serpapi_related_content_link': 'https://serpapi.com/search.json?engine=google_images_related_content&gl=de&hl=de&q=Horsch+GmbH+%26+Co.+KG&related_content_id=Q3Z6aW9BYWZVWi0tWE1cIixcIm5NbVVabTA3aERfZ3FN',\n   'source': 'www.horsch-gmbh.com',\n   'title': 'Schaltschränke & mehr | Horsch GmbH Augsburg',\n   'link': 'https://www.horsch-gmbh.com/',\n   'original': 'https://www.horsch-gmbh.com/wp-content/uploads/Service.jpg',\n   'original_width': 1920,\n   'original_height': 1280,\n   'is_product': False},\n  {'position': 14,\n   'thumbnail': 'https://serpapi.com/searches/64713f5ef26ac692946906b8/images/68e6ffc5601e693c3c50afeba2495ab9701f8b858746f9310a20bd8b7c63f44c.jpeg',\n   'related_content_id': 'c3JDY1gyTDJ0ajM3Sk1cIixcImdVMTNyX2FTNkRmcFJN',\n   'serpapi_related_content_link': 'https://serpapi.com/search.json?engine=google_images_related_content&gl=de&hl=de&q=Horsch+GmbH+%26+Co.+KG&related_content_id=c3JDY1gyTDJ0ajM3Sk1cIixcImdVMTNyX2FTNkRmcFJN',\n   'source': 'horsch-gruppe.de',\n   'title': 'Gebrüder Horsch GmbH – Start',\n   'link': 'https://horsch-gruppe.de/',\n   'original': 'https://horsch-gruppe.de/images/logo_Werbetechnik.jpg',\n   'original_width': 1600,\n   'original_height': 437,\n   'is_product': False},\n  {'position': 15,\n   'thumbnail': 'https://serpapi.com/searches/64713f5ef26ac692946906b8/images/68e6ffc5601e693c3c50afeba2495ab9566c62ffe60912f11ea82560b449c37d.jpeg',\n   'related_content_id': 'VWZJaWljbnZSRzNfLU1cIixcIldvZ2FtSXFkc0Y5NzBN',\n   'serpapi_related_content_link': 'https://serpapi.com/search.json?engine=google_images_related_content&gl=de&hl=de&q=Horsch+GmbH+%26+Co.+KG&related_content_id=VWZJaWljbnZSRzNfLU1cIixcIldvZ2FtSXFkc0Y5NzBN',\n   'source': 'agrarheute.com',\n   'title': 'Nicht Deutschland: Hier investiert Horsch 60 Millionen | agrarheute.com',\n   'link': 'https://www.agrarheute.com/technik/ackerbautechnik/deutschland-investiert-horsch-60-millionen-606294',\n   'original': 'https://www.agrarheute.com/sites/agrarheute.com/files/2023-05/horsch-grubber-raupentraktor.jpg',\n   'original_width': 2330,\n   'original_height': 1553,\n   'is_product': False},\n  {'position': 16,\n   'thumbnail': 'https://serpapi.com/searches/64713f5ef26ac692946906b8/images/68e6ffc5601e693c3c50afeba2495ab95b08cf6f8e6daf4fa304a28035509885.jpeg',\n   'related_content_id': 'Z0NjYWx1aldTM2M0RU1cIixcIjZOcmFUTW1IbTNsaGFN',\n   'serpapi_related_content_link': 'https://serpapi.com/search.json?engine=google_images_related_content&gl=de&hl=de&q=Horsch+GmbH+%26+Co.+KG&related_content_id=Z0NjYWx1aldTM2M0RU1cIixcIjZOcmFUTW1IbTNsaGFN',\n   'source': 'Cylex',\n   'title': 'Aachener Papierverwertung & Containerdienst Horsch GmbH & Co. KG ▷,  Recyclinghof - Öffnungszeiten',\n   'link': 'https://web2.cylex.de/firma-home/aachener-papierverwertung-_-containerdienst-horsch-gmbh-_-co--kg-12641351.html',\n   'original': 'https://media.cylex.de/companies/1264/1351/logo/logo57806036.jpg',\n   'original_width': 250,\n   'original_height': 250,\n   'is_product': False},\n  {'position': 17,\n   'thumbnail': 'https://serpapi.com/searches/64713f5ef26ac692946906b8/images/68e6ffc5601e693c3c50afeba2495ab9e3a9d32e35ca4b2c7b2d4cad2f252d86.jpeg',\n   'related_content_id': 'SjJzczJpb0NWamQyaE1cIixcImh0YVpFWDhtZ292amFN',\n   'serpapi_related_content_link': 'https://serpapi.com/search.json?engine=google_images_related_content&gl=de&hl=de&q=Horsch+GmbH+%26+Co.+KG&related_content_id=SjJzczJpb0NWamQyaE1cIixcImh0YVpFWDhtZ292amFN',\n   'source': 'www.horsch.com',\n   'title': 'Home | HORSCH',\n   'link': 'https://www.horsch.com/home',\n   'tag': 'vor 2 Tagen',\n   'original': 'https://www.horsch.com/fileadmin/_processed_/0/5/csm_23_27C4933_35715b5b24.jpg',\n   'original_width': 1920,\n   'original_height': 720,\n   'is_product': True},\n  {'position': 18,\n   'thumbnail': 'https://serpapi.com/searches/64713f5ef26ac692946906b8/images/68e6ffc5601e693c3c50afeba2495ab9893fd5e0fd938d10797c47f67cd35984.jpeg',\n   'related_content_id': 'UGo5MWxWeXlOM0loYU1cIixcIkZyX2NVYkVLc2RqTFBN',\n   'serpapi_related_content_link': 'https://serpapi.com/search.json?engine=google_images_related_content&gl=de&hl=de&q=Horsch+GmbH+%26+Co.+KG&related_content_id=UGo5MWxWeXlOM0loYU1cIixcIkZyX2NVYkVLc2RqTFBN',\n   'source': '11880',\n   'title': 'Autotechnik-Horsch Osnabrück | Öffnungszeiten | Telefon | Adresse',\n   'link': 'https://www.11880.com/branchenbuch/osnabrueck/250320998B41971686/autotechnik-horsch-gmbh-co-kg.html',\n   'original': 'https://cdn.11880.com/autotechnik-horsch-gmbh-co-kg_18775032_mw640h480_osnabrueck.jpg',\n   'original_width': 569,\n   'original_height': 480,\n   'is_product': False},\n  {'position': 19,\n   'thumbnail': 'https://serpapi.com/searches/64713f5ef26ac692946906b8/images/68e6ffc5601e693c3c50afeba2495ab958238122686fe803aa63f43c01c2f505.jpeg',\n   'related_content_id': 'TnFNNVN4cmN2bG1xYk1cIixcImh0YVpFWDhtZ292amFN',\n   'serpapi_related_content_link': 'https://serpapi.com/search.json?engine=google_images_related_content&gl=de&hl=de&q=Horsch+GmbH+%26+Co.+KG&related_content_id=TnFNNVN4cmN2bG1xYk1cIixcImh0YVpFWDhtZ292amFN',\n   'source': 'www.horsch.com',\n   'title': 'Home | HORSCH',\n   'link': 'https://www.horsch.com/home',\n   'tag': 'vor 1 Tag',\n   'original': 'https://www.horsch.com/fileadmin/_processed_/b/b/csm_23_22A4240_052022_ac416a944a.jpg',\n   'original_width': 1920,\n   'original_height': 720,\n   'is_product': True},\n  {'position': 20,\n   'thumbnail': 'https://serpapi.com/searches/64713f5ef26ac692946906b8/images/68e6ffc5601e693c3c50afeba2495ab9f1271e5937fb3a9a45374f673e1783b0.jpeg',\n   'related_content_id': 'enpta0xfZjZNQWl0NU1cIixcIkpNMU1HSFVlQmp3YTlN',\n   'serpapi_related_content_link': 'https://serpapi.com/search.json?engine=google_images_related_content&gl=de&hl=de&q=Horsch+GmbH+%26+Co.+KG&related_content_id=enpta0xfZjZNQWl0NU1cIixcIkpNMU1HSFVlQmp3YTlN',\n   'source': 'HORSCH',\n   'title': 'Produkte | HORSCH',\n   'link': 'https://www.horsch.com/produkte',\n   'original': 'https://www.horsch.com/fileadmin/_processed_/d/9/csm_23034_390e86a983.jpg',\n   'original_width': 465,\n   'original_height': 262,\n   'is_product': False},\n  {'position': 21,\n   'thumbnail': 'https://encrypted-tbn0.gstatic.com/images?q=tbn:ANd9GcTlJnFBoJjdwwA_kMqCxeyykdppAawMrpHW9Q&usqp=CAU',\n   'related_content_id': 'WFF6ZVNNWjByYXpwbk1cIixcImh0YVpFWDhtZ292amFN',\n   'serpapi_related_content_link': 'https://serpapi.com/search.json?engine=google_images_related_content&gl=de&hl=de&q=Horsch+GmbH+%26+Co.+KG&related_content_id=WFF6ZVNNWjByYXpwbk1cIixcImh0YVpFWDhtZ292amFN',\n   'source': 'www.horsch.com',\n   'title': 'Home | HORSCH',\n   'link': 'https://www.horsch.com/home',\n   'original': 'https://www.horsch.com/fileadmin/_processed_/5/9/csm_DJI_0122_ed14b6e58c.jpg',\n   'original_width': 640,\n   'original_height': 480,\n   'is_product': False},\n  {'position': 22,\n   'thumbnail': 'https://encrypted-tbn0.gstatic.com/images?q=tbn:ANd9GcTvNogefxzLEnux-ADGmqd2LuXDTYwjcXNzVg&usqp=CAU',\n   'related_content_id': 'MEs5eXd2Y3FmUDRvdU1cIixcIkNfclpHRXlSMjBCRU1N',\n   'serpapi_related_content_link': 'https://serpapi.com/search.json?engine=google_images_related_content&gl=de&hl=de&q=Horsch+GmbH+%26+Co.+KG&related_content_id=MEs5eXd2Y3FmUDRvdU1cIixcIkNfclpHRXlSMjBCRU1N',\n   'source': 'Reise Landtechnik',\n   'title': 'Reise Landtechnik GmbH & Co. KG Bautechnik/Straßen- und PlaniertechnikWalze/ Horsch/Horsch Cultro 3 TC/1697044',\n   'link': 'https://reise-landtechnik.de/gebrauchtmaschinen/products/Bautechnik/Stra%C3%9Fen-+und+PlaniertechnikWalze/Horsch/Horsch%20Cultro%203%20TC/1697044',\n   'original': 'https://admin.ams-webmanager.com/mIMG/12291181258181259510/DETAIL_1697044.jpg',\n   'original_width': 1280,\n   'original_height': 960,\n   'is_product': False},\n  {'position': 23,\n   'thumbnail': 'https://encrypted-tbn0.gstatic.com/images?q=tbn:ANd9GcTpHM3Jjdjs09U6jvRxnFWoTRbII0ay1eXavw&usqp=CAU',\n   'related_content_id': 'bWNsaFctOHJjUXRuc01cIixcImVONE1DUEdXU3J6T19N',\n   'serpapi_related_content_link': 'https://serpapi.com/search.json?engine=google_images_related_content&gl=de&hl=de&q=Horsch+GmbH+%26+Co.+KG&related_content_id=bWNsaFctOHJjUXRuc01cIixcImVONE1DUEdXU3J6T19N',\n   'source': 'Igl Landtechnik GmbH & Co. KG',\n   'title': 'IGL Landtechnik/Gülle--- DungtechnikGülletechnik (sonstige)/Horsch/Horsch  TT352/3016268',\n   'link': 'https://igl-pfreimd.de/de/gebrauchtmaschinen/products/Landtechnik/G%C3%BClle---%20DungtechnikG%C3%BClletechnik%20%28sonstige%29/Horsch/Horsch%20TT352/3016268',\n   'original': 'https://admin.ams-webmanager.com/mIMG/11509289567782192536/DETAIL_3016268-9.jpg',\n   'original_width': 1280,\n   'original_height': 853,\n   'is_product': False},\n  {'position': 24,\n   'thumbnail': 'https://encrypted-tbn0.gstatic.com/images?q=tbn:ANd9GcQbklV5TELGZLDxnUYlyGjBTtr56J01h1iY6Q&usqp=CAU',\n   'related_content_id': 'cHFZNmVQQ2NFcDVfM01cIixcIkpNMU1HSFVlQmp3YTlN',\n   'serpapi_related_content_link': 'https://serpapi.com/search.json?engine=google_images_related_content&gl=de&hl=de&q=Horsch+GmbH+%26+Co.+KG&related_content_id=cHFZNmVQQ2NFcDVfM01cIixcIkpNMU1HSFVlQmp3YTlN',\n   'source': 'HORSCH',\n   'title': 'Produkte | HORSCH',\n   'link': 'https://www.horsch.com/produkte',\n   'original': 'https://www.horsch.com/fileadmin/_processed_/4/c/csm_19223_aa37dc09e6.jpg',\n   'original_width': 465,\n   'original_height': 262,\n   'is_product': False},\n  {'position': 25,\n   'thumbnail': 'https://encrypted-tbn0.gstatic.com/images?q=tbn:ANd9GcTG1o1zMUTOzUu6pFFPjpk7-6gnXRQwKZCAkw&usqp=CAU',\n   'related_content_id': 'YkZ1d3p5UzRnY2w0NU1cIixcImtheFIyUk9idkRkdTJN',\n   'serpapi_related_content_link': 'https://serpapi.com/search.json?engine=google_images_related_content&gl=de&hl=de&q=Horsch+GmbH+%26+Co.+KG&related_content_id=YkZ1d3p5UzRnY2w0NU1cIixcImtheFIyUk9idkRkdTJN',\n   'source': 'de.agrionline.com',\n   'title': 'Gebrauchte/r/s HORSCH MAISTRO 8 CC - Einzelkornsämaschine - 2022',\n   'link': 'https://de.agrionline.com/einzelkornsamaschine/horsch-maistro-8-cc/a2190716',\n   'original': 'https://cdn6.regie-agricole.com/l93696329-1/horsch-maistro-8-cc.jpg',\n   'original_width': 1024,\n   'original_height': 768,\n   'is_product': False},\n  {'position': 26,\n   'thumbnail': 'https://encrypted-tbn0.gstatic.com/images?q=tbn:ANd9GcRWTiwwAeCU6hnZpEMafyj-TAbw_-eO_xn0Sw&usqp=CAU',\n   'related_content_id': 'U2xSV3FyQlJmZnpRVU1cIixcIkRKVHFpVi1Rb3RvYVZN',\n   'serpapi_related_content_link': 'https://serpapi.com/search.json?engine=google_images_related_content&gl=de&hl=de&q=Horsch+GmbH+%26+Co.+KG&related_content_id=U2xSV3FyQlJmZnpRVU1cIixcIkRKVHFpVi1Rb3RvYVZN',\n   'source': 'WirtschaftsWoche',\n   'title': 'Horsch: Das Erfolgsrezept des Landmaschinenbauers',\n   'link': 'https://www.wiwo.de/my/unternehmen/mittelstand/hanf-und-technik-apps-das-erfolgsrezept-des-landmaschinenbauers-horsch/27427562.html',\n   'original': 'https://www.wiwo.de/images/horsch-robot-with-maestro-24-sv/27428394/3-format11240.jpg',\n   'original_width': 1240,\n   'original_height': 697,\n   'is_product': False},\n  {'position': 27,\n   'thumbnail': 'https://encrypted-tbn0.gstatic.com/images?q=tbn:ANd9GcS_RhpQU-R92wPFb2lLn-ONWng33U5JRI9WfQ&usqp=CAU',\n   'related_content_id': 'NlV0akIyRzgyMkl4a01cIixcIkxyQnBhbkhwYlNsYUdN',\n   'serpapi_related_content_link': 'https://serpapi.com/search.json?engine=google_images_related_content&gl=de&hl=de&q=Horsch+GmbH+%26+Co.+KG&related_content_id=NlV0akIyRzgyMkl4a01cIixcIkxyQnBhbkhwYlNsYUdN',\n   'source': 'golocal',\n   'title': 'Autotechnik-Horsch GmbH & Co. KG - 1 Bewertung - Osnabrück Widukindland -  Von-Scheffel-Str. | golocal',\n   'link': 'https://www.golocal.de/osnabrueck/autowerkstaetten/autotechnik-horsch-gmbh-co-kg-dvUz/',\n   'original': 'https://www.golocal.de/media/a9355ab3355fa87e60fd9abe9cd10d2e/1500fitsq/b493aa7ca09e84d9.jpg',\n   'original_width': 225,\n   'original_height': 225,\n   'is_product': False},\n  {'position': 28,\n   'thumbnail': 'https://encrypted-tbn0.gstatic.com/images?q=tbn:ANd9GcSzdGrO7w4YaTRb7GbXyT7g0nGoSSDlFIQTGQ&usqp=CAU',\n   'related_content_id': 'QnBCb3R4SXc2U21VUE1cIixcIkpNMU1HSFVlQmp3YTlN',\n   'serpapi_related_content_link': 'https://serpapi.com/search.json?engine=google_images_related_content&gl=de&hl=de&q=Horsch+GmbH+%26+Co.+KG&related_content_id=QnBCb3R4SXc2U21VUE1cIixcIkpNMU1HSFVlQmp3YTlN',\n   'source': 'HORSCH',\n   'title': 'Produkte | HORSCH',\n   'link': 'https://www.horsch.com/produkte',\n   'original': 'https://www.horsch.com/fileadmin/_processed_/c/e/csm_1101_170920_23C6314_927cc576cb.jpg',\n   'original_width': 900,\n   'original_height': 507,\n   'is_product': False},\n  {'position': 29,\n   'thumbnail': 'https://encrypted-tbn0.gstatic.com/images?q=tbn:ANd9GcRQ7xBQNI1C9Os_4NlEBGoPMw9-rg5uWx5PxQ&usqp=CAU',\n   'related_content_id': 'TEpva0V3WmQxV0RhdE1cIixcIm5fVFFFUUpSMW5XYXdN',\n   'serpapi_related_content_link': 'https://serpapi.com/search.json?engine=google_images_related_content&gl=de&hl=de&q=Horsch+GmbH+%26+Co.+KG&related_content_id=TEpva0V3WmQxV0RhdE1cIixcIm5fVFFFUUpSMW5XYXdN',\n   'source': 'agrarheute.com',\n   'title': 'Horsch Gantry: Riesen-Sämaschine in Brasilien im Einsatz - ohne Fahrer |  agrarheute.com',\n   'link': 'https://www.agrarheute.com/technik/ackerbautechnik/horsch-gantry-riesen-saemaschine-brasilien-einsatz-ohne-fahrer-605500',\n   'original': 'https://www.agrarheute.com/sites/agrarheute.com/files/2023-04/horsch-autonome-saemaschine-vorne-47452394.jpg',\n   'original_width': 2000,\n   'original_height': 1126,\n   'is_product': False},\n  {'position': 30,\n   'thumbnail': 'https://encrypted-tbn0.gstatic.com/images?q=tbn:ANd9GcQJX4QUXsVz6sUZrdqyUYqCvRQ7p-vW1sbp1Q&usqp=CAU',\n   'related_content_id': 'SXNkcVBldGJHWkc3TU1cIixcIlBpdmdOSXRvTko5ZzZN',\n   'serpapi_related_content_link': 'https://serpapi.com/search.json?engine=google_images_related_content&gl=de&hl=de&q=Horsch+GmbH+%26+Co.+KG&related_content_id=SXNkcVBldGJHWkc3TU1cIixcIlBpdmdOSXRvTko5ZzZN',\n   'source': 'Reise Landtechnik',\n   'title': 'Reise Landtechnik GmbH & Co. KG Landtechnik/GrünlandtechnikWiesenschleppe  -- Wiesenegge/page_0Direktsaatmaschine/Horsch/Horsch Leeb CS 1.8/2951059',\n   'link': 'https://reise-landtechnik.de/gebrauchtmaschinen/products/Landtechnik/Gr%C3%BCnlandtechnikWiesenschleppe%20--%20Wiesenegge/page_0Direktsaatmaschine/Horsch/Horsch%20Leeb%20CS%201.8/2951059',\n   'original': 'https://admin.ams-webmanager.com/mIMG/12291181258181259510/DETAIL_2951059.jpg',\n   'original_width': 960,\n   'original_height': 1280,\n   'is_product': False},\n  {'position': 31,\n   'thumbnail': 'https://encrypted-tbn0.gstatic.com/images?q=tbn:ANd9GcQKaxBHt4zFDY4p1E6kQSaQa_TJIPkLfy1CUQ&usqp=CAU',\n   'related_content_id': 'eVpudHZENVg5VTN1UE1cIixcIjB1eS1UbC0xVXZwZzdN',\n   'serpapi_related_content_link': 'https://serpapi.com/search.json?engine=google_images_related_content&gl=de&hl=de&q=Horsch+GmbH+%26+Co.+KG&related_content_id=eVpudHZENVg5VTN1UE1cIixcIjB1eS1UbC0xVXZwZzdN',\n   'source': 'Igl Landtechnik GmbH & Co. KG',\n   'title': 'IGL Reifen--R/Seilwinde/Case/BGU Maschinen HRZ 6 EURO/Horsch TT352/3016268',\n   'link': 'https://www.igl-landtechnik.de/de/reifen/products/Reifen--R/Seilwinde/Case/BGU%20Maschinen%20HRZ%206%20EURO/Horsch%20TT352/3016268',\n   'original': 'https://admin.ams-webmanager.com/mIMG/11509289567782192536/DETAIL_3016268-1.jpg',\n   'original_width': 1280,\n   'original_height': 853,\n   'is_product': False},\n  {'position': 32,\n   'thumbnail': 'https://encrypted-tbn0.gstatic.com/images?q=tbn:ANd9GcTSLJNPReCZpHxcRZpnaYLdO2RVuJ-yJs7eZg&usqp=CAU',\n   'related_content_id': 'ZnNUdnpSdzdXTFhVaE1cIixcInkzTFNOa3JJa2hYQW1N',\n   'serpapi_related_content_link': 'https://serpapi.com/search.json?engine=google_images_related_content&gl=de&hl=de&q=Horsch+GmbH+%26+Co.+KG&related_content_id=ZnNUdnpSdzdXTFhVaE1cIixcInkzTFNOa3JJa2hYQW1N',\n   'source': 'werbetechnik-horsch.de',\n   'title': 'Werbetechnik Horsch GmbH – Start',\n   'link': 'https://werbetechnik-horsch.de/',\n   'original': 'https://werbetechnik-horsch.de/images/startbild.jpg',\n   'original_width': 1600,\n   'original_height': 1026,\n   'is_product': False},\n  {'position': 33,\n   'thumbnail': 'https://encrypted-tbn0.gstatic.com/images?q=tbn:ANd9GcS75fU7u07lAvG9uuu33yAQLLV3BR3cSCErLA&usqp=CAU',\n   'related_content_id': 'd3ZrT2VuY00yZkpqZk1cIixcIjVuT0RLN1RIa2hCQ2pN',\n   'serpapi_related_content_link': 'https://serpapi.com/search.json?engine=google_images_related_content&gl=de&hl=de&q=Horsch+GmbH+%26+Co.+KG&related_content_id=d3ZrT2VuY00yZkpqZk1cIixcIjVuT0RLN1RIa2hCQ2pN',\n   'source': 'Facebook',\n   'title': 'HORSCH Aktion Horsch... - Feick Landtechnik GmbH & Co.KG | Facebook',\n   'link': 'https://www.facebook.com/feick.landtechnik/posts/horsch-aktionhorsch-maschinen-zur-stoppelbearbeitung-testen/1481235175316185/',\n   'original': 'https://lookaside.fbsbx.com/lookaside/crawler/media/?media_id=1481234131982956',\n   'original_width': 1000,\n   'original_height': 1414,\n   'is_product': False},\n  {'position': 34,\n   'thumbnail': 'https://encrypted-tbn0.gstatic.com/images?q=tbn:ANd9GcR_PXffnxeeVzfJJsgIZIOKUQJ0-qWMjWy5MQ&usqp=CAU',\n   'related_content_id': 'QnFwSF9QdFRxWEVTZE1cIixcImh0YVpFWDhtZ292amFN',\n   'serpapi_related_content_link': 'https://serpapi.com/search.json?engine=google_images_related_content&gl=de&hl=de&q=Horsch+GmbH+%26+Co.+KG&related_content_id=QnFwSF9QdFRxWEVTZE1cIixcImh0YVpFWDhtZ292amFN',\n   'source': 'www.horsch.com',\n   'title': 'Home | HORSCH',\n   'link': 'https://www.horsch.com/home',\n   'tag': 'vor 1 Tag',\n   'original': 'https://www.horsch.com/fileadmin/_processed_/0/7/csm_23_O_14313-HDR_bdd10fe00e.jpg',\n   'original_width': 1920,\n   'original_height': 720,\n   'is_product': True},\n  {'position': 35,\n   'thumbnail': 'https://encrypted-tbn0.gstatic.com/images?q=tbn:ANd9GcS6fIGG1NoLvVtnZTX2O80m6v1xa5cHY5LHUA&usqp=CAU',\n   'related_content_id': 'bmZRUHhGRVA4RHd5QU1cIixcIkpoVDNqS083NENlVEJN',\n   'serpapi_related_content_link': 'https://serpapi.com/search.json?engine=google_images_related_content&gl=de&hl=de&q=Horsch+GmbH+%26+Co.+KG&related_content_id=bmZRUHhGRVA4RHd5QU1cIixcIkpoVDNqS083NENlVEJN',\n   'source': 'CompanyHouse',\n   'title': 'Fellmann-Horsch GmbH & Co. Energie KG, Nossen - Elektrizitätsversorgung',\n   'link': 'https://www.companyhouse.de/Fellmann-Horsch-GmbH-Co-Energie-KG-Nossen',\n   'original': 'https://www.companyhouse.de/balance/graph-placeholder/16201116',\n   'original_width': 330,\n   'original_height': 250,\n   'is_product': False},\n  {'position': 36,\n   'thumbnail': 'https://encrypted-tbn0.gstatic.com/images?q=tbn:ANd9GcQFun1PUng_niICoZVbuNXrc52e7u6MrGVngA&usqp=CAU',\n   'related_content_id': 'WVp2RGZQS2lpd0RhUk1cIixcIkhrSklUNGt0T1BMbTBN',\n   'serpapi_related_content_link': 'https://serpapi.com/search.json?engine=google_images_related_content&gl=de&hl=de&q=Horsch+GmbH+%26+Co.+KG&related_content_id=WVp2RGZQS2lpd0RhUk1cIixcIkhrSklUNGt0T1BMbTBN',\n   'source': 'Tec24.com',\n   'title': 'Horsch OPTIPACK 6 AS | Walze gebraucht - Schwandorf - 7.854 €',\n   'link': 'https://de.tec24.com/c-40600/m-horsch/t-optipack-6-as/mid-3545077.html',\n   'original': 'https://de.tec24.com/9/183721/800/800/8884067_0.jpg',\n   'original_width': 800,\n   'original_height': 600,\n   'is_product': False},\n  {'position': 37,\n   'thumbnail': 'https://encrypted-tbn0.gstatic.com/images?q=tbn:ANd9GcSeptEeuoUQ5y0ER_of7oIBQdwQcjwj8lh1bw&usqp=CAU',\n   'related_content_id': 'OGRFQzNaWkZoWW5od01cIixcIjRYaEhJZWR1QWZoQnpN',\n   'serpapi_related_content_link': 'https://serpapi.com/search.json?engine=google_images_related_content&gl=de&hl=de&q=Horsch+GmbH+%26+Co.+KG&related_content_id=OGRFQzNaWkZoWW5od01cIixcIjRYaEhJZWR1QWZoQnpN',\n   'source': 'LinkedIn',\n   'title': 'Kai Schrader – Kaufmännische Leitung – Aachener Papierverwertung &  Containerdienst Horsch GmbH & Co. KG | LinkedIn',\n   'link': 'https://de.linkedin.com/in/kai-schrader-b148a2243',\n   'original': 'https://media.licdn.com/dms/image/C4E03AQFNF0FrMWhtqA/profile-displayphoto-shrink_800_800/0/1661157877634?e=2147483647&v=beta&t=NwcocNDk19wj7y6Wfz424GlQGZpRo7Y98sbU2c-MEuw',\n   'original_width': 800,\n   'original_height': 800,\n   'is_product': False},\n  {'position': 38,\n   'thumbnail': 'https://encrypted-tbn0.gstatic.com/images?q=tbn:ANd9GcSJPSAUzEgcgvxyD9uvZj-4Qw0X22XfpuP00w&usqp=CAU',\n   'related_content_id': 'WnNiamdnOU50SThfaE1cIixcIml4aXd1QTZTT05JTTRN',\n   'serpapi_related_content_link': 'https://serpapi.com/search.json?engine=google_images_related_content&gl=de&hl=de&q=Horsch+GmbH+%26+Co.+KG&related_content_id=WnNiamdnOU50SThfaE1cIixcIml4aXd1QTZTT05JTTRN',\n   'source': 'OKA Büromöbel',\n   'title': '▷ HORSCH Maschinen GmbH – Referenz | OKA Büromöbel',\n   'link': 'https://www.oka.de/de/horsch-maschinen-gmbh/',\n   'original': 'https://www.oka.de/de/imgv/bild-001_640x450.1.1779.jpg',\n   'original_width': 640,\n   'original_height': 450,\n   'is_product': False},\n  {'position': 39,\n   'thumbnail': 'https://encrypted-tbn0.gstatic.com/images?q=tbn:ANd9GcTn4d5ugjS3mu9aCIy-qu5PuF_kgw3aMm-Qtg&usqp=CAU',\n   'related_content_id': 'TjVvOXlSVkVESDRTYU1cIixcImNieFMyeWdLd3liSlNN',\n   'serpapi_related_content_link': 'https://serpapi.com/search.json?engine=google_images_related_content&gl=de&hl=de&q=Horsch+GmbH+%26+Co.+KG&related_content_id=TjVvOXlSVkVESDRTYU1cIixcImNieFMyeWdLd3liSlNN',\n   'source': 'Igl Landtechnik GmbH & Co. KG',\n   'title': 'IGL Landtechnik/Bodenbearbeitung/KurzscheibeneggeAkpil/Horsch Joker 6  RT/2995317',\n   'link': 'https://igl-pfreimd.de/de/gebrauchtmaschinen/products/Landtechnik/Bodenbearbeitung/KurzscheibeneggeAkpil/Horsch%20Joker%206%20RT/2995317',\n   'original': 'https://admin.ams-webmanager.com/mIMG/11509289567782192536/DETAIL_2995317-2.jpg',\n   'original_width': 1280,\n   'original_height': 853,\n   'is_product': False},\n  {'position': 40,\n   'thumbnail': 'https://encrypted-tbn0.gstatic.com/images?q=tbn:ANd9GcQYgJILN-Tsvnh6OKSo4shassuNQ27pFT8beQ&usqp=CAU',\n   'related_content_id': 'dml2U1Z5OHB6aTJNZU1cIixcIjh1TEpfb2NybUlnbHZN',\n   'serpapi_related_content_link': 'https://serpapi.com/search.json?engine=google_images_related_content&gl=de&hl=de&q=Horsch+GmbH+%26+Co.+KG&related_content_id=dml2U1Z5OHB6aTJNZU1cIixcIjh1TEpfb2NybUlnbHZN',\n   'source': 'golocal',\n   'title': 'Bilder und Fotos zu Aachener Papierverwertung & Containerdienst Horsch GmbH  & Co. KG in Aachen, Weißwasserstraße',\n   'link': 'https://www.golocal.de/aachen/recycling/aachener-papierverwertung-containerdienst-horsch-gmbh-co-kg-Fki/fotos/',\n   'original': 'https://s3.eu-central-1.amazonaws.com/uberall-userpics-prod/344956/ad0M2Tntxh.jpg',\n   'original_width': 1373,\n   'original_height': 480,\n   'is_product': False},\n  {'position': 41,\n   'thumbnail': 'https://encrypted-tbn0.gstatic.com/images?q=tbn:ANd9GcSjxUhUTsxVWiiq0O0uvufLAvAUu1dnmxR6uw&usqp=CAU',\n   'related_content_id': 'cllCOXY5ajdqenlHLU1cIixcImlnSVdFcHI5RnljUXlN',\n   'serpapi_related_content_link': 'https://serpapi.com/search.json?engine=google_images_related_content&gl=de&hl=de&q=Horsch+GmbH+%26+Co.+KG&related_content_id=cllCOXY5ajdqenlHLU1cIixcImlnSVdFcHI5RnljUXlN',\n   'source': 'Wikipedia',\n   'title': 'Horsch Maschinen – Wikipedia',\n   'link': 'https://de.wikipedia.org/wiki/Horsch_Maschinen',\n   'original': 'https://upload.wikimedia.org/wikipedia/commons/thumb/2/25/Brompton_Ralph%2C_beet_crop_harvester_-_geograph.org.uk_-_157049.jpg/220px-Brompton_Ralph%2C_beet_crop_harvester_-_geograph.org.uk_-_157049.jpg',\n   'original_width': 220,\n   'original_height': 147,\n   'is_product': False},\n  {'position': 42,\n   'thumbnail': 'https://encrypted-tbn0.gstatic.com/images?q=tbn:ANd9GcS7yHp9x7QwFsx9yXMl7rpvaq0sb2JqV4Xf1A&usqp=CAU',\n   'related_content_id': 'NmVESzNaV25uNkFvT01cIixcImJvekFtOERacVNQRzdN',\n   'serpapi_related_content_link': 'https://serpapi.com/search.json?engine=google_images_related_content&gl=de&hl=de&q=Horsch+GmbH+%26+Co.+KG&related_content_id=NmVESzNaV25uNkFvT01cIixcImJvekFtOERacVNQRzdN',\n   'source': 'de.agrionline.com',\n   'title': 'Gebrauchte/r/s HORSCH TT352 - Sonstige Streuer - 0',\n   'link': 'https://de.agrionline.com/sonstige-streuer/horsch-tt352/a2144353',\n   'original': 'https://cdn6.regie-agricole.com/l91583068-1/horsch-tt352.jpg',\n   'original_width': 1024,\n   'original_height': 768,\n   'is_product': False},\n  {'position': 43,\n   'thumbnail': 'https://encrypted-tbn0.gstatic.com/images?q=tbn:ANd9GcSjRo-d6hGnAggrfZFxBU9LPQ_Ew_nHKa7N9w&usqp=CAU',\n   'related_content_id': 'QUctZkF3OTVER2lkZk1cIixcIlZSUEQzb1pFYTB0NndN',\n   'serpapi_related_content_link': 'https://serpapi.com/search.json?engine=google_images_related_content&gl=de&hl=de&q=Horsch+GmbH+%26+Co.+KG&related_content_id=QUctZkF3OTVER2lkZk1cIixcIlZSUEQzb1pFYTB0NndN',\n   'source': 'AGRARTECHNIK',\n   'title': 'Horsch: Spatenstich für neues Oberflächenzentrum in Schwandorf -  AGRARTECHNIK',\n   'link': 'https://www.agrartechnikonline.de/news/horsch-spatenstich-fuer-neues-oberflaechenzentrum-in-schwandorf/',\n   'original': 'https://www.agrartechnikonline.de/app/uploads/2022/08/Spatenstich-HORSCH-neues-OFZ-edited.jpg',\n   'original_width': 1773,\n   'original_height': 997,\n   'is_product': False},\n  {'position': 44,\n   'thumbnail': 'https://encrypted-tbn0.gstatic.com/images?q=tbn:ANd9GcRV8g6OfPSWgs_ze2rHyP6ixJ0u7GOObZ5cog&usqp=CAU',\n   'related_content_id': 'Z2FxRExRME9FVDhmdE1cIixcImVVeVVoQjJfRHlqLVhN',\n   'serpapi_related_content_link': 'https://serpapi.com/search.json?engine=google_images_related_content&gl=de&hl=de&q=Horsch+GmbH+%26+Co.+KG&related_content_id=Z2FxRExRME9FVDhmdE1cIixcImVVeVVoQjJfRHlqLVhN',\n   'source': 'HORSCH',\n   'title': 'Ronneburg | HORSCH',\n   'link': 'https://www.horsch.com/ronneburg',\n   'original': 'https://www.horsch.com/fileadmin/_processed_/7/1/csm__17A0317_25521a1604.jpg',\n   'original_width': 533,\n   'original_height': 356,\n   'is_product': False},\n  {'position': 45,\n   'thumbnail': 'https://encrypted-tbn0.gstatic.com/images?q=tbn:ANd9GcQBPMx3fhhUUQwSJDRboQ2bHElD_goSL05EJw&usqp=CAU',\n   'related_content_id': 'MWZXZFlfaTRxLThhd01cIixcImdVMTNyX2FTNkRmcFJN',\n   'serpapi_related_content_link': 'https://serpapi.com/search.json?engine=google_images_related_content&gl=de&hl=de&q=Horsch+GmbH+%26+Co.+KG&related_content_id=MWZXZFlfaTRxLThhd01cIixcImdVMTNyX2FTNkRmcFJN',\n   'source': 'horsch-gruppe.de',\n   'title': 'Gebrüder Horsch GmbH – Start',\n   'link': 'https://horsch-gruppe.de/',\n   'original': 'https://horsch-gruppe.de/images/logo_Fahrzeugtechnik.jpg',\n   'original_width': 1600,\n   'original_height': 410,\n   'is_product': False},\n  {'position': 46,\n   'thumbnail': 'https://encrypted-tbn0.gstatic.com/images?q=tbn:ANd9GcQ4ggzwapfEyMfO-kQz3R9aqcjGO_6C9VIO8A&usqp=CAU',\n   'related_content_id': 'VERGZXB2OWdqODlqT01cIixcIkpNMU1HSFVlQmp3YTlN',\n   'serpapi_related_content_link': 'https://serpapi.com/search.json?engine=google_images_related_content&gl=de&hl=de&q=Horsch+GmbH+%26+Co.+KG&related_content_id=VERGZXB2OWdqODlqT01cIixcIkpNMU1HSFVlQmp3YTlN',\n   'source': 'HORSCH',\n   'title': 'Produkte | HORSCH',\n   'link': 'https://www.horsch.com/produkte',\n   'original': 'https://www.horsch.com/fileadmin/_processed_/1/7/csm_joker_RT_17A3033-1_6145e6076d.jpg',\n   'original_width': 465,\n   'original_height': 262,\n   'is_product': False},\n  {'position': 47,\n   'thumbnail': 'https://encrypted-tbn0.gstatic.com/images?q=tbn:ANd9GcTXidl7VPO0c7I2hmLRg9H8FpkoJVcxTmKcpw&usqp=CAU',\n   'related_content_id': 'OUFsZi1zTFZ2TnpVLU1cIixcInJWLXpsZzQ4d3hYUzRN',\n   'serpapi_related_content_link': 'https://serpapi.com/search.json?engine=google_images_related_content&gl=de&hl=de&q=Horsch+GmbH+%26+Co.+KG&related_content_id=OUFsZi1zTFZ2TnpVLU1cIixcInJWLXpsZzQ4d3hYUzRN',\n   'source': 'Kununu',\n   'title': 'HORSCH Maschinen als Arbeitgeber: Gehalt, Karriere, Benefits',\n   'link': 'https://www.kununu.com/de/horsch-maschinen1',\n   'original': 'https://assets.kununu.com/media/prod/profiles/covers/desktop/573911bd-da96-43c3-8438-b0e02d33b7a2_[03]_a787cc89dfa0b48527c18daf1d100d6f.jpg',\n   'original_width': 3040,\n   'original_height': 760,\n   'is_product': False},\n  {'position': 48,\n   'thumbnail': 'https://encrypted-tbn0.gstatic.com/images?q=tbn:ANd9GcRJZ-maueyvgUoBGENv4rEPGFivOrRcC0U6Uw&usqp=CAU',\n   'related_content_id': 'OVR6a0dwem5uUklSME1cIixcIlAzajYtdUZMWkFaQnpN',\n   'serpapi_related_content_link': 'https://serpapi.com/search.json?engine=google_images_related_content&gl=de&hl=de&q=Horsch+GmbH+%26+Co.+KG&related_content_id=OVR6a0dwem5uUklSME1cIixcIlAzajYtdUZMWkFaQnpN',\n   'source': 'www.horsch-co.de',\n   'title': 'Tischlerei Horsch & Co - Home',\n   'link': 'https://www.horsch-co.de/',\n   'original': 'https://www.horsch-co.de/s/misc/logo.png?t=1677744355',\n   'original_width': 546,\n   'original_height': 208,\n   'is_product': False},\n  {'position': 49,\n   'thumbnail': 'https://encrypted-tbn0.gstatic.com/images?q=tbn:ANd9GcSqPINNQW5f6HXgM2he9utSBr4dDh-5Jx9Vuw&usqp=CAU',\n   'related_content_id': 'V253SVNLcERKNkhlMU1cIixcIlBKWXpGWVZaT0themZN',\n   'serpapi_related_content_link': 'https://serpapi.com/search.json?engine=google_images_related_content&gl=de&hl=de&q=Horsch+GmbH+%26+Co.+KG&related_content_id=V253SVNLcERKNkhlMU1cIixcIlBKWXpGWVZaT0themZN',\n   'source': 'Cylex',\n   'title': 'Horsch GmbH ▷ Recyclingunternehmen in Aachen Rothe Erde',\n   'link': 'https://web2.cylex.de/firma-home/horsch-gmbh-10359227.html',\n   'original': 'https://osm.cylex-international.com/osm/staticmaplite/staticmap.php?center=50.775350,6.140712&zoom=15&size=xy&maptype=tm&markers=50.775350,6.140712,marker-34',\n   'original_width': 1000,\n   'original_height': 250,\n   'is_product': False},\n  {'position': 50,\n   'thumbnail': 'https://encrypted-tbn0.gstatic.com/images?q=tbn:ANd9GcQOemJe47uTGVNdmd7-AEpF3vRnJcVB4jdKsA&usqp=CAU',\n   'related_content_id': 'aFBjZVRud292X05ZWU1cIixcIml4aXd1QTZTT05JTTRN',\n   'serpapi_related_content_link': 'https://serpapi.com/search.json?engine=google_images_related_content&gl=de&hl=de&q=Horsch+GmbH+%26+Co.+KG&related_content_id=aFBjZVRud292X05ZWU1cIixcIml4aXd1QTZTT05JTTRN',\n   'source': 'OKA Büromöbel',\n   'title': '▷ HORSCH Maschinen GmbH – Referenz | OKA Büromöbel',\n   'link': 'https://www.oka.de/de/horsch-maschinen-gmbh/',\n   'original': 'https://www.oka.de/de/imgv/bild-006_2500x650.1.1776.jpg',\n   'original_width': 1920,\n   'original_height': 499,\n   'is_product': False},\n  {'position': 51,\n   'thumbnail': 'https://encrypted-tbn0.gstatic.com/images?q=tbn:ANd9GcTHIIk-dKxqmGqk4Iti6DsIrVVYGY2SOtjz_w&usqp=CAU',\n   'related_content_id': 'RWJkT1EteDFBZzJ3ak1cIixcInpjVkJ4aG8xajZJWWxN',\n   'serpapi_related_content_link': 'https://serpapi.com/search.json?engine=google_images_related_content&gl=de&hl=de&q=Horsch+GmbH+%26+Co.+KG&related_content_id=RWJkT1EteDFBZzJ3ak1cIixcInpjVkJ4aG8xajZJWWxN',\n   'source': 'Geschichte der Landtechnik',\n   'title': 'Horsch Maschinen GmbH',\n   'link': 'http://www.landtechnik-historisch.de/historische-landmaschinen-von-a-bis-z/h/horsch-maschinen-gmbh/',\n   'original': 'http://www.landtechnik-historisch.de/assets/Uploads/_resampled/bildergaleriecontentbigW10/20220602-Horsch-1985-Duenger.jpg',\n   'original_width': 1500,\n   'original_height': 900,\n   'is_product': False},\n  {'position': 52,\n   'thumbnail': 'https://encrypted-tbn0.gstatic.com/images?q=tbn:ANd9GcRhz98dnTbtxZwfOjQRpeEGV7-U6pRSrP-67w&usqp=CAU',\n   'related_content_id': 'N3VUTGFEcVZlYWhuc01cIixcIjZXcDNZWnN2bWZpZDNN',\n   'serpapi_related_content_link': 'https://serpapi.com/search.json?engine=google_images_related_content&gl=de&hl=de&q=Horsch+GmbH+%26+Co.+KG&related_content_id=N3VUTGFEcVZlYWhuc01cIixcIjZXcDNZWnN2bWZpZDNN',\n   'source': 'www.horschweb.de',\n   'title': 'Horsch – Hard- & Softwaredienstleistungen GmbH',\n   'link': 'https://www.horschweb.de/',\n   'original': 'https://www.horschweb.de/images/2021/07/21/it_non_it.jpg',\n   'original_width': 381,\n   'original_height': 280,\n   'is_product': False},\n  {'position': 53,\n   'thumbnail': 'https://encrypted-tbn0.gstatic.com/images?q=tbn:ANd9GcSCH-x5P2wznYFPpsdr2ddWaszJOJa8quLltQ&usqp=CAU',\n   'related_content_id': 'cUptRlJIWkgxenVOb01cIixcIkgzQ2x2OXh3a1k3Mk1N',\n   'serpapi_related_content_link': 'https://serpapi.com/search.json?engine=google_images_related_content&gl=de&hl=de&q=Horsch+GmbH+%26+Co.+KG&related_content_id=cUptRlJIWkgxenVOb01cIixcIkgzQ2x2OXh3a1k3Mk1N',\n   'source': 'agrarheute.com',\n   'title': 'Horsch wächst zweistellig | agrarheute.com',\n   'link': 'https://www.agrarheute.com/technik/ackerbautechnik/horsch-waechst-zweistellig-538836',\n   'original': 'https://www.agrarheute.com/media/2017-09/Horsch-Neuheiten-17-fe-238.JPG',\n   'original_width': 5472,\n   'original_height': 3648,\n   'is_product': False},\n  {'position': 54,\n   'thumbnail': 'https://encrypted-tbn0.gstatic.com/images?q=tbn:ANd9GcR4V7asEg1R_hS3rjS1CQAqhKBsAaLnEfH6Fg&usqp=CAU',\n   'related_content_id': 'bDdPWUhhcElDb1N1WU1cIixcIkpNMU1HSFVlQmp3YTlN',\n   'serpapi_related_content_link': 'https://serpapi.com/search.json?engine=google_images_related_content&gl=de&hl=de&q=Horsch+GmbH+%26+Co.+KG&related_content_id=bDdPWUhhcElDb1N1WU1cIixcIkpNMU1HSFVlQmp3YTlN',\n   'source': 'HORSCH',\n   'title': 'Produkte | HORSCH',\n   'link': 'https://www.horsch.com/produkte',\n   'original': 'https://www.horsch.com/fileadmin/_processed_/1/7/csm__16A6715_9c8075000f.jpg',\n   'original_width': 465,\n   'original_height': 262,\n   'is_product': False},\n  {'position': 55,\n   'thumbnail': 'https://encrypted-tbn0.gstatic.com/images?q=tbn:ANd9GcTYomFJCx4DDdJ3gkA5H6pJuSaqUthSBOOKpg&usqp=CAU',\n   'related_content_id': 'TFZYa1MwbHowUDlSa01cIixcIkpNMU1HSFVlQmp3YTlN',\n   'serpapi_related_content_link': 'https://serpapi.com/search.json?engine=google_images_related_content&gl=de&hl=de&q=Horsch+GmbH+%26+Co.+KG&related_content_id=TFZYa1MwbHowUDlSa01cIixcIkpNMU1HSFVlQmp3YTlN',\n   'source': 'HORSCH',\n   'title': 'Produkte | HORSCH',\n   'link': 'https://www.horsch.com/produkte',\n   'original': 'https://www.horsch.com/fileadmin/_processed_/b/d/csm_22425_title_419dad792a.jpg',\n   'original_width': 465,\n   'original_height': 262,\n   'is_product': False},\n  {'position': 56,\n   'thumbnail': 'https://encrypted-tbn0.gstatic.com/images?q=tbn:ANd9GcR3oqkSQKonebY0X83Ubn-YBlD1B_49W_FVlA&usqp=CAU',\n   'related_content_id': 'SV96UlREWmk1Wm9nU01cIixcIkhrSklUNGt0T1BMbTBN',\n   'serpapi_related_content_link': 'https://serpapi.com/search.json?engine=google_images_related_content&gl=de&hl=de&q=Horsch+GmbH+%26+Co.+KG&related_content_id=SV96UlREWmk1Wm9nU01cIixcIkhrSklUNGt0T1BMbTBN',\n   'source': 'Tec24.com',\n   'title': 'Horsch OPTIPACK 6 AS | Walze gebraucht - Schwandorf - 7.854 €',\n   'link': 'https://de.tec24.com/c-40600/m-horsch/t-optipack-6-as/mid-3545077.html',\n   'original': 'https://de.tec24.com/9/183721/800/800/8884067_1.jpg',\n   'original_width': 800,\n   'original_height': 600,\n   'is_product': False},\n  {'position': 57,\n   'thumbnail': 'https://encrypted-tbn0.gstatic.com/images?q=tbn:ANd9GcRgA4YDN1TqegzLJQ5tYRZQBQ4OY0HWqpIZXA&usqp=CAU',\n   'related_content_id': 'NnRLaGFVWU8xRW5ZX01cIixcIkpNMU1HSFVlQmp3YTlN',\n   'serpapi_related_content_link': 'https://serpapi.com/search.json?engine=google_images_related_content&gl=de&hl=de&q=Horsch+GmbH+%26+Co.+KG&related_content_id=NnRLaGFVWU8xRW5ZX01cIixcIkpNMU1HSFVlQmp3YTlN',\n   'source': 'HORSCH',\n   'title': 'Produkte | HORSCH',\n   'link': 'https://www.horsch.com/produkte',\n   'original': 'https://www.horsch.com/fileadmin/_processed_/8/1/csm_23083_title_934301f11f.jpg',\n   'original_width': 465,\n   'original_height': 262,\n   'is_product': False},\n  {'position': 58,\n   'thumbnail': 'https://encrypted-tbn0.gstatic.com/images?q=tbn:ANd9GcSYM8AYyVYPNaj_Xjod60Z2EylNS1jUEDCeIA&usqp=CAU',\n   'related_content_id': 'b3hnN3hUazhKbTZHak1cIixcIkpNMU1HSFVlQmp3YTlN',\n   'serpapi_related_content_link': 'https://serpapi.com/search.json?engine=google_images_related_content&gl=de&hl=de&q=Horsch+GmbH+%26+Co.+KG&related_content_id=b3hnN3hUazhKbTZHak1cIixcIkpNMU1HSFVlQmp3YTlN',\n   'source': 'HORSCH',\n   'title': 'Produkte | HORSCH',\n   'link': 'https://www.horsch.com/produkte',\n   'original': 'https://www.horsch.com/fileadmin/_processed_/f/d/csm_de_291118_21C3163-Kopie_01_5d15125bad.jpg',\n   'original_width': 465,\n   'original_height': 262,\n   'is_product': False},\n  {'position': 59,\n   'thumbnail': 'https://encrypted-tbn0.gstatic.com/images?q=tbn:ANd9GcQfKqgIIisGAx5COms-ThxKX4GNSv8ZttVcQA&usqp=CAU',\n   'related_content_id': 'SEtWb3NCWkNkaDhWU01cIixcImlucjNaaEcyR1Q1MGxN',\n   'serpapi_related_content_link': 'https://serpapi.com/search.json?engine=google_images_related_content&gl=de&hl=de&q=Horsch+GmbH+%26+Co.+KG&related_content_id=SEtWb3NCWkNkaDhWU01cIixcImlucjNaaEcyR1Q1MGxN',\n   'source': 'Reise Landtechnik',\n   'title': 'Reise Landtechnik GmbH & Co. KG  Landtechnik/Pflanzenschutz-Düngerstreuer/page_30Scheibenegge/Horsch/Horsch  Joker 4 CT RF/3203449',\n   'link': 'https://www.reise-landtechnik.de/neumasch/products/Landtechnik/Pflanzenschutz-D%C3%BCngerstreuer/page_30Scheibenegge/Horsch/Horsch%20Joker%204%20CT%20RF/3203449',\n   'original': 'https://admin.ams-webmanager.com/mIMG/12291181258181259510/DETAIL_3203449.jpg',\n   'original_width': 1280,\n   'original_height': 960,\n   'is_product': True},\n  {'position': 60,\n   'thumbnail': 'https://encrypted-tbn0.gstatic.com/images?q=tbn:ANd9GcTyB1vSx4uojAi49ffZDSXoGjmBg3eQgDJRkA&usqp=CAU',\n   'related_content_id': 'b0hIVjV0bjVaRURKTE1cIixcInJEa1c4b3VYckVHY0hN',\n   'serpapi_related_content_link': 'https://serpapi.com/search.json?engine=google_images_related_content&gl=de&hl=de&q=Horsch+GmbH+%26+Co.+KG&related_content_id=b0hIVjV0bjVaRURKTE1cIixcInJEa1c4b3VYckVHY0hN',\n   'source': 'HORSCH',\n   'title': 'Karriere | HORSCH',\n   'link': 'https://www.horsch.com/karriere',\n   'original': 'https://www.horsch.com/fileadmin/_processed_/b/0/csm_IMG_E3570_e1e9694339.jpg',\n   'original_width': 510,\n   'original_height': 383,\n   'is_product': False},\n  {'position': 61,\n   'thumbnail': 'https://encrypted-tbn0.gstatic.com/images?q=tbn:ANd9GcQ25sWq9Au9FGJ1lno1t9sLoXcKsXaAeAUj1w&usqp=CAU',\n   'related_content_id': 'VEJNWHpZLU1BdzdXWE1cIixcInJEa1c4b3VYckVHY0hN',\n   'serpapi_related_content_link': 'https://serpapi.com/search.json?engine=google_images_related_content&gl=de&hl=de&q=Horsch+GmbH+%26+Co.+KG&related_content_id=VEJNWHpZLU1BdzdXWE1cIixcInJEa1c4b3VYckVHY0hN',\n   'source': 'HORSCH',\n   'title': 'Karriere | HORSCH',\n   'link': 'https://www.horsch.com/karriere',\n   'original': 'https://www.horsch.com/fileadmin/_processed_/0/0/csm_Sitzenhof_05_2021_Aerial_Image_e40c32a551.jpg',\n   'original_width': 510,\n   'original_height': 340,\n   'is_product': False},\n  {'position': 62,\n   'thumbnail': 'https://encrypted-tbn0.gstatic.com/images?q=tbn:ANd9GcS0ePdSbtZqo9_qxFE6TR1EXaAqiALAE1esVg&usqp=CAU',\n   'related_content_id': 'VktpM0FUczZWSy1OUE1cIixcInp1UkdDWmJqQms0WlFN',\n   'serpapi_related_content_link': 'https://serpapi.com/search.json?engine=google_images_related_content&gl=de&hl=de&q=Horsch+GmbH+%26+Co.+KG&related_content_id=VktpM0FUczZWSy1OUE1cIixcInp1UkdDWmJqQms0WlFN',\n   'source': 'Landwirt.com',\n   'title': 'Horsch OPTIPACK 6 AS - CLAAS Nordostbayern GmbH & Co. KG, Schwandorf -  Landwirt.com',\n   'link': 'https://www.landwirt.com/gebrauchte,3543474,Horsch-OPTIPACK-6-AS.html',\n   'original': 'https://static.landwirt.com/5621-768f3ea8a2afb2c050b2025a9f644e0b-3543474-3vb.jpg',\n   'original_width': 800,\n   'original_height': 600,\n   'is_product': False},\n  {'position': 63,\n   'thumbnail': 'https://encrypted-tbn0.gstatic.com/images?q=tbn:ANd9GcQZitJ8xC3YAS5mjSW-poK3zMo_rBWiKuKjVg&usqp=CAU',\n   'related_content_id': 'WTJ5VDlpUmFad3V5eU1cIixcIjZXcDNZWnN2bWZpZDNN',\n   'serpapi_related_content_link': 'https://serpapi.com/search.json?engine=google_images_related_content&gl=de&hl=de&q=Horsch+GmbH+%26+Co.+KG&related_content_id=WTJ5VDlpUmFad3V5eU1cIixcIjZXcDNZWnN2bWZpZDNN',\n   'source': 'www.horschweb.de',\n   'title': 'Horsch – Hard- & Softwaredienstleistungen GmbH',\n   'link': 'https://www.horschweb.de/',\n   'original': 'https://www.horschweb.de/images/logos/horsch_logo.png',\n   'original_width': 335,\n   'original_height': 131,\n   'is_product': False},\n  {'position': 64,\n   'thumbnail': 'https://encrypted-tbn0.gstatic.com/images?q=tbn:ANd9GcTAw3QkZuoHPqLycEfh15K_uLmVXGezsO8mog&usqp=CAU',\n   'related_content_id': 'Um5UdUJaNUpHRHN2QU1cIixcImdVMTNyX2FTNkRmcFJN',\n   'serpapi_related_content_link': 'https://serpapi.com/search.json?engine=google_images_related_content&gl=de&hl=de&q=Horsch+GmbH+%26+Co.+KG&related_content_id=Um5UdUJaNUpHRHN2QU1cIixcImdVMTNyX2FTNkRmcFJN',\n   'source': 'horsch-gruppe.de',\n   'title': 'Gebrüder Horsch GmbH – Start',\n   'link': 'https://horsch-gruppe.de/',\n   'original': 'https://horsch-gruppe.de/images/logo_gebr%C3%BCder-horsch.jpg',\n   'original_width': 1600,\n   'original_height': 788,\n   'is_product': False},\n  {'position': 65,\n   'thumbnail': 'https://encrypted-tbn0.gstatic.com/images?q=tbn:ANd9GcT25KuhBiKkhJRZMQDpx4ZMUXLQqiYuu0gAVg&usqp=CAU',\n   'related_content_id': 'MDFMSTlWbEtjcEl4Zk1cIixcInkzTFNOa3JJa2hYQW1N',\n   'serpapi_related_content_link': 'https://serpapi.com/search.json?engine=google_images_related_content&gl=de&hl=de&q=Horsch+GmbH+%26+Co.+KG&related_content_id=MDFMSTlWbEtjcEl4Zk1cIixcInkzTFNOa3JJa2hYQW1N',\n   'source': 'werbetechnik-horsch.de',\n   'title': 'Werbetechnik Horsch GmbH – Start',\n   'link': 'https://werbetechnik-horsch.de/',\n   'original': 'https://werbetechnik-horsch.de/images/slides/slide_6.jpg',\n   'original_width': 2052,\n   'original_height': 864,\n   'is_product': False},\n  {'position': 66,\n   'thumbnail': 'https://encrypted-tbn0.gstatic.com/images?q=tbn:ANd9GcSoiHvYpspCIUQlxo2ra9gNKb2fFoPFdBu3Kg&usqp=CAU',\n   'related_content_id': 'UGlhZTZzNUxTaHdsbU1cIixcIm1NN2dJeXFPSnhSMGRN',\n   'serpapi_related_content_link': 'https://serpapi.com/search.json?engine=google_images_related_content&gl=de&hl=de&q=Horsch+GmbH+%26+Co.+KG&related_content_id=UGlhZTZzNUxTaHdsbU1cIixcIm1NN2dJeXFPSnhSMGRN',\n   'source': 'Unternehmertag Agrar',\n   'title': 'HORSCH Maschinen GmbH - Unternehmertag',\n   'link': 'https://www.unternehmertag.wzw.tum.de/aussteller/horsch-maschinen-gmbh',\n   'original': 'https://www.unternehmertag.wzw.tum.de/fileadmin/_processed_/9/a/csm_HORSCH-Maschinen_9b743b0f60.jpg',\n   'original_width': 620,\n   'original_height': 314,\n   'is_product': False},\n  {'position': 67,\n   'thumbnail': 'https://encrypted-tbn0.gstatic.com/images?q=tbn:ANd9GcTvpMNbd5XfcuD9Dk6zRYRCmMpRnmqWrCtgAA&usqp=CAU',\n   'related_content_id': 'UmRwQXlvelIxZzllek1cIixcImpTTEJGdXVIMk90LVdN',\n   'serpapi_related_content_link': 'https://serpapi.com/search.json?engine=google_images_related_content&gl=de&hl=de&q=Horsch+GmbH+%26+Co.+KG&related_content_id=UmRwQXlvelIxZzllek1cIixcImpTTEJGdXVIMk90LVdN',\n   'source': 'Agri Trader',\n   'title': 'Horsch Partner 1600 FT, baujahr 2018 ad - Reise Landtechnik GmbH & Co KG.',\n   'link': 'https://www.agritrader.de/landmaschinen/samaschine/horsch/partner-1600-ft-3289329',\n   'original': 'https://media.agritrader.nl/item-image/large/18811883.jpg',\n   'original_width': 800,\n   'original_height': 600,\n   'is_product': False},\n  {'position': 68,\n   'thumbnail': 'https://encrypted-tbn0.gstatic.com/images?q=tbn:ANd9GcTzZrgp8aSeU9bbMynus2PwfCjZ2WNIB88JZw&usqp=CAU',\n   'related_content_id': 'VnM0amUxQ0VOT2tRMk1cIixcInktVV9NVzluamk0VW5N',\n   'serpapi_related_content_link': 'https://serpapi.com/search.json?engine=google_images_related_content&gl=de&hl=de&q=Horsch+GmbH+%26+Co.+KG&related_content_id=VnM0amUxQ0VOT2tRMk1cIixcInktVV9NVzluamk0VW5N',\n   'source': 'Infobel',\n   'title': 'Aachener Papierverwertung & Containerdienst Horsch GmbH & Co. KG -  Wiederverwertung Und Behandlung Verschiedener Abfälle in Aachen (Adresse,  Öffnungszeiten, Bewertungen, TEL: 0241958...) - Infobel',\n   'link': 'https://www.infobel.com/de/germany/aachener_papierverwertung_containerdienst_horsch_gmbh_co_kg/aachen/DE100930764-0241958950/businessdetails.aspx',\n   'original': 'https://s3.eu-central-1.amazonaws.com/uberall-userpics-prod/344956/BNO4m0m1cx.jpg',\n   'original_width': 1020,\n   'original_height': 480,\n   'is_product': False},\n  {'position': 69,\n   'thumbnail': 'https://encrypted-tbn0.gstatic.com/images?q=tbn:ANd9GcTLhKgT2Xe9WsxIJ0s9gVIEqRfY7W9u6Ns-zg&usqp=CAU',\n   'related_content_id': 'eFhUeXFEYlg2ZHpwMU1cIixcInhXUHFsblI5c0lucUFN',\n   'serpapi_related_content_link': 'https://serpapi.com/search.json?engine=google_images_related_content&gl=de&hl=de&q=Horsch+GmbH+%26+Co.+KG&related_content_id=eFhUeXFEYlg2ZHpwMU1cIixcInhXUHFsblI5c0lucUFN',\n   'source': 'LinkedIn',\n   'title': 'Marco Horsch – Mitinhaber – Horsch GmbH & Co. KG | LinkedIn',\n   'link': 'https://de.linkedin.com/in/marco-horsch-a19563106',\n   'original': 'https://media.licdn.com/dms/image/C4D22AQHQBmNL_iGH_A/feedshare-shrink_800/0/1647453829712?e=2147483647&v=beta&t=mgwV6_ypGZD-DPQq2o3SCW6qj3VoFkDyoK-bIybO2SI',\n   'original_width': 800,\n   'original_height': 600,\n   'is_product': False},\n  {'position': 70,\n   'thumbnail': 'https://encrypted-tbn0.gstatic.com/images?q=tbn:ANd9GcRJNB3UKNttn_IKsT8XAqTKoNb3HLRfTsPkSA&usqp=CAU',\n   'related_content_id': 'R2Z2MjFwRk9rOHJzcU1cIixcInJWLXpsZzQ4d3hYUzRN',\n   'serpapi_related_content_link': 'https://serpapi.com/search.json?engine=google_images_related_content&gl=de&hl=de&q=Horsch+GmbH+%26+Co.+KG&related_content_id=R2Z2MjFwRk9rOHJzcU1cIixcInJWLXpsZzQ4d3hYUzRN',\n   'source': 'Kununu',\n   'title': 'HORSCH Maschinen als Arbeitgeber: Gehalt, Karriere, Benefits',\n   'link': 'https://www.kununu.com/de/horsch-maschinen1',\n   'original': 'https://assets.kununu.com/images/images_company/201404/horsch-maschinen-gmbh_a222d7b2d43380800bf26c7f8f5232b4.jpg',\n   'original_width': 800,\n   'original_height': 533,\n   'is_product': False},\n  {'position': 71,\n   'thumbnail': 'https://encrypted-tbn0.gstatic.com/images?q=tbn:ANd9GcTuUgCMYMzJEJjlcUzGJRXKk16U--_hqqJzCg&usqp=CAU',\n   'related_content_id': 'N19KX1Foc24teTF4dU1cIixcIjU5YU5NVVh0Z0J1dUVN',\n   'serpapi_related_content_link': 'https://serpapi.com/search.json?engine=google_images_related_content&gl=de&hl=de&q=Horsch+GmbH+%26+Co.+KG&related_content_id=N19KX1Foc24teTF4dU1cIixcIjU5YU5NVVh0Z0J1dUVN',\n   'source': 'Das Örtliche',\n   'title': 'Aachener-Papierverwertung & Containerdienst in Aachen ⇒ in Das Örtliche',\n   'link': 'https://www.dasoertliche.de/Themen/Aachener-Papierverwertung-Containerdienst-Horsch-GmbH-Co-KG-Aachen-Wei%C3%9Fwasserstr',\n   'original': 'https://102m.de/02/0103/0001/53024285_logo1_200x100.png',\n   'original_width': 200,\n   'original_height': 100,\n   'is_product': False},\n  {'position': 72,\n   'thumbnail': 'https://encrypted-tbn0.gstatic.com/images?q=tbn:ANd9GcTy6213iWez140JYVT0mURDiWiBVZD6l4PiZA&usqp=CAU',\n   'related_content_id': 'Y3k0aTdDd3hnZW45R01cIixcIml4aXd1QTZTT05JTTRN',\n   'serpapi_related_content_link': 'https://serpapi.com/search.json?engine=google_images_related_content&gl=de&hl=de&q=Horsch+GmbH+%26+Co.+KG&related_content_id=Y3k0aTdDd3hnZW45R01cIixcIml4aXd1QTZTT05JTTRN',\n   'source': 'OKA Büromöbel',\n   'title': '▷ HORSCH Maschinen GmbH – Referenz | OKA Büromöbel',\n   'link': 'https://www.oka.de/de/horsch-maschinen-gmbh/',\n   'original': 'https://www.oka.de/de/imgv/bild-004_970x550.2431.jpg',\n   'original_width': 794,\n   'original_height': 450,\n   'is_product': False},\n  {'position': 73,\n   'thumbnail': 'https://encrypted-tbn0.gstatic.com/images?q=tbn:ANd9GcRkYMzQrgx1fl35V4q8hDAZ3AOFHSg0dSKKxQ&usqp=CAU',\n   'related_content_id': 'MktVa0JmVUIzdG5XZU1cIixcImlnSVdFcHI5RnljUXlN',\n   'serpapi_related_content_link': 'https://serpapi.com/search.json?engine=google_images_related_content&gl=de&hl=de&q=Horsch+GmbH+%26+Co.+KG&related_content_id=MktVa0JmVUIzdG5XZU1cIixcImlnSVdFcHI5RnljUXlN',\n   'source': 'Wikipedia',\n   'title': 'Horsch Maschinen – Wikipedia',\n   'link': 'https://de.wikipedia.org/wiki/Horsch_Maschinen',\n   'original': 'https://upload.wikimedia.org/wikipedia/commons/thumb/1/19/Horsch_Leeb_6.300_PT.jpg/220px-Horsch_Leeb_6.300_PT.jpg',\n   'original_width': 220,\n   'original_height': 165,\n   'is_product': False},\n  {'position': 74,\n   'thumbnail': 'https://encrypted-tbn0.gstatic.com/images?q=tbn:ANd9GcQMbFJzJupzmRiVaaNuPPGr1VHp0YhW3djgCw&usqp=CAU',\n   'related_content_id': 'MUR2dkxCcGRkb1pXek1cIixcImNieFMyeWdLd3liSlNN',\n   'serpapi_related_content_link': 'https://serpapi.com/search.json?engine=google_images_related_content&gl=de&hl=de&q=Horsch+GmbH+%26+Co.+KG&related_content_id=MUR2dkxCcGRkb1pXek1cIixcImNieFMyeWdLd3liSlNN',\n   'source': 'Igl Landtechnik GmbH & Co. KG',\n   'title': 'IGL Landtechnik/Bodenbearbeitung/KurzscheibeneggeAkpil/Horsch Joker 6  RT/2995317',\n   'link': 'https://igl-pfreimd.de/de/gebrauchtmaschinen/products/Landtechnik/Bodenbearbeitung/KurzscheibeneggeAkpil/Horsch%20Joker%206%20RT/2995317',\n   'original': 'https://admin.ams-webmanager.com/mIMG/11509289567782192536/DETAIL_2995317-1.jpg',\n   'original_width': 1280,\n   'original_height': 853,\n   'is_product': False},\n  {'position': 75,\n   'thumbnail': 'https://encrypted-tbn0.gstatic.com/images?q=tbn:ANd9GcTeHalbEjjS46cc9dBmQu77mxYg_llk71kZcQ&usqp=CAU',\n   'related_content_id': 'bkpjU2FHdEVPYVBkR01cIixcInpjVkJ4aG8xajZJWWxN',\n   'serpapi_related_content_link': 'https://serpapi.com/search.json?engine=google_images_related_content&gl=de&hl=de&q=Horsch+GmbH+%26+Co.+KG&related_content_id=bkpjU2FHdEVPYVBkR01cIixcInpjVkJ4aG8xajZJWWxN',\n   'source': 'Geschichte der Landtechnik',\n   'title': 'Horsch Maschinen GmbH',\n   'link': 'http://www.landtechnik-historisch.de/historische-landmaschinen-von-a-bis-z/h/horsch-maschinen-gmbh/',\n   'original': 'http://www.landtechnik-historisch.de/assets/Uploads/_resampled/bildergaleriecontentbigW10/20220602-Horsch-1985-Grund.jpg',\n   'original_width': 1500,\n   'original_height': 900,\n   'is_product': False},\n  {'position': 76,\n   'thumbnail': 'https://encrypted-tbn0.gstatic.com/images?q=tbn:ANd9GcT4xyC3TiIrU2QfS7BNwJrrQg2EPNy7uKxSdg&usqp=CAU',\n   'related_content_id': 'ejhHTnRDM2dqTF9pS01cIixcIkF2R21TWmtIVEZGdzdN',\n   'serpapi_related_content_link': 'https://serpapi.com/search.json?engine=google_images_related_content&gl=de&hl=de&q=Horsch+GmbH+%26+Co.+KG&related_content_id=ejhHTnRDM2dqTF9pS01cIixcIkF2R21TWmtIVEZGdzdN',\n   'source': 'TruckScout24',\n   'title': 'Horsch Striegel Cura 9 ST, Landmaschine Bodenbearbeitung sonst. gebraucht  kaufen in 32108 Bad Salzuflen-Retzen bei TruckScout24',\n   'link': 'https://www.truckscout24.de/fahrzeugdetails/Landmaschinen-Horsch-Striegel-Cura-9-ST-Bodenbearbeitung-sonst-/20650163/1',\n   'original': 'https://cdn-img.truckscout24.com/images-big/63/01/020650163_1679838514030_613261.jpg',\n   'original_width': 360,\n   'original_height': 480,\n   'is_product': False},\n  {'position': 77,\n   'thumbnail': 'https://encrypted-tbn0.gstatic.com/images?q=tbn:ANd9GcTg1x8AbfnILGo0qIve0wufQ0QKeAw6YMqx4A&usqp=CAU',\n   'related_content_id': 'bGtCbjg4WTlHU1F2cU1cIixcIlltQUQ3ZmNTR3ZXTmFN',\n   'serpapi_related_content_link': 'https://serpapi.com/search.json?engine=google_images_related_content&gl=de&hl=de&q=Horsch+GmbH+%26+Co.+KG&related_content_id=bGtCbjg4WTlHU1F2cU1cIixcIlltQUQ3ZmNTR3ZXTmFN',\n   'source': 'Cylex',\n   'title': 'Autotechnik-Horsch GmbH & Co KG ▷ Kfz-Pflegedienste in Osnabrück  Widukindland - Öffnungszeiten',\n   'link': 'https://web2.cylex.de/firma-home/autotechnik-horsch-gmbh-_-co-kg-155285.html',\n   'original': 'https://web2.cylex.de/images/155285-autotechnik-horsch-gmbh-_-co-kg-visitenkarte.png',\n   'original_width': 400,\n   'original_height': 320,\n   'is_product': False},\n  {'position': 78,\n   'thumbnail': 'https://encrypted-tbn0.gstatic.com/images?q=tbn:ANd9GcS9Y4XmjzDXE1e_SQ1HVAvRs3UZYb_XnW6l4A&usqp=CAU',\n   'related_content_id': 'cVVIY0JlZk5SMlBVNk1cIixcImp4YlpkdC1XTndHXzlN',\n   'serpapi_related_content_link': 'https://serpapi.com/search.json?engine=google_images_related_content&gl=de&hl=de&q=Horsch+GmbH+%26+Co.+KG&related_content_id=cVVIY0JlZk5SMlBVNk1cIixcImp4YlpkdC1XTndHXzlN',\n   'source': 'Land & Forst',\n   'title': 'Entwickelt Horsch selbstfahrenden Traktor? | landundforst.de',\n   'link': 'https://www.landundforst.de/landwirtschaft/landtechnik/entwickelt-horsch-selbstfahrenden-traktor-564371',\n   'tag': '0:14',\n   'original': 'https://www.landundforst.de/sites/landundforst.de/files/2021-02/_23C3937.JPG',\n   'original_width': 5760,\n   'original_height': 3840,\n   'is_product': True},\n  {'position': 79,\n   'thumbnail': 'https://encrypted-tbn0.gstatic.com/images?q=tbn:ANd9GcTriR6yjmnCLJ3z8WeC6Ntkyrb74BApjw5dXA&usqp=CAU',\n   'related_content_id': 'TFJXa1U0MmtzbmkzbU1cIixcImJvekFtOERacVNQRzdN',\n   'serpapi_related_content_link': 'https://serpapi.com/search.json?engine=google_images_related_content&gl=de&hl=de&q=Horsch+GmbH+%26+Co.+KG&related_content_id=TFJXa1U0MmtzbmkzbU1cIixcImJvekFtOERacVNQRzdN',\n   'source': 'de.agrionline.com',\n   'title': 'Gebrauchte/r/s HORSCH TT352 - Sonstige Streuer - 0',\n   'link': 'https://de.agrionline.com/sonstige-streuer/horsch-tt352/a2144353',\n   'original': 'https://cdn5.regie-agricole.com/l91583067-1/horsch-tt352.jpg',\n   'original_width': 1024,\n   'original_height': 768,\n   'is_product': False},\n  {'position': 80,\n   'thumbnail': 'https://encrypted-tbn0.gstatic.com/images?q=tbn:ANd9GcTuYpCaMc0bD24u88b9cJJs8kuTBItYPctbKg&usqp=CAU',\n   'related_content_id': 'c0phLVNrR2dMUmRqYU1cIixcImZpRjN2RkswTm10c1FN',\n   'serpapi_related_content_link': 'https://serpapi.com/search.json?engine=google_images_related_content&gl=de&hl=de&q=Horsch+GmbH+%26+Co.+KG&related_content_id=c0phLVNrR2dMUmRqYU1cIixcImZpRjN2RkswTm10c1FN',\n   'source': 'CLAAS Thüringen GmbH',\n   'title': 'CLAAS Thüringen GmbH | Horsch - Produkte',\n   'link': 'https://www.claas-thueringen.de/produkte/horsch',\n   'original': 'https://www.claas-thueringen.de/blueprint/servlet/resource/image/1700424/buehne_text/480/270/a9f2af63c178c08c06f09470ce4b709c/eZ/horsch-stage-pic-1.png',\n   'original_width': 480,\n   'original_height': 270,\n   'is_product': False},\n  {'position': 81,\n   'thumbnail': 'https://encrypted-tbn0.gstatic.com/images?q=tbn:ANd9GcREJpOecoewjuaWZPdycPASCln8QaDcBIzsUw&usqp=CAU',\n   'related_content_id': 'eV9Kb19GMThMM19RRE1cIixcIkZBTXBHMUlFbEVYNldN',\n   'serpapi_related_content_link': 'https://serpapi.com/search.json?engine=google_images_related_content&gl=de&hl=de&q=Horsch+GmbH+%26+Co.+KG&related_content_id=eV9Kb19GMThMM19RRE1cIixcIkZBTXBHMUlFbEVYNldN',\n   'source': 'JOIN',\n   'title': 'Jobs at Horsch GmbH & Co. KG | JOIN',\n   'link': 'https://join.com/companies/horsch',\n   'original': 'https://cdn.join.com/6094efe625f34f0007c35c55/horsch-gmb-h-co-kg-logo-xl.jpg',\n   'original_width': 224,\n   'original_height': 224,\n   'is_product': False},\n  {'position': 82,\n   'thumbnail': 'https://encrypted-tbn0.gstatic.com/images?q=tbn:ANd9GcRA7C1STKCXjwcZ1Qwb59HVaukHdp71rUKYpA&usqp=CAU',\n   'related_content_id': 'WEM5cW9pMlFTREpTTE1cIixcInpVcVEwaFFIWkpBc0RN',\n   'serpapi_related_content_link': 'https://serpapi.com/search.json?engine=google_images_related_content&gl=de&hl=de&q=Horsch+GmbH+%26+Co.+KG&related_content_id=WEM5cW9pMlFTREpTTE1cIixcInpVcVEwaFFIWkpBc0RN',\n   'source': 'agrarzeitung',\n   'title': 'Saisonbilanz: Horsch wächst zweistellig',\n   'link': 'https://www.agrarzeitung.de/nachrichten/wirtschaft/saisonbilanz-horsch-waechst-zweistellig-86640',\n   'original': 'https://www.agrarzeitung.de/news/media/5/Horsch-40393.jpeg',\n   'original_width': 1493,\n   'original_height': 840,\n   'is_product': False},\n  {'position': 83,\n   'thumbnail': 'https://encrypted-tbn0.gstatic.com/images?q=tbn:ANd9GcSFuvabk4TICv2xltLb46BEvrJpb3QEGV4Zog&usqp=CAU',\n   'related_content_id': 'c241QzQ5UzJ6RDdwRk1cIixcIkhrSklUNGt0T1BMbTBN',\n   'serpapi_related_content_link': 'https://serpapi.com/search.json?engine=google_images_related_content&gl=de&hl=de&q=Horsch+GmbH+%26+Co.+KG&related_content_id=c241QzQ5UzJ6RDdwRk1cIixcIkhrSklUNGt0T1BMbTBN',\n   'source': 'Tec24.com',\n   'title': 'Horsch OPTIPACK 6 AS | Walze gebraucht - Schwandorf - 7.854 €',\n   'link': 'https://de.tec24.com/c-40600/m-horsch/t-optipack-6-as/mid-3545077.html',\n   'original': 'https://de.tec24.com/9/183721/800/800/8884067_2.jpg',\n   'original_width': 800,\n   'original_height': 600,\n   'is_product': False},\n  {'position': 84,\n   'thumbnail': 'https://encrypted-tbn0.gstatic.com/images?q=tbn:ANd9GcRtqjlD4RRuGXMfiKS9TWkjZh4Wbr-DoZ6zng&usqp=CAU',\n   'related_content_id': 'dEhhM1V0Slp4ZGdWcE1cIixcInJqdURwcUdXS0FPbENN',\n   'serpapi_related_content_link': 'https://serpapi.com/search.json?engine=google_images_related_content&gl=de&hl=de&q=Horsch+GmbH+%26+Co.+KG&related_content_id=dEhhM1V0Slp4ZGdWcE1cIixcInJqdURwcUdXS0FPbENN',\n   'source': 'Bayerisches Landwirtschaftliches Wochenblatt',\n   'title': 'Horsch Maestro SV und SX: Präziser Riese | Bayerisches Landwirtschaftliches  Wochenblatt',\n   'link': 'https://www.wochenblatt-dlv.de/feld-stall/landtechnik/horsch-maestro-sv-sx-praeziser-riese-568767',\n   'original': 'https://www.wochenblatt-dlv.de/sites/wochenblatt-dlv.de/files/styles/og_image/public/2022-03/ds1-00-aufmacher-maestro-18-sv-product-image-27-47419631.jpg?itok=pWpybK3H',\n   'original_width': 1200,\n   'original_height': 630,\n   'is_product': False},\n  {'position': 85,\n   'thumbnail': 'https://encrypted-tbn0.gstatic.com/images?q=tbn:ANd9GcQUWk3FLBiwlJq2TCicfbQLV44NCha_b9_lag&usqp=CAU',\n   'related_content_id': 'M29jczU4WnZwRXlSUU1cIixcIjB1eS1UbC0xVXZwZzdN',\n   'serpapi_related_content_link': 'https://serpapi.com/search.json?engine=google_images_related_content&gl=de&hl=de&q=Horsch+GmbH+%26+Co.+KG&related_content_id=M29jczU4WnZwRXlSUU1cIixcIjB1eS1UbC0xVXZwZzdN',\n   'source': 'Igl Landtechnik GmbH & Co. KG',\n   'title': 'IGL Reifen--R/Seilwinde/Case/BGU Maschinen HRZ 6 EURO/Horsch TT352/3016268',\n   'link': 'https://www.igl-landtechnik.de/de/reifen/products/Reifen--R/Seilwinde/Case/BGU%20Maschinen%20HRZ%206%20EURO/Horsch%20TT352/3016268',\n   'original': 'https://admin.ams-webmanager.com/mIMG/11509289567782192536/DETAIL_3016268-3.jpg',\n   'original_width': 1280,\n   'original_height': 853,\n   'is_product': False},\n  {'position': 86,\n   'thumbnail': 'https://encrypted-tbn0.gstatic.com/images?q=tbn:ANd9GcQ6uljqmSAD3hTmqc0ItspMWlYcbHO5u06IGQ&usqp=CAU',\n   'related_content_id': 'SjVRTDVodEx3WGozUU1cIixcIm81SDBpY2tNejBGUVZN',\n   'serpapi_related_content_link': 'https://serpapi.com/search.json?engine=google_images_related_content&gl=de&hl=de&q=Horsch+GmbH+%26+Co.+KG&related_content_id=SjVRTDVodEx3WGozUU1cIixcIm81SDBpY2tNejBGUVZN',\n   'source': 'KR Agrar',\n   'title': 'Horsch | Passscheibe | Horsch | Originalnummer 00230081, 1,49 €',\n   'link': 'https://kr-agrar.de/Horsch-Passscheibe-Horsch-Originalnummer-00230081',\n   'original': 'https://kr-agrar.de/media/image/product/80741/lg/horsch-passscheibe-horsch-originalnummer-00230081.jpg',\n   'original_width': 1024,\n   'original_height': 1024,\n   'is_product': False},\n  {'position': 87,\n   'thumbnail': 'https://encrypted-tbn0.gstatic.com/images?q=tbn:ANd9GcRvFeHIx1x_FJFgT7TX5av_BGlBNAotSNtWrg&usqp=CAU',\n   'related_content_id': 'UUhTSGFQRk9qYXE2LU1cIixcInhBTEFqajFEVVNGcDdN',\n   'serpapi_related_content_link': 'https://serpapi.com/search.json?engine=google_images_related_content&gl=de&hl=de&q=Horsch+GmbH+%26+Co.+KG&related_content_id=UUhTSGFQRk9qYXE2LU1cIixcInhBTEFqajFEVVNGcDdN',\n   'source': 'LinkedIn',\n   'title': 'Julian Horsch – Head of Filling Department – MÄURER & WIRTZ GmbH & Co. KG |  LinkedIn',\n   'link': 'https://de.linkedin.com/in/julian-horsch-bb0a68208',\n   'original': 'https://media.licdn.com/dms/image/C4E03AQG61m_KpEg2LA/profile-displayphoto-shrink_800_800/0/1648709138892?e=2147483647&v=beta&t=HaMYMFlXotGYs3Dr8RwRbJ1Nt4bGBTSuqienn9uFXO8',\n   'original_width': 721,\n   'original_height': 721,\n   'is_product': False},\n  {'position': 88,\n   'thumbnail': 'https://encrypted-tbn0.gstatic.com/images?q=tbn:ANd9GcQPBT5eNIeV-_yhehTuc7fzAV0QH5DT00dh_g&usqp=CAU',\n   'related_content_id': 'T29aN3NyWkRwalZRUU1cIixcIkhjNFRNOGN0Ujh5UEhN',\n   'serpapi_related_content_link': 'https://serpapi.com/search.json?engine=google_images_related_content&gl=de&hl=de&q=Horsch+GmbH+%26+Co.+KG&related_content_id=T29aN3NyWkRwalZRUU1cIixcIkhjNFRNOGN0Ujh5UEhN',\n   'source': 'Pfluglos',\n   'title': 'Trauer um Walter Horsch - Pfluglos',\n   'link': 'https://www.pfluglos.de/nachrichten/trauer-um-walter-horsch',\n   'original': 'https://www.pfluglos.de/assets/images/3/KN_Walter_Horsch_sw-4fc05a94.jpg',\n   'original_width': 600,\n   'original_height': 900,\n   'is_product': False},\n  {'position': 89,\n   'thumbnail': 'https://encrypted-tbn0.gstatic.com/images?q=tbn:ANd9GcTKdRWFUzuaAKUQKWI3qyUj3GC4gRDZJ_BsMg&usqp=CAU',\n   'related_content_id': 'V2dNaS1pcEljajRoak1cIixcImZoLXFldzZRZ20xWm1N',\n   'serpapi_related_content_link': 'https://serpapi.com/search.json?engine=google_images_related_content&gl=de&hl=de&q=Horsch+GmbH+%26+Co.+KG&related_content_id=V2dNaS1pcEljajRoak1cIixcImZoLXFldzZRZ20xWm1N',\n   'source': 'Reise Landtechnik',\n   'title': 'Reise Landtechnik GmbH & Co. KG  Landtechnik/Sätechnik/Sämaschinenzubehör/page_0Horsch/Horsch Partner 1600FT  Dpl./3001625',\n   'link': 'https://reise-landtechnik.de/gebrauchtmaschinen/products/Landtechnik/S%C3%A4technik/S%C3%A4maschinenzubeh%C3%B6r/page_0Horsch/Horsch%20Partner%201600FT%20Dpl./3001625',\n   'original': 'https://admin.ams-webmanager.com/mIMG/12291181258181259510/DETAIL_3001625.jpg',\n   'original_width': 1280,\n   'original_height': 960,\n   'is_product': False},\n  {'position': 90,\n   'thumbnail': 'https://encrypted-tbn0.gstatic.com/images?q=tbn:ANd9GcTJtOAWnTvtr4U7Uml-witv8eE97TPrOSdz3g&usqp=CAU',\n   'related_content_id': 'TkxwZXgyOVNCSEVBWE1cIixcIm95cWlXc2xsc1dONGRN',\n   'serpapi_related_content_link': 'https://serpapi.com/search.json?engine=google_images_related_content&gl=de&hl=de&q=Horsch+GmbH+%26+Co.+KG&related_content_id=TkxwZXgyOVNCSEVBWE1cIixcIm95cWlXc2xsc1dONGRN',\n   'source': 'www.hellmannsberg.com',\n   'title': 'Vollblut Arabergestüt Horsch Hellmannsberg',\n   'link': 'http://www.hellmannsberg.com/',\n   'original': 'http://www.hellmannsberg.com/images/logo_gross.jpg',\n   'original_width': 571,\n   'original_height': 637,\n   'is_product': False},\n  {'position': 91,\n   'thumbnail': 'https://encrypted-tbn0.gstatic.com/images?q=tbn:ANd9GcTDx8qKyunphs0bFvp6UIU2K7sh99rkacPnpw&usqp=CAU',\n   'related_content_id': 'dER6STFPTWtCY0tiRE1cIixcIjZGTGtBd21Pd0lYRVdN',\n   'serpapi_related_content_link': 'https://serpapi.com/search.json?engine=google_images_related_content&gl=de&hl=de&q=Horsch+GmbH+%26+Co.+KG&related_content_id=dER6STFPTWtCY0tiRE1cIixcIjZGTGtBd21Pd0lYRVdN',\n   'source': 'Mascus',\n   'title': 'Horsch Pronto 6 KE mit Amazone KG 6001-2 Kreiselegge, 2009, Neubrandenburg,  Deutschland - Gebrauchte Drillmaschinenkombination - Mascus Deutschland',\n   'link': 'https://www.mascus.de/landmaschinen/drillmaschinenkombination/horsch-pronto-6-ke/hie7egaj.html',\n   'original': 'https://www.mascus.com/images/productimages/dda2ab6e/a5606108-1.jpg',\n   'original_width': 1024,\n   'original_height': 768,\n   'is_product': False},\n  {'position': 92,\n   'thumbnail': 'https://encrypted-tbn0.gstatic.com/images?q=tbn:ANd9GcRp0jP0VhVWb0U0ST_iPCoun_YMqx1ucPPi2g&usqp=CAU',\n   'related_content_id': 'cHMyNTF0XzB0eVoyeU1cIixcImhKVy1hZTQ4Q3QzZkhN',\n   'serpapi_related_content_link': 'https://serpapi.com/search.json?engine=google_images_related_content&gl=de&hl=de&q=Horsch+GmbH+%26+Co.+KG&related_content_id=cHMyNTF0XzB0eVoyeU1cIixcImhKVy1hZTQ4Q3QzZkhN',\n   'source': 'Landwirt.com',\n   'title': 'Horsch Joker 6 RT - Igl Landtechnik GmbH & Co.KG - Landwirt.com',\n   'link': 'https://www.landwirt.com/gebrauchte,3309718,Horsch-Joker-6-RT.html',\n   'original': 'https://static.landwirt.com/4603-98ecaad30733e88bd3e123a4cb20c24f-3309718-3vb.jpg',\n   'original_width': 1200,\n   'original_height': 800,\n   'is_product': False},\n  {'position': 93,\n   'thumbnail': 'https://encrypted-tbn0.gstatic.com/images?q=tbn:ANd9GcTLIAaqSPu7MPv_Tv5LznKbrF6YRcBZDOlcPw&usqp=CAU',\n   'related_content_id': 'LUxTTEJTVkFTQTRmX01cIixcInJEa1c4b3VYckVHY0hN',\n   'serpapi_related_content_link': 'https://serpapi.com/search.json?engine=google_images_related_content&gl=de&hl=de&q=Horsch+GmbH+%26+Co.+KG&related_content_id=LUxTTEJTVkFTQTRmX01cIixcInJEa1c4b3VYckVHY0hN',\n   'source': 'HORSCH',\n   'title': 'Karriere | HORSCH',\n   'link': 'https://www.horsch.com/karriere',\n   'original': 'https://www.horsch.com/fileadmin/_processed_/5/6/csm_HR_Header_370c39af6a.jpg',\n   'original_width': 1920,\n   'original_height': 720,\n   'is_product': False},\n  {'position': 94,\n   'thumbnail': 'https://encrypted-tbn0.gstatic.com/images?q=tbn:ANd9GcQiir80i61iWxkptZFnawZfmxFPCfSw28Sy3g&usqp=CAU',\n   'related_content_id': 'aGNNSzJaTFhnV1dkcU1cIixcIkZBTXBHMUlFbEVYNldN',\n   'serpapi_related_content_link': 'https://serpapi.com/search.json?engine=google_images_related_content&gl=de&hl=de&q=Horsch+GmbH+%26+Co.+KG&related_content_id=aGNNSzJaTFhnV1dkcU1cIixcIkZBTXBHMUlFbEVYNldN',\n   'source': 'JOIN',\n   'title': 'Jobs at Horsch GmbH & Co. KG | JOIN',\n   'link': 'https://join.com/companies/horsch',\n   'original': 'https://cdn.join.com/60a3ab06314ae00007436710/horsch-gmb-h-co-kg-image-orig.JPG',\n   'original_width': 1880,\n   'original_height': 1200,\n   'is_product': False},\n  {'position': 95,\n   'thumbnail': 'https://encrypted-tbn0.gstatic.com/images?q=tbn:ANd9GcSY6GpC9Jp_UMZa0Nu-EbJ8N6_ECYqZvmCdAg&usqp=CAU',\n   'related_content_id': 'TC1NbWtXZjVHQnQza01cIixcImpUc2tNN1hBcU5tMUVN',\n   'serpapi_related_content_link': 'https://serpapi.com/search.json?engine=google_images_related_content&gl=de&hl=de&q=Horsch+GmbH+%26+Co.+KG&related_content_id=TC1NbWtXZjVHQnQza01cIixcImpUc2tNN1hBcU5tMUVN',\n   'source': 'Alle-lkw.de',\n   'title': 'Horsch Pronto 6 KE mit Kuhn HR 6004 Kreiselegge Säkombination kaufen in  Deutschland - Truck1 Deutschland',\n   'link': 'https://www.alle-lkw.de/landmaschinen/sakombinationen/horsch-pronto-6-ke-mit-kuhn-hr-6004-kreiselegge-a7131705.html',\n   'original': 'https://www.alle-lkw.de/img/Landmaschine_Sakombination_Horsch_Pronto_6_KE_mit_Kuhn_HR_6004_Kreiselegge-xxl-16258/16258_8290477873097.jpg',\n   'original_width': 1066,\n   'original_height': 800,\n   'is_product': False},\n  {'position': 96,\n   'thumbnail': 'https://encrypted-tbn0.gstatic.com/images?q=tbn:ANd9GcQpAuXawdLlmGkG-erRdebzU_s-qHyhFveEiA&usqp=CAU',\n   'related_content_id': 'aGlkWWR0VFZqaVdGb01cIixcIm5NbVVabTA3aERfZ3FN',\n   'serpapi_related_content_link': 'https://serpapi.com/search.json?engine=google_images_related_content&gl=de&hl=de&q=Horsch+GmbH+%26+Co.+KG&related_content_id=aGlkWWR0VFZqaVdGb01cIixcIm5NbVVabTA3aERfZ3FN',\n   'source': 'www.horsch-gmbh.com',\n   'title': 'Schaltschränke & mehr | Horsch GmbH Augsburg',\n   'link': 'https://www.horsch-gmbh.com/',\n   'original': 'https://www.horsch-gmbh.com/wp-content/uploads/Horsch_Diagramm_Kundenzufriedenheit.jpg',\n   'original_width': 8001,\n   'original_height': 3251,\n   'is_product': False},\n  {'position': 97,\n   'thumbnail': 'https://encrypted-tbn0.gstatic.com/images?q=tbn:ANd9GcQUZTkfZSuLsSyfi_MYRrIBEWY99B9QCX7pyg&usqp=CAU',\n   'related_content_id': 'eGVPQjlXQ2FlQXRkaE1cIixcIkRKVHFpVi1Rb3RvYVZN',\n   'serpapi_related_content_link': 'https://serpapi.com/search.json?engine=google_images_related_content&gl=de&hl=de&q=Horsch+GmbH+%26+Co.+KG&related_content_id=eGVPQjlXQ2FlQXRkaE1cIixcIkRKVHFpVi1Rb3RvYVZN',\n   'source': 'WirtschaftsWoche',\n   'title': 'Horsch: Das Erfolgsrezept des Landmaschinenbauers',\n   'link': 'https://www.wiwo.de/my/unternehmen/mittelstand/hanf-und-technik-apps-das-erfolgsrezept-des-landmaschinenbauers-horsch/27427562.html',\n   'original': 'https://www.wiwo.de/images/horsch-robot-with-maestro-24-sv/27428394/3-formatOriginal.jpg',\n   'original_width': 4500,\n   'original_height': 3000,\n   'is_product': False},\n  {'position': 98,\n   'thumbnail': 'https://encrypted-tbn0.gstatic.com/images?q=tbn:ANd9GcSsN6YjLrM1pHZAHTR-PDo8Yet9VJ_3uZ-pzQ&usqp=CAU',\n   'related_content_id': 'bnA1S2RIVURVZDN4Tk1cIixcIkxzYWlWT3ltSDMxLVNN',\n   'serpapi_related_content_link': 'https://serpapi.com/search.json?engine=google_images_related_content&gl=de&hl=de&q=Horsch+GmbH+%26+Co.+KG&related_content_id=bnA1S2RIVURVZDN4Tk1cIixcIkxzYWlWT3ltSDMxLVNN',\n   'source': 'XING',\n   'title': 'Stefan Horsch - Kaufmann im Groß-und Außenhandel - Cassens GmbH & Co. KG |  XING',\n   'link': 'https://www.xing.com/profile/Stefan_Horsch',\n   'original': 'https://profile-images.xing.com/images/6023507ef3e04f2da44e4e208b90477f-1/stefan-horsch.1024x1024.jpg',\n   'original_width': 1024,\n   'original_height': 1024,\n   'is_product': False},\n  {'position': 99,\n   'thumbnail': 'https://encrypted-tbn0.gstatic.com/images?q=tbn:ANd9GcQEtreG-LfwCe7Zkf1G7rlnUzXRuL4Ee0ZmJg&usqp=CAU',\n   'related_content_id': 'TG5mU2dlbFo1YWJ4Q01cIixcInkzTFNOa3JJa2hYQW1N',\n   'serpapi_related_content_link': 'https://serpapi.com/search.json?engine=google_images_related_content&gl=de&hl=de&q=Horsch+GmbH+%26+Co.+KG&related_content_id=TG5mU2dlbFo1YWJ4Q01cIixcInkzTFNOa3JJa2hYQW1N',\n   'source': 'werbetechnik-horsch.de',\n   'title': 'Werbetechnik Horsch GmbH – Start',\n   'link': 'https://werbetechnik-horsch.de/',\n   'original': 'https://werbetechnik-horsch.de/images/slides/slide_7.jpg',\n   'original_width': 2058,\n   'original_height': 864,\n   'is_product': False},\n  {'position': 100,\n   'thumbnail': 'https://encrypted-tbn0.gstatic.com/images?q=tbn:ANd9GcTicVZa5D3E2DqgQU2_sPplnQgvdU6aCajUlQ&usqp=CAU',\n   'related_content_id': 'X0tGYUYxZnZqbUotT01cIixcImVVMl9vaDVBU1JlUXVN',\n   'serpapi_related_content_link': 'https://serpapi.com/search.json?engine=google_images_related_content&gl=de&hl=de&q=Horsch+GmbH+%26+Co.+KG&related_content_id=X0tGYUYxZnZqbUotT01cIixcImVVMl9vaDVBU1JlUXVN',\n   'source': 'Gebr. Donhauser',\n   'title': 'Gebr. Donhauser | Schulungszentrum',\n   'link': 'https://www.donhauser.de/horsch-maschinen-schulungszentrum-2/',\n   'original': 'https://www.donhauser.de/wp-content/uploads/2016/02/1461335442.jpg',\n   'original_width': 660,\n   'original_height': 800,\n   'is_product': False}],\n 'related_searches': [{'link': 'https://www.google.de/search?q=Horsch+Maschinen&tbm=isch&hl=de&gl=de&sa=X&ved=2ahUKEwjQh9SpkJT_AhVfKt4AHbDLDP0QrNwCKAB6BQgBEOIB',\n   'serpapi_link': 'https://serpapi.com/search.json?device=desktop&engine=google_images&gl=de&google_domain=google.de&hl=de&location=Germany&q=Horsch+Maschinen',\n   'query': 'Horsch Maschinen',\n   'thumbnail': 'https://encrypted-tbn0.gstatic.com/images?q=tbn:ANd9GcRYaMV5Ibvg4iBguSO6FcfUXtimZlQTlS9mBx9YM50lxrH9myJGEQ&usqp=CAU'},\n  {'link': 'https://www.google.de/search?q=horsch+aachen&tbm=isch&hl=de&gl=de&sa=X&ved=2ahUKEwjQh9SpkJT_AhVfKt4AHbDLDP0QrNwCKAB6BQgBEOQB',\n   'serpapi_link': 'https://serpapi.com/search.json?device=desktop&engine=google_images&gl=de&google_domain=google.de&hl=de&location=Germany&q=horsch+aachen',\n   'query': 'horsch aachen',\n   'highlighted_words': ['aachen'],\n   'thumbnail': 'https://encrypted-tbn0.gstatic.com/images?q=tbn:ANd9GcQkAgm57uBW3BrF06C_L_bOoO4UhO63LkLLbAr-2mfXVJWi8mKp&usqp=CAU'},\n  {'link': 'https://www.google.de/search?q=HORSCH&tbm=isch&hl=de&gl=de&sa=X&ved=2ahUKEwjQh9SpkJT_AhVfKt4AHbDLDP0QrNwCKAB6BQgBEOYB',\n   'serpapi_link': 'https://serpapi.com/search.json?device=desktop&engine=google_images&gl=de&google_domain=google.de&hl=de&location=Germany&q=HORSCH',\n   'query': 'HORSCH',\n   'thumbnail': 'https://encrypted-tbn0.gstatic.com/images?q=tbn:ANd9GcS9JidJACQ5szcS961ITYabGCoPccVCK6l7yNkn4WCWfKa7m4Kj&usqp=CAU'}]}"
     },
     "execution_count": 3,
     "metadata": {},
     "output_type": "execute_result"
    }
   ],
   "source": [
    "response"
   ]
  },
  {
   "cell_type": "code",
   "execution_count": 5,
   "metadata": {},
   "outputs": [],
   "source": [
    "import json\n",
    "\n",
    "with open(\"../external_data/google-countries.json\", \"r\") as f:\n",
    "    oi = json.load(f)"
   ]
  },
  {
   "cell_type": "code",
   "execution_count": 8,
   "metadata": {},
   "outputs": [
    {
     "name": "stdout",
     "output_type": "stream",
     "text": [
      "de\n"
     ]
    }
   ],
   "source": [
    "for i in oi:\n",
    "    if i[\"country_name\"].lower() == \"Germany\".lower():\n",
    "        print(i[\"country_code\"])"
   ]
  },
  {
   "cell_type": "code",
   "execution_count": null,
   "metadata": {},
   "outputs": [],
   "source": []
  }
 ],
 "metadata": {
  "kernelspec": {
   "display_name": "Python 3.9.16 64-bit",
   "name": "python3916jvsc74a57bd03595f5ff90e1af30d1dc43aaf8d22cbd63a07cedbf4f9fee389b052af8ffa6b0"
  },
  "language_info": {
   "codemirror_mode": {
    "name": "ipython",
    "version": 3
   },
   "file_extension": ".py",
   "mimetype": "text/x-python",
   "name": "python",
   "nbconvert_exporter": "python",
   "pygments_lexer": "ipython3",
   "version": "3.9.16"
  },
  "metadata": {
   "interpreter": {
    "hash": "3595f5ff90e1af30d1dc43aaf8d22cbd63a07cedbf4f9fee389b052af8ffa6b0"
   }
  },
  "orig_nbformat": 2
 },
 "nbformat": 4,
 "nbformat_minor": 2
}