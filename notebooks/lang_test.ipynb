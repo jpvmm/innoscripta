{
 "cells": [
  {
   "cell_type": "code",
   "execution_count": 3,
   "metadata": {},
   "outputs": [
    {
     "name": "stdout",
     "output_type": "stream",
     "text": [
      "sk-859 24ada9\n"
     ]
    }
   ],
   "source": [
    "from dotenv import load_dotenv\n",
    "import os\n",
    "from langchain.chains import LLMChain\n",
    "from langchain import PromptTemplate\n",
    "from langchain.llms import OpenAI\n",
    "from serpapi import GoogleSearch\n",
    "\n",
    "load_dotenv()\n",
    "\n",
    "OPENAI_API_KEY=os.getenv(\"OPENAI_API_KEY\")\n",
    "SERPAPI_KEY = os.getenv(\"SERPAPI_KEY\")\n",
    "print(OPENAI_API_KEY[0:6], SERPAPI_KEY[0:6])"
   ]
  },
  {
   "cell_type": "code",
   "execution_count": 4,
   "metadata": {},
   "outputs": [
    {
     "name": "stderr",
     "output_type": "stream",
     "text": [
      "/home/jp/anaconda3/envs/inno/lib/python3.9/site-packages/langchain/llms/openai.py:169: UserWarning: You are trying to use a chat model. This way of initializing it is no longer supported. Instead, please use: `from langchain.chat_models import ChatOpenAI`\n",
      "  warnings.warn(\n",
      "/home/jp/anaconda3/envs/inno/lib/python3.9/site-packages/langchain/llms/openai.py:696: UserWarning: You are trying to use a chat model. This way of initializing it is no longer supported. Instead, please use: `from langchain.chat_models import ChatOpenAI`\n",
      "  warnings.warn(\n"
     ]
    }
   ],
   "source": [
    "\n",
    "llm = OpenAI(model_name=\"gpt-3.5-turbo\", temperature=0)"
   ]
  },
  {
   "cell_type": "code",
   "execution_count": 5,
   "metadata": {},
   "outputs": [],
   "source": [
    "\n",
    "\n",
    "\n",
    "template = \"\"\"\n",
    "    I'll give you three inputs. These inputs will be the name of the company, \n",
    "    the country of the company, and the website company. The website of the company\n",
    "    is not mandatory.\n",
    "    You have to give me the products and services that the company offers as output.\n",
    "    you dont need to give me nothing more than the ouput.\n",
    "\n",
    "\n",
    "\n",
    "    input:\n",
    "    IKEA Deutschland GmbH & Co. KG\n",
    "    Germany\n",
    "    ikea.com\n",
    "\n",
    "    the output must be in this format, please use it:\n",
    "    \"Products/services\": Furniture, Home decor, Kitchen and Dining;\n",
    "    \"Keywords\":furniture, storage, lighting;\n",
    "    \"Company Classification\":5712 (Furniture Stores) – SIC, 442110 (Furniture Stores) – NAICS\n",
    "    do it yourself now.\n",
    "    input:\n",
    "    {name_of_company}\n",
    "    {country_of_company}\n",
    "    {website_of_company}\n",
    "\n",
    "    what is the output?\n",
    "\"\"\"\n",
    "\n",
    "prompt = PromptTemplate(\n",
    "    input_variables=[\"name_of_company\", \"country_of_company\", \"website_of_company\"],\n",
    "    template=template,\n",
    ")"
   ]
  },
  {
   "cell_type": "code",
   "execution_count": 6,
   "metadata": {},
   "outputs": [],
   "source": [
    "\n",
    "chain = LLMChain(llm=llm, prompt=prompt)\n",
    "output = chain.run({\"name_of_company\": \"Google\", \n",
    "           \"country_of_company\": \"United States\", \n",
    "           \"website_of_company\":\"google.com\"\n",
    "\n",
    "})"
   ]
  },
  {
   "cell_type": "code",
   "execution_count": 7,
   "metadata": {},
   "outputs": [
    {
     "name": "stdout",
     "output_type": "stream",
     "text": [
      "\"Products/services\": Search engine, Advertising, Cloud computing, Software;\n",
      "    \"Keywords\": Search, Advertising, Cloud, Software, Technology;\n",
      "    \"Company Classification\": 7370 (Computer Programming, Data Processing, and Related Services) – SIC, 511210 (Software Publishers) – NAICS.\n"
     ]
    }
   ],
   "source": [
    "print(output)"
   ]
  },
  {
   "cell_type": "code",
   "execution_count": null,
   "metadata": {},
   "outputs": [],
   "source": [
    "#query de busca no serpapi:\n",
    "#nomedaempresa + paisdaempresa + palavrachave1 + palavrachave2 + palavrachave3"
   ]
  },
  {
   "cell_type": "code",
   "execution_count": 8,
   "metadata": {},
   "outputs": [],
   "source": [
    "def parse_output(output_langchain: str) -> dict:\n",
    "  \"\"\" \n",
    "  Will parse the output_langchain of the Langchain query\n",
    "  \n",
    "  Args:\n",
    "    output(str): The output_langchain of Langchain query.\n",
    "\n",
    "  Returns:\n",
    "    result_dict(dict): the parsed output_langchain to dict\n",
    "  \"\"\"\n",
    "\n",
    "  result_dict = {}\n",
    "\n",
    "  sections = [section.strip() for section in output.split(\";\")]\n",
    "\n",
    "  for section in sections:\n",
    "      if section:\n",
    "          header, values_str = section.split(\":\")\n",
    "          header = header.strip('\"')\n",
    "          values = [value.strip() for value in values_str.strip('[]').split(\",\")]\n",
    "\n",
    "          result_dict[header] = values\n",
    "\n",
    "  return result_dict"
   ]
  },
  {
   "cell_type": "code",
   "execution_count": 9,
   "metadata": {},
   "outputs": [],
   "source": [
    "parsed = parse_output(output)"
   ]
  },
  {
   "cell_type": "code",
   "execution_count": 11,
   "metadata": {},
   "outputs": [
    {
     "data": {
      "text/plain": "{'Products/services': ['Search engine',\n  'Advertising',\n  'Cloud computing',\n  'Software'],\n 'Keywords': ['Search', 'Advertising', 'Cloud', 'Software', 'Technology'],\n 'Company Classification': ['7370 (Computer Programming',\n  'Data Processing',\n  'and Related Services) – SIC',\n  '511210 (Software Publishers) – NAICS.'],\n 'images': 'test'}"
     },
     "execution_count": 11,
     "metadata": {},
     "output_type": "execute_result"
    }
   ],
   "source": [
    "parsed[\"images\"] = \"test\"\n",
    "parsed"
   ]
  },
  {
   "cell_type": "code",
   "execution_count": 8,
   "metadata": {},
   "outputs": [
    {
     "data": {
      "text/plain": "['Search engine', 'Advertising', 'Cloud computing', 'Software']"
     },
     "execution_count": 8,
     "metadata": {},
     "output_type": "execute_result"
    }
   ],
   "source": [
    "parsed[\"Products/services\"]"
   ]
  },
  {
   "cell_type": "markdown",
   "metadata": {},
   "source": [
    "# Teste com SerpAPI"
   ]
  },
  {
   "cell_type": "code",
   "execution_count": 9,
   "metadata": {},
   "outputs": [],
   "source": [
    "#!pip install google-search-results\n"
   ]
  },
  {
   "cell_type": "code",
   "execution_count": 11,
   "metadata": {},
   "outputs": [],
   "source": [
    "search = GoogleSearch({\n",
    "    \"q\": \"Polar bear\",\n",
    "    \"engine\": \"google_images\",\n",
    "    \"location\": \"Austin, Texas\",\n",
    "    \"api_key\": SERPAPI_KEY\n",
    "})"
   ]
  },
  {
   "cell_type": "code",
   "execution_count": 12,
   "metadata": {},
   "outputs": [
    {
     "data": {
      "text/plain": "<serpapi.google_search.GoogleSearch at 0x7f240b485190>"
     },
     "execution_count": 12,
     "metadata": {},
     "output_type": "execute_result"
    }
   ],
   "source": [
    "search"
   ]
  },
  {
   "cell_type": "code",
   "execution_count": null,
   "metadata": {},
   "outputs": [],
   "source": [
    "response = search.get_dict()\n",
    "print(response)"
   ]
  },
  {
   "cell_type": "code",
   "execution_count": 16,
   "metadata": {},
   "outputs": [
    {
     "data": {
      "text/plain": "dict_keys(['search_metadata', 'search_parameters', 'search_information', 'suggested_searches', 'images_results', 'related_searches'])"
     },
     "execution_count": 16,
     "metadata": {},
     "output_type": "execute_result"
    }
   ],
   "source": [
    "response.keys()"
   ]
  },
  {
   "cell_type": "code",
   "execution_count": 24,
   "metadata": {},
   "outputs": [
    {
     "data": {
      "text/plain": "['https://upload.wikimedia.org/wikipedia/commons/6/66/Polar_Bear_-_Alaska_%28cropped%29.jpg',\n 'https://i.natgeofe.com/k/55256f3f-2cf1-4b93-9d95-a13b0faa30a6/Mom-and-Babies_Polar-Bear_KIDS_0223-crop_3x2.jpg',\n 'https://files.worldwildlife.org/wwfcmsprod/images/Polar_bear_on_ice_in_Svalbard_Norway_WW294883/story_full_width/42ny6cwj8t_Polar_bear_on_ice_in_Svalbard_Norway_WW294883.jpg',\n 'https://good-nature-blog-uploads.s3.amazonaws.com/uploads/2022/07/Polar-Bear-playing-in-the-snow-by-Eddy-Savage-1280x640.png',\n 'https://optimise2.assets-servd.host/maniacal-finch/production/animals/polar-bear-01-01.jpg?w=1200&auto=compress%2Cformat&fit=crop&dm=1658950229&s=92bb7b274a3ab178ae54ddf5b186306b']"
     },
     "execution_count": 24,
     "metadata": {},
     "output_type": "execute_result"
    }
   ],
   "source": [
    "imgs = [r[\"original\"] for r in response[\"images_results\"][:5]]\n",
    "imgs"
   ]
  },
  {
   "cell_type": "code",
   "execution_count": 26,
   "metadata": {},
   "outputs": [],
   "source": [
    "def google_search(query: str) -> list:\n",
    "    \"\"\"\n",
    "    Will query google for images based in the output of OpenAIAPI\n",
    "    \n",
    "    Args:\n",
    "        query(str): Formated query using the output openaiAPI\n",
    "    \n",
    "    Results:\n",
    "        imgs(list): List with URLs for images\n",
    "    \"\"\"\n",
    "    search = GoogleSearch({\n",
    "    \"q\": query,\n",
    "    \"engine\": \"google_images\",\n",
    "    \"location\": \"Austin, Texas\",\n",
    "    \"api_key\": SERPAPI_KEY\n",
    "    })\n",
    "    response = search.get_dict()\n",
    "    imgs = [r[\"original\"] for r in response[\"images_results\"][:5]]\n",
    "\n",
    "    return imgs"
   ]
  },
  {
   "cell_type": "code",
   "execution_count": 27,
   "metadata": {},
   "outputs": [
    {
     "data": {
      "text/plain": "['https://upload.wikimedia.org/wikipedia/commons/6/66/Polar_Bear_-_Alaska_%28cropped%29.jpg',\n 'https://i.natgeofe.com/k/55256f3f-2cf1-4b93-9d95-a13b0faa30a6/Mom-and-Babies_Polar-Bear_KIDS_0223-crop_3x2.jpg',\n 'https://files.worldwildlife.org/wwfcmsprod/images/Polar_bear_on_ice_in_Svalbard_Norway_WW294883/story_full_width/42ny6cwj8t_Polar_bear_on_ice_in_Svalbard_Norway_WW294883.jpg',\n 'https://good-nature-blog-uploads.s3.amazonaws.com/uploads/2022/07/Polar-Bear-playing-in-the-snow-by-Eddy-Savage-1280x640.png',\n 'https://optimise2.assets-servd.host/maniacal-finch/production/animals/polar-bear-01-01.jpg?w=1200&auto=compress%2Cformat&fit=crop&dm=1658950229&s=92bb7b274a3ab178ae54ddf5b186306b']"
     },
     "execution_count": 27,
     "metadata": {},
     "output_type": "execute_result"
    }
   ],
   "source": [
    "tst = google_search(\"Polar bear\")\n",
    "tst"
   ]
  },
  {
   "cell_type": "code",
   "execution_count": 28,
   "metadata": {},
   "outputs": [],
   "source": [
    "#prompt creation -> openai query -> google query creation -> google search\n",
    "\n",
    "def gpt_call(name: str, country: str, website: str = None) -> dict:\n",
    "    \"\"\"\n",
    "    Will call gpt-3.5-turbo for querying informations about a company.\n",
    "\n",
    "    Args:\n",
    "        name(str): Name of the company\n",
    "        country(str): Country of the company\n",
    "        website(str): Website of the company\n",
    "\n",
    "    Results:\n",
    "        output(dict) = Parsed output of OpenAIAPI\n",
    "    \"\"\"\n",
    "    if not website:\n",
    "        website = \"\"\n",
    "    llm = OpenAI(model_name=\"gpt-3.5-turbo\", temperature=0)\n",
    "\n",
    "    template = \"\"\"\n",
    "    I'll give you three inputs. These inputs will be the name of the company, \n",
    "    the country of the company, and the website company. The website of the company\n",
    "    is not mandatory.\n",
    "    You have to give me the products and services that the company offers as output.\n",
    "    you dont need to give me nothing more than the ouput.\n",
    "\n",
    "\n",
    "\n",
    "    input:\n",
    "    IKEA Deutschland GmbH & Co. KG\n",
    "    Germany\n",
    "    ikea.com\n",
    "\n",
    "    the output must be in this format, please use it:\n",
    "    \"Products/services\": Furniture, Home decor, Kitchen and Dining;\n",
    "    \"Keywords\":furniture, storage, lighting;\n",
    "    \"Company Classification\":5712 (Furniture Stores) – SIC, 442110 (Furniture Stores) – NAICS\n",
    "    do it yourself now.\n",
    "    input:\n",
    "    {name_of_company}\n",
    "    {country_of_company}\n",
    "    {website_of_company}\n",
    "\n",
    "    what is the output?\n",
    "    \"\"\"\n",
    "\n",
    "    prompt = PromptTemplate(\n",
    "        input_variables=[\"name_of_company\", \"country_of_company\", \"website_of_company\"],\n",
    "        template=template,\n",
    "    )\n",
    "    chain = LLMChain(llm=llm, prompt=prompt)\n",
    "    output = chain.run({\"name_of_company\": name, \n",
    "            \"country_of_company\": country, \n",
    "            \"website_of_company\":website\n",
    "\n",
    "    })\n",
    "    parsed = parse_output(output)\n",
    "\n",
    "    return parsed\n"
   ]
  },
  {
   "cell_type": "code",
   "execution_count": 29,
   "metadata": {},
   "outputs": [
    {
     "name": "stderr",
     "output_type": "stream",
     "text": [
      "/home/jp/anaconda3/envs/inno/lib/python3.9/site-packages/langchain/llms/openai.py:169: UserWarning: You are trying to use a chat model. This way of initializing it is no longer supported. Instead, please use: `from langchain.chat_models import ChatOpenAI`\n",
      "  warnings.warn(\n",
      "/home/jp/anaconda3/envs/inno/lib/python3.9/site-packages/langchain/llms/openai.py:696: UserWarning: You are trying to use a chat model. This way of initializing it is no longer supported. Instead, please use: `from langchain.chat_models import ChatOpenAI`\n",
      "  warnings.warn(\n"
     ]
    },
    {
     "name": "stdout",
     "output_type": "stream",
     "text": [
      "{'Products/services': ['Search engine', 'Advertising', 'Cloud computing', 'Software'], 'Keywords': ['Search', 'Advertising', 'Cloud', 'Software', 'Technology'], 'Company Classification': ['7370 (Computer Programming', 'Data Processing', 'and Other Computer Related Services) – SIC', '511210 (Software Publishers) – NAICS']}\n",
      "{'Products/services': ['Search engine', 'Advertising', 'Cloud computing', 'Software'], 'Keywords': ['Search', 'Advertising', 'Cloud', 'Software', 'Technology'], 'Company Classification': ['7370 (Computer Programming', 'Data Processing', 'and Other Computer Related Services) – SIC', '511210 (Software Publishers) – NAICS']}\n"
     ]
    }
   ],
   "source": [
    "parsed = gpt_call(name=\"Google\", country=\"United States\")\n",
    "print(parsed)"
   ]
  },
  {
   "cell_type": "code",
   "execution_count": 37,
   "metadata": {},
   "outputs": [],
   "source": [
    "products_services_str = \" + \".join(parsed[\"Products/services\"])"
   ]
  },
  {
   "cell_type": "code",
   "execution_count": 43,
   "metadata": {},
   "outputs": [],
   "source": [
    "def google_query_formation(name: str, country: str, products: list) -> str:\n",
    "    \"\"\"\n",
    "    Will manipulate strings to create Google search query\n",
    "\n",
    "    Args:\n",
    "        name(str): Name of company\n",
    "        countr(str): Country of company\n",
    "        products(list): Products that the company offers\n",
    "\n",
    "    Return:\n",
    "        google_query(str): Google query\n",
    "    \"\"\"\n",
    "    products_services_str = \" + \".join(products)\n",
    "\n",
    "    return \" + \".join([name, country, products_services_str])"
   ]
  },
  {
   "cell_type": "code",
   "execution_count": 12,
   "metadata": {},
   "outputs": [],
   "source": [
    "from langchain.chains import LLMChain\n",
    "from langchain import PromptTemplate\n",
    "from langchain.llms import OpenAI\n",
    "from serpapi import GoogleSearch\n",
    "class Innoscripta:\n",
    "    \"\"\"Class of innoscript solution \"\"\"\n",
    "    def __init__(self, name: str, country: str, website: str = None):\n",
    "        self.name = name\n",
    "        self.country = country\n",
    "        if not website:\n",
    "            self.website = \"\"\n",
    "        else:\n",
    "            self.website = website\n",
    "\n",
    "    def main(self):\n",
    "        \"\"\"\n",
    "        Will do the innoscripta querying\n",
    "        \"\"\"\n",
    "        parsed_gpt_ouput = self.gpt_call()\n",
    "        google_query = self.google_query_formation(parsed_gpt_ouput)\n",
    "        imgs = self.google_search(google_query)\n",
    "        parsed_gpt_ouput[\"images\"] = imgs\n",
    "\n",
    "        return parsed_gpt_ouput\n",
    "\n",
    "    def gpt_call(self) -> dict:\n",
    "        \"\"\"\n",
    "        Will call gpt-3.5-turbo for querying informations about a company.\n",
    "\n",
    "        Args:\n",
    "            name(str): Name of the company\n",
    "            country(str): Country of the company\n",
    "            website(str): Website of the company\n",
    "\n",
    "        Results:\n",
    "            output(dict) = Parsed output of OpenAIAPI\n",
    "        \"\"\"\n",
    "        llm = OpenAI(model_name=\"gpt-3.5-turbo\", temperature=0)\n",
    "\n",
    "        prompt = self.prompt_template()\n",
    "\n",
    "        chain = LLMChain(llm=llm, prompt=prompt)\n",
    "        output = chain.run({\"name_of_company\": self.name, \n",
    "                \"country_of_company\": self.country, \n",
    "                \"website_of_company\": self.website\n",
    "\n",
    "        })\n",
    "        parsed = self.parse_output(output)\n",
    "        \n",
    "        return parsed\n",
    "\n",
    "    def google_query_formation(self, products: list) -> str:\n",
    "        \"\"\"\n",
    "        Will manipulate strings to create Google search query\n",
    "\n",
    "        Args:\n",
    "            name(str): Name of company\n",
    "            countr(str): Country of company\n",
    "            products(list): Products that the company offers\n",
    "\n",
    "        Return:\n",
    "            google_query(str): Google query\n",
    "        \"\"\"\n",
    "        products_services_str = \" + \".join(products)\n",
    "\n",
    "        return \" + \".join([self.name, self.country, products_services_str])\n",
    "\n",
    "    def google_search(self, query: str) -> list:\n",
    "        \"\"\"\n",
    "        Will query google for images based in the output of OpenAIAPI\n",
    "        \n",
    "        Args:\n",
    "            query(str): Formated query using the output openaiAPI\n",
    "        \n",
    "        Results:\n",
    "            imgs(list): List with URLs for images\n",
    "        \"\"\"\n",
    "        search = GoogleSearch({\n",
    "        \"q\": query,\n",
    "        \"engine\": \"google_images\",\n",
    "        \"location\": \"Austin, Texas\",\n",
    "        \"api_key\": SERPAPI_KEY\n",
    "        })\n",
    "        response = search.get_dict()\n",
    "        imgs = [r[\"original\"] for r in response[\"images_results\"][:5]]\n",
    "\n",
    "        return imgs\n",
    "\n",
    "    def prompt_template(self):\n",
    "        template = \"\"\"\n",
    "        I'll give you three inputs. These inputs will be the name of the company, \n",
    "        the country of the company, and the website company. The website of the company\n",
    "        is not mandatory.\n",
    "        You have to give me the products and services that the company offers as output.\n",
    "        you dont need to give me nothing more than the ouput.\n",
    "\n",
    "\n",
    "\n",
    "        input:\n",
    "        IKEA Deutschland GmbH & Co. KG\n",
    "        Germany\n",
    "        ikea.com\n",
    "\n",
    "        the output must be in this format, please use it:\n",
    "        \"Products/services\": Furniture, Home decor, Kitchen and Dining;\n",
    "        \"Keywords\":furniture, storage, lighting;\n",
    "        \"Company Classification\":5712 (Furniture Stores) – SIC, 442110 (Furniture Stores) – NAICS\n",
    "        do it yourself now.\n",
    "        input:\n",
    "        {name_of_company}\n",
    "        {country_of_company}\n",
    "        {website_of_company}\n",
    "\n",
    "        what is the output?\n",
    "        \"\"\"\n",
    "\n",
    "        prompt = PromptTemplate(\n",
    "            input_variables=[\"name_of_company\", \"country_of_company\", \"website_of_company\"],\n",
    "            template=template,\n",
    "        )\n",
    "\n",
    "        return prompt\n",
    "\n",
    "    def parse_output(self, output_langchain: str) -> dict:\n",
    "        \"\"\" \n",
    "        Will parse the output_langchain of the Langchain query\n",
    "        \n",
    "        Args:\n",
    "            output(str): The output_langchain of Langchain query.\n",
    "\n",
    "        Returns:\n",
    "            result_dict(dict): the parsed output_langchain to dict\n",
    "        \"\"\"\n",
    "\n",
    "        result_dict = {}\n",
    "\n",
    "        sections = [section.strip() for section in output_langchain.split(\";\")]\n",
    "\n",
    "        for section in sections:\n",
    "            if section:\n",
    "                header, values_str = section.split(\":\")\n",
    "                header = header.strip('\"')\n",
    "                values = [value.strip() for value in values_str.strip('[]').split(\",\")]\n",
    "\n",
    "                result_dict[header] = values\n",
    "\n",
    "        return result_dict"
   ]
  },
  {
   "cell_type": "code",
   "execution_count": 13,
   "metadata": {},
   "outputs": [],
   "source": [
    "inno = Innoscripta(name=\"Google\", country=\"United States\")"
   ]
  },
  {
   "cell_type": "code",
   "execution_count": 14,
   "metadata": {},
   "outputs": [
    {
     "name": "stderr",
     "output_type": "stream",
     "text": [
      "/home/jp/anaconda3/envs/inno/lib/python3.9/site-packages/langchain/llms/openai.py:169: UserWarning: You are trying to use a chat model. This way of initializing it is no longer supported. Instead, please use: `from langchain.chat_models import ChatOpenAI`\n",
      "  warnings.warn(\n",
      "/home/jp/anaconda3/envs/inno/lib/python3.9/site-packages/langchain/llms/openai.py:696: UserWarning: You are trying to use a chat model. This way of initializing it is no longer supported. Instead, please use: `from langchain.chat_models import ChatOpenAI`\n",
      "  warnings.warn(\n"
     ]
    }
   ],
   "source": [
    "tst = inno.main()"
   ]
  },
  {
   "cell_type": "code",
   "execution_count": 15,
   "metadata": {},
   "outputs": [
    {
     "data": {
      "text/plain": "{'Products/services': ['Search engine',\n  'Advertising',\n  'Cloud computing',\n  'Software'],\n 'Keywords': ['Search', 'Advertising', 'Cloud', 'Software', 'Technology'],\n 'Company Classification': ['7371 (Computer Programming Services) – SIC',\n  '511210 (Software Publishers) – NAICS.'],\n 'images': ['https://www.samuraidr.com/wp-content/uploads/2021/09/Screen-Shot-2021-09-01-at-12.43.14-PM-1024x592.png',\n  'https://static.semrush.com/blog/uploads/media/ac/63/ac6308fae83bd9c952b0b1a5292d352e/y0zetQ4D7_4Ga5SDq-gSTG9vYjPATpn_bXTRPA7pQ991koJyT9qMWGo-lG8HrXJ1GlHBWd_ld1dzDkpK88VYzI7TBehq61QuHw3HVGAzid65rQjf-ztHcFlvoy657tw4NHa39WB2.png',\n  'https://static.semrush.com/blog/uploads/media/e0/3a/e03a2709a8cc1a41f2d66fa2b01a0b44/What-a-Keyword-Is.webp',\n  'https://static.semrush.com/blog/uploads/media/58/24/582487daa3d51dc129c42eec007fe665/original.png',\n  'https://cdn.shopify.com/s/files/1/0070/7032/files/natural-dog-food.png?format=webp&v=1650031892']}"
     },
     "execution_count": 15,
     "metadata": {},
     "output_type": "execute_result"
    }
   ],
   "source": [
    "tst"
   ]
  },
  {
   "cell_type": "code",
   "execution_count": null,
   "metadata": {},
   "outputs": [],
   "source": []
  }
 ],
 "metadata": {
  "kernelspec": {
   "display_name": "Python 3.9.16 64-bit ('inno': conda)",
   "name": "python3916jvsc74a57bd03595f5ff90e1af30d1dc43aaf8d22cbd63a07cedbf4f9fee389b052af8ffa6b0"
  },
  "language_info": {
   "codemirror_mode": {
    "name": "ipython",
    "version": 3
   },
   "file_extension": ".py",
   "mimetype": "text/x-python",
   "name": "python",
   "nbconvert_exporter": "python",
   "pygments_lexer": "ipython3",
   "version": "3.9.16"
  },
  "orig_nbformat": 2
 },
 "nbformat": 4,
 "nbformat_minor": 2
}