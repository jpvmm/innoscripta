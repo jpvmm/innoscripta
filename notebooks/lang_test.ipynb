{
 "cells": [
  {
   "cell_type": "code",
   "execution_count": 3,
   "metadata": {},
   "outputs": [
    {
     "name": "stdout",
     "output_type": "stream",
     "text": [
      "sk-859 24ada9\n"
     ]
    }
   ],
   "source": [
    "from dotenv import load_dotenv\n",
    "import os\n",
    "from langchain.chains import LLMChain\n",
    "from langchain import PromptTemplate\n",
    "from langchain.llms import OpenAI\n",
    "from serpapi import GoogleSearch\n",
    "\n",
    "load_dotenv()\n",
    "\n",
    "OPENAI_API_KEY=os.getenv(\"OPENAI_API_KEY\")\n",
    "SERPAPI_KEY = os.getenv(\"SERPAPI_KEY\")\n",
    "print(OPENAI_API_KEY[0:6], SERPAPI_KEY[0:6])"
   ]
  },
  {
   "cell_type": "code",
   "execution_count": 19,
   "metadata": {},
   "outputs": [],
   "source": [
    "import requests\n",
    "import json\n",
    "\n",
    "search = GoogleSearch(\n",
    "    {\n",
    "        \"q\": \"Swift Logistics + website\",\n",
    "        \"engine\": \"google\",\n",
    "        \"location\": \"Austin, Texas\",\n",
    "        \"api_key\": SERPAPI_KEY,\n",
    "    }\n",
    ")\n",
    "response = search.get_dict()\n"
   ]
  },
  {
   "cell_type": "code",
   "execution_count": 20,
   "metadata": {},
   "outputs": [
    {
     "data": {
      "text/plain": "'https://www.swiftlogistics.com/'"
     },
     "execution_count": 20,
     "metadata": {},
     "output_type": "execute_result"
    }
   ],
   "source": [
    "response[\"organic_results\"][0][\"link\"]"
   ]
  },
  {
   "cell_type": "code",
   "execution_count": 4,
   "metadata": {},
   "outputs": [
    {
     "name": "stderr",
     "output_type": "stream",
     "text": [
      "/home/jp/anaconda3/envs/inno/lib/python3.9/site-packages/langchain/llms/openai.py:169: UserWarning: You are trying to use a chat model. This way of initializing it is no longer supported. Instead, please use: `from langchain.chat_models import ChatOpenAI`\n",
      "  warnings.warn(\n",
      "/home/jp/anaconda3/envs/inno/lib/python3.9/site-packages/langchain/llms/openai.py:696: UserWarning: You are trying to use a chat model. This way of initializing it is no longer supported. Instead, please use: `from langchain.chat_models import ChatOpenAI`\n",
      "  warnings.warn(\n"
     ]
    }
   ],
   "source": [
    "\n",
    "llm = OpenAI(model_name=\"gpt-3.5-turbo\", temperature=0)"
   ]
  },
  {
   "cell_type": "code",
   "execution_count": 5,
   "metadata": {},
   "outputs": [],
   "source": [
    "\n",
    "\n",
    "\n",
    "template = \"\"\"\n",
    "    I'll give you three inputs. These inputs will be the name of the company, \n",
    "    the country of the company, and the website company. The website of the company\n",
    "    is not mandatory.\n",
    "    You have to give me the products and services that the company offers as output.\n",
    "    you dont need to give me nothing more than the ouput.\n",
    "\n",
    "\n",
    "\n",
    "    input:\n",
    "    IKEA Deutschland GmbH & Co. KG\n",
    "    Germany\n",
    "    ikea.com\n",
    "\n",
    "    the output must be in this format, please use it:\n",
    "    \"Products/services\": Furniture, Home decor, Kitchen and Dining;\n",
    "    \"Keywords\":furniture, storage, lighting;\n",
    "    \"Company Classification\":5712 (Furniture Stores) – SIC, 442110 (Furniture Stores) – NAICS\n",
    "    do it yourself now.\n",
    "    input:\n",
    "    {name_of_company}\n",
    "    {country_of_company}\n",
    "    {website_of_company}\n",
    "\n",
    "    what is the output?\n",
    "\"\"\"\n",
    "\n",
    "prompt = PromptTemplate(\n",
    "    input_variables=[\"name_of_company\", \"country_of_company\", \"website_of_company\"],\n",
    "    template=template,\n",
    ")"
   ]
  },
  {
   "cell_type": "code",
   "execution_count": 6,
   "metadata": {},
   "outputs": [],
   "source": [
    "\n",
    "chain = LLMChain(llm=llm, prompt=prompt)\n",
    "output = chain.run({\"name_of_company\": \"Google\", \n",
    "           \"country_of_company\": \"United States\", \n",
    "           \"website_of_company\":\"google.com\"\n",
    "\n",
    "})"
   ]
  },
  {
   "cell_type": "code",
   "execution_count": 7,
   "metadata": {},
   "outputs": [
    {
     "name": "stdout",
     "output_type": "stream",
     "text": [
      "\"Products/services\": Search engine, Advertising, Cloud computing, Software;\n",
      "    \"Keywords\": Search, Advertising, Cloud, Software, Technology;\n",
      "    \"Company Classification\": 7370 (Computer Programming, Data Processing, and Related Services) – SIC, 511210 (Software Publishers) – NAICS.\n"
     ]
    }
   ],
   "source": [
    "print(output)"
   ]
  },
  {
   "cell_type": "code",
   "execution_count": null,
   "metadata": {},
   "outputs": [],
   "source": [
    "#query de busca no serpapi:\n",
    "#nomedaempresa + paisdaempresa + palavrachave1 + palavrachave2 + palavrachave3"
   ]
  },
  {
   "cell_type": "code",
   "execution_count": 8,
   "metadata": {},
   "outputs": [],
   "source": [
    "def parse_output(output_langchain: str) -> dict:\n",
    "  \"\"\" \n",
    "  Will parse the output_langchain of the Langchain query\n",
    "  \n",
    "  Args:\n",
    "    output(str): The output_langchain of Langchain query.\n",
    "\n",
    "  Returns:\n",
    "    result_dict(dict): the parsed output_langchain to dict\n",
    "  \"\"\"\n",
    "\n",
    "  result_dict = {}\n",
    "\n",
    "  sections = [section.strip() for section in output.split(\";\")]\n",
    "\n",
    "  for section in sections:\n",
    "      if section:\n",
    "          header, values_str = section.split(\":\")\n",
    "          header = header.strip('\"')\n",
    "          values = [value.strip() for value in values_str.strip('[]').split(\",\")]\n",
    "\n",
    "          result_dict[header] = values\n",
    "\n",
    "  return result_dict"
   ]
  },
  {
   "cell_type": "code",
   "execution_count": 9,
   "metadata": {},
   "outputs": [],
   "source": [
    "parsed = parse_output(output)"
   ]
  },
  {
   "cell_type": "code",
   "execution_count": 11,
   "metadata": {},
   "outputs": [
    {
     "data": {
      "text/plain": "{'Products/services': ['Search engine',\n  'Advertising',\n  'Cloud computing',\n  'Software'],\n 'Keywords': ['Search', 'Advertising', 'Cloud', 'Software', 'Technology'],\n 'Company Classification': ['7370 (Computer Programming',\n  'Data Processing',\n  'and Related Services) – SIC',\n  '511210 (Software Publishers) – NAICS.'],\n 'images': 'test'}"
     },
     "execution_count": 11,
     "metadata": {},
     "output_type": "execute_result"
    }
   ],
   "source": [
    "parsed[\"images\"] = \"test\"\n",
    "parsed"
   ]
  },
  {
   "cell_type": "code",
   "execution_count": 8,
   "metadata": {},
   "outputs": [
    {
     "data": {
      "text/plain": "['Search engine', 'Advertising', 'Cloud computing', 'Software']"
     },
     "execution_count": 8,
     "metadata": {},
     "output_type": "execute_result"
    }
   ],
   "source": [
    "parsed[\"Products/services\"]"
   ]
  },
  {
   "cell_type": "markdown",
   "metadata": {},
   "source": [
    "# Teste com SerpAPI"
   ]
  },
  {
   "cell_type": "code",
   "execution_count": 9,
   "metadata": {},
   "outputs": [],
   "source": [
    "#!pip install google-search-results\n"
   ]
  },
  {
   "cell_type": "code",
   "execution_count": 19,
   "metadata": {},
   "outputs": [],
   "source": [
    "search = GoogleSearch({\n",
    "    \"q\": \"Innoscripta + Germany + Innovation consulting + Digital transformation + Product development \",\n",
    "    \"engine\": \"google_images\",\n",
    "    \"location\": \"Austin, Texas\",\n",
    "    \"api_key\": SERPAPI_KEY\n",
    "})"
   ]
  },
  {
   "cell_type": "code",
   "execution_count": 12,
   "metadata": {},
   "outputs": [
    {
     "data": {
      "text/plain": "<serpapi.google_search.GoogleSearch at 0x7f240b485190>"
     },
     "execution_count": 12,
     "metadata": {},
     "output_type": "execute_result"
    }
   ],
   "source": [
    "search"
   ]
  },
  {
   "cell_type": "code",
   "execution_count": 27,
   "metadata": {},
   "outputs": [
    {
     "name": "stdout",
     "output_type": "stream",
     "text": [
      "{'position': 3, 'thumbnail': 'https://serpapi.com/searches/64657183f0adfbcd97e4a773/images/4f3abf25eaa5fccfe017f296d62f7f3cb3cc25ed527034b09f8049b5aab91d65.jpeg', 'related_content_id': 'Y1NsQlBId0NjZE04eE1cIixcIjdxUlFlNWdFc1d1V3NN', 'serpapi_related_content_link': 'https://serpapi.com/search.json?engine=google_images_related_content&gl=us&hl=en&q=Innoscripta+%2B+Germany+%2B+Innovation+consulting+%2B+Digital+transformation+%2B+Product+development+&related_content_id=Y1NsQlBId0NjZE04eE1cIixcIjdxUlFlNWdFc1d1V3NN', 'source': 'innoscripta', 'title': 'Who we are looking for: What we offer: Your tasks: Are you interested?  Apply now!', 'link': 'https://it.innoscripta.com/documents/positions/innoscripta_Product_Manager_IT.pdf', 'is_product': False}\n"
     ]
    }
   ],
   "source": [
    "response = search.get_dict()\n",
    "print(response[\"images_results\"][2])"
   ]
  },
  {
   "cell_type": "code",
   "execution_count": 16,
   "metadata": {},
   "outputs": [
    {
     "data": {
      "text/plain": "dict_keys(['search_metadata', 'search_parameters', 'search_information', 'suggested_searches', 'images_results', 'related_searches'])"
     },
     "execution_count": 16,
     "metadata": {},
     "output_type": "execute_result"
    }
   ],
   "source": [
    "response.keys()"
   ]
  },
  {
   "cell_type": "code",
   "execution_count": 30,
   "metadata": {},
   "outputs": [
    {
     "data": {
      "text/plain": "['https://d3ml3b6vywsj0z.cloudfront.net/company_images/5ba611307c86660d3c6b2536_images.png',\n 'https://image.pitchbook.com/3T2zgG15lp2J4ZRw44DGxAmhbJe1598972475402_200x200',\n None,\n 'https://www.cparityevent.com/wp-content/uploads/2023/05/Web-Innoscripta-HQ-300x300.png',\n 'https://www.innoscripta.com/6cc987b6a5d16e4b06b5.jpg?url']"
     },
     "execution_count": 30,
     "metadata": {},
     "output_type": "execute_result"
    }
   ],
   "source": [
    "imgs = [r.get(\"original\", None) for r in response[\"images_results\"][:5]]\n",
    "imgs"
   ]
  },
  {
   "cell_type": "code",
   "execution_count": 26,
   "metadata": {},
   "outputs": [],
   "source": [
    "def google_search(query: str) -> list:\n",
    "    \"\"\"\n",
    "    Will query google for images based in the output of OpenAIAPI\n",
    "    \n",
    "    Args:\n",
    "        query(str): Formated query using the output openaiAPI\n",
    "    \n",
    "    Results:\n",
    "        imgs(list): List with URLs for images\n",
    "    \"\"\"\n",
    "    search = GoogleSearch({\n",
    "    \"q\": query,\n",
    "    \"engine\": \"google_images\",\n",
    "    \"location\": \"Austin, Texas\",\n",
    "    \"api_key\": SERPAPI_KEY\n",
    "    })\n",
    "    response = search.get_dict()\n",
    "    imgs = [r[\"original\"] for r in response[\"images_results\"][:5]]\n",
    "\n",
    "    return imgs"
   ]
  },
  {
   "cell_type": "code",
   "execution_count": 27,
   "metadata": {},
   "outputs": [
    {
     "data": {
      "text/plain": "['https://upload.wikimedia.org/wikipedia/commons/6/66/Polar_Bear_-_Alaska_%28cropped%29.jpg',\n 'https://i.natgeofe.com/k/55256f3f-2cf1-4b93-9d95-a13b0faa30a6/Mom-and-Babies_Polar-Bear_KIDS_0223-crop_3x2.jpg',\n 'https://files.worldwildlife.org/wwfcmsprod/images/Polar_bear_on_ice_in_Svalbard_Norway_WW294883/story_full_width/42ny6cwj8t_Polar_bear_on_ice_in_Svalbard_Norway_WW294883.jpg',\n 'https://good-nature-blog-uploads.s3.amazonaws.com/uploads/2022/07/Polar-Bear-playing-in-the-snow-by-Eddy-Savage-1280x640.png',\n 'https://optimise2.assets-servd.host/maniacal-finch/production/animals/polar-bear-01-01.jpg?w=1200&auto=compress%2Cformat&fit=crop&dm=1658950229&s=92bb7b274a3ab178ae54ddf5b186306b']"
     },
     "execution_count": 27,
     "metadata": {},
     "output_type": "execute_result"
    }
   ],
   "source": [
    "tst = google_search(\"Polar bear\")\n",
    "tst"
   ]
  },
  {
   "cell_type": "code",
   "execution_count": 28,
   "metadata": {},
   "outputs": [],
   "source": [
    "#prompt creation -> openai query -> google query creation -> google search\n",
    "\n",
    "def gpt_call(name: str, country: str, website: str = None) -> dict:\n",
    "    \"\"\"\n",
    "    Will call gpt-3.5-turbo for querying informations about a company.\n",
    "\n",
    "    Args:\n",
    "        name(str): Name of the company\n",
    "        country(str): Country of the company\n",
    "        website(str): Website of the company\n",
    "\n",
    "    Results:\n",
    "        output(dict) = Parsed output of OpenAIAPI\n",
    "    \"\"\"\n",
    "    if not website:\n",
    "        website = \"\"\n",
    "    llm = OpenAI(model_name=\"gpt-3.5-turbo\", temperature=0)\n",
    "\n",
    "    template = \"\"\"\n",
    "    I'll give you three inputs. These inputs will be the name of the company, \n",
    "    the country of the company, and the website company. The website of the company\n",
    "    is not mandatory.\n",
    "    You have to give me the products and services that the company offers as output.\n",
    "    you dont need to give me nothing more than the ouput.\n",
    "\n",
    "\n",
    "\n",
    "    input:\n",
    "    IKEA Deutschland GmbH & Co. KG\n",
    "    Germany\n",
    "    ikea.com\n",
    "\n",
    "    the output must be in this format, please use it:\n",
    "    \"Products/services\": Furniture, Home decor, Kitchen and Dining;\n",
    "    \"Keywords\":furniture, storage, lighting;\n",
    "    \"Company Classification\":5712 (Furniture Stores) – SIC, 442110 (Furniture Stores) – NAICS\n",
    "    do it yourself now.\n",
    "    input:\n",
    "    {name_of_company}\n",
    "    {country_of_company}\n",
    "    {website_of_company}\n",
    "\n",
    "    what is the output?\n",
    "    \"\"\"\n",
    "\n",
    "    prompt = PromptTemplate(\n",
    "        input_variables=[\"name_of_company\", \"country_of_company\", \"website_of_company\"],\n",
    "        template=template,\n",
    "    )\n",
    "    chain = LLMChain(llm=llm, prompt=prompt)\n",
    "    output = chain.run({\"name_of_company\": name, \n",
    "            \"country_of_company\": country, \n",
    "            \"website_of_company\":website\n",
    "\n",
    "    })\n",
    "    parsed = parse_output(output)\n",
    "\n",
    "    return parsed\n"
   ]
  },
  {
   "cell_type": "code",
   "execution_count": 29,
   "metadata": {},
   "outputs": [
    {
     "name": "stderr",
     "output_type": "stream",
     "text": [
      "/home/jp/anaconda3/envs/inno/lib/python3.9/site-packages/langchain/llms/openai.py:169: UserWarning: You are trying to use a chat model. This way of initializing it is no longer supported. Instead, please use: `from langchain.chat_models import ChatOpenAI`\n",
      "  warnings.warn(\n",
      "/home/jp/anaconda3/envs/inno/lib/python3.9/site-packages/langchain/llms/openai.py:696: UserWarning: You are trying to use a chat model. This way of initializing it is no longer supported. Instead, please use: `from langchain.chat_models import ChatOpenAI`\n",
      "  warnings.warn(\n"
     ]
    },
    {
     "name": "stdout",
     "output_type": "stream",
     "text": [
      "{'Products/services': ['Search engine', 'Advertising', 'Cloud computing', 'Software'], 'Keywords': ['Search', 'Advertising', 'Cloud', 'Software', 'Technology'], 'Company Classification': ['7370 (Computer Programming', 'Data Processing', 'and Other Computer Related Services) – SIC', '511210 (Software Publishers) – NAICS']}\n",
      "{'Products/services': ['Search engine', 'Advertising', 'Cloud computing', 'Software'], 'Keywords': ['Search', 'Advertising', 'Cloud', 'Software', 'Technology'], 'Company Classification': ['7370 (Computer Programming', 'Data Processing', 'and Other Computer Related Services) – SIC', '511210 (Software Publishers) – NAICS']}\n"
     ]
    }
   ],
   "source": [
    "parsed = gpt_call(name=\"Google\", country=\"United States\")\n",
    "print(parsed)"
   ]
  },
  {
   "cell_type": "code",
   "execution_count": 37,
   "metadata": {},
   "outputs": [],
   "source": [
    "products_services_str = \" + \".join(parsed[\"Products/services\"])"
   ]
  },
  {
   "cell_type": "code",
   "execution_count": 43,
   "metadata": {},
   "outputs": [],
   "source": [
    "def google_query_formation(name: str, country: str, products: list) -> str:\n",
    "    \"\"\"\n",
    "    Will manipulate strings to create Google search query\n",
    "\n",
    "    Args:\n",
    "        name(str): Name of company\n",
    "        countr(str): Country of company\n",
    "        products(list): Products that the company offers\n",
    "\n",
    "    Return:\n",
    "        google_query(str): Google query\n",
    "    \"\"\"\n",
    "    products_services_str = \" + \".join(products)\n",
    "\n",
    "    return \" + \".join([name, country, products_services_str])"
   ]
  },
  {
   "cell_type": "code",
   "execution_count": 51,
   "metadata": {},
   "outputs": [],
   "source": [
    "from langchain.chains import LLMChain\n",
    "from langchain import PromptTemplate\n",
    "from langchain.llms import OpenAI\n",
    "from serpapi import GoogleSearch\n",
    "import logging\n",
    "\n",
    "logger = logging.getLogger(__name__)\n",
    "class Innoscripta:\n",
    "    \"\"\"Class of innoscript solution\"\"\"\n",
    "\n",
    "    def __init__(self, name: str, country: str, website: str = None):\n",
    "        \"\"\"\n",
    "        Initialize the Innoscripta search engine.\n",
    "\n",
    "        Args:\n",
    "            name (str): name of the company\n",
    "            country (str): name of the country of the company\n",
    "            website (str): website of the company\n",
    "        \"\"\"\n",
    "        self.name = name\n",
    "        self.country = country\n",
    "        if not website:\n",
    "            logger.info(\"Website not provided, searching for it....\")\n",
    "            self.website = self.find_website(company_name=name)\n",
    "            logger.info(f\"Found website! {self.website}\")\n",
    "        else:\n",
    "            self.website = website\n",
    "        self.llm = OpenAI(model_name=\"gpt-3.5-turbo\", temperature=0)\n",
    "\n",
    "    def find_website(self, company_name) -> str:\n",
    "        \"\"\"\n",
    "        Try to find the website of the company\n",
    "\n",
    "        Args:\n",
    "            company_name (str): The name of the company.\n",
    "        Returns:\n",
    "            website (str): website of the company\n",
    "        \"\"\"\n",
    "        search = GoogleSearch(\n",
    "            {\n",
    "                \"q\": f\"{company_name} + website\",\n",
    "                \"engine\": \"google\",\n",
    "                \"location\": \"Austin, Texas\",\n",
    "                \"api_key\": SERPAPI_KEY,\n",
    "            }\n",
    "        )\n",
    "        response = search.get_dict()\n",
    "\n",
    "        website = response[\"organic_results\"][0][\"link\"]\n",
    "\n",
    "        if website:\n",
    "            return website\n",
    "        else:\n",
    "            return \" \"\n",
    "\n",
    "    def main(self):\n",
    "        \"\"\"\n",
    "        Will do the innoscripta querying\n",
    "        \"\"\"\n",
    "        logger.info(\"Doing GPT search...\")\n",
    "        parsed_gpt_ouput = self.gpt_call()\n",
    "        logger.info(\"Doing Google search...\")\n",
    "        google_query = self.google_query_formation(\n",
    "            parsed_gpt_ouput[\"products_services\"]\n",
    "        )\n",
    "        imgs = self.google_search(google_query)\n",
    "        parsed_gpt_ouput[\"images\"] = imgs\n",
    "        # parsed_gpt_ouput[\"additional_informations\"] = [\n",
    "        #     txt.replace(\"\\n\", \" \")\n",
    "        #     for txt in parsed_gpt_ouput[\"additional_informations\"]\n",
    "        # ]\n",
    "        # parsed_gpt_ouput[\"additional_informations\"] = \"\".join(\n",
    "        #     parsed_gpt_ouput[\"additional_informations\"]\n",
    "        # )\n",
    "        return parsed_gpt_ouput\n",
    "\n",
    "    def gpt_call(self) -> dict:\n",
    "        \"\"\"\n",
    "        Will call gpt-3.5-turbo for querying informations about a company.\n",
    "\n",
    "        Args:\n",
    "            name(str): Name of the company\n",
    "            country(str): Country of the company\n",
    "            website(str): Website of the company\n",
    "\n",
    "        Results:\n",
    "            output(dict) = Parsed output of OpenAIAPI\n",
    "        \"\"\"\n",
    "\n",
    "        prompt = self.prompt_template()\n",
    "\n",
    "        chain = LLMChain(llm=self.llm, prompt=prompt)\n",
    "        output = chain.run(\n",
    "            {\n",
    "                \"name_of_company\": self.name,\n",
    "                \"country_of_company\": self.country,\n",
    "                \"website_of_company\": self.website,\n",
    "            }\n",
    "        )\n",
    "        parsed = self.parse_output(output)\n",
    "\n",
    "        return parsed\n",
    "\n",
    "    def google_query_formation(self, products: list) -> str:\n",
    "        \"\"\"\n",
    "        Will manipulate strings to create Google search query\n",
    "\n",
    "        Return:\n",
    "            google_query(str): Google query\n",
    "        \"\"\"\n",
    "        products_services_str = \" + \".join(products)\n",
    "\n",
    "        return \" + \".join([self.name, products_services_str])\n",
    "\n",
    "    def google_search(self, query: str) -> list:\n",
    "        \"\"\"\n",
    "        Will query google for images based in the output of OpenAIAPI\n",
    "\n",
    "        Args:\n",
    "            query(str): Formated query using the output openaiAPI\n",
    "\n",
    "        Results:\n",
    "            imgs(list): List with URLs for images\n",
    "        \"\"\"\n",
    "        search = GoogleSearch(\n",
    "            {\n",
    "                \"q\": query,\n",
    "                \"engine\": \"google_images\",\n",
    "                \"location\": \"Austin, Texas\",\n",
    "                \"api_key\": SERPAPI_KEY,\n",
    "            }\n",
    "        )\n",
    "        response = search.get_dict()\n",
    "        imgs = [r.get(\"original\", None) for r in response[\"images_results\"][:5]]\n",
    "\n",
    "        return imgs\n",
    "\n",
    "    def prompt_template(self):\n",
    "        template = \"\"\"\n",
    "        I'll give you three inputs. These inputs will be the name of the company, \n",
    "        the country of the company, and the website company. The website of the company\n",
    "        is not mandatory, so it can be just an empty string.\n",
    "        If the website was not provided, gather all info you can with just name and country.\n",
    "        You have to give me the products and services that the company offers as output.\n",
    "        you dont need to give me nothing more than the ouput.\n",
    "\n",
    "        input:\n",
    "        IKEA Deutschland GmbH & Co. KG\n",
    "        Germany\n",
    "        ikea.com\n",
    "\n",
    "        the output must be in this format, please use it:\n",
    "        \"products_services\": Furniture, Home decor, Kitchen and Dining;\n",
    "        \"keywords\":furniture, storage, lighting;\n",
    "        \"company_classification\":5712 (Furniture Stores) – SIC, 442110 (Furniture Stores) – NAICS;\n",
    "        \"additional_informations\":\n",
    "            \"Furniture\" = \"IKEA is well-known for its wide range of stylish and affordable furniture. They offer various furniture pieces for every room in the home, including living room, bedroom, kitchen, dining, and outdoor furniture. Their products feature modern designs, functionality, and often come in flat-pack form for easy transportation and assembly.\",\n",
    "            \"Home Decor and Accessories\" =  \"In addition to furniture, IKEA provides a variety of home decor and accessories to enhance the style and functionality of living spaces. This includes items such as rugs, curtains, lighting fixtures, mirrors, frames, plants, and decorative storage solutions.\",\n",
    "            \"Kitchen and Dining\" = \"IKEA offers a comprehensive range of kitchen and dining products. This includes kitchen cabinets, countertops, appliances, cookware, utensils, tableware, and dining furniture. They provide solutions for various kitchen styles, sizes, and budgets.\",\n",
    "            \"Storage and Organization\" = \"IKEA specializes in storage and organization solutions to help keep homes tidy and efficient. They offer a wide selection of shelves, storage units, wardrobes, drawers, and closet systems. These products are designed to maximize space and provide smart storage solutions.\",\n",
    "            \"Bedroom Furniture and Mattresses\"= \"IKEA provides bedroom furniture and mattresses that cater to different preferences and needs. They offer beds, bed frames, mattresses, dressers, wardrobes, and bedding accessories. Their products focus on comfort, functionality, and innovative design.\",\n",
    "            \"Bathroom Furnishings\" = \"For bathrooms, IKEA offers a range of furnishings and accessories, including vanities, cabinets, sinks, faucets, showers, storage solutions, and bathroom textiles. These products aim to optimize space utilization and create a stylish and functional bathroom environment.\",\n",
    "            \"Children's Furniture and Toys\" = \"IKEA features a variety of furniture and toys designed specifically for children. They offer children's beds, desks, storage systems, playroom furniture, toys, and decor items. Their products prioritize safety, durability, and imaginative play.\",\n",
    "            \"Textiles and Fabrics\" = \"IKEA provides an assortment of textiles and fabrics for home decor, including curtains, blinds, rugs, cushions, bedding, and fabrics by the yard. They offer a wide selection of colors, patterns, and materials to suit different styles and preferences.\",\n",
    "            \"Smart Home Solutions\" = \"In line with the growing trend of smart homes, IKEA offers smart home solutions such as lighting systems, wireless chargers, smart plugs, and integrated furniture with built-in technology. These products aim to enhance convenience, energy efficiency, and connectivity in the home.\",\n",
    "            \"Home Delivery and Assembly Services\" = \"IKEA offers home delivery services to bring purchased products directly to customers' homes. They also provide assembly services, where IKEA's professionals can assemble the furniture and ensure it is ready to use.\",\n",
    "\n",
    "\n",
    "        do it yourself now.\n",
    "        input:\n",
    "        {name_of_company}\n",
    "        {country_of_company}\n",
    "        {website_of_company}\n",
    "\n",
    "        what is the output?\n",
    "        \"\"\"\n",
    "\n",
    "        prompt = PromptTemplate(\n",
    "            input_variables=[\n",
    "                \"name_of_company\",\n",
    "                \"country_of_company\",\n",
    "                \"website_of_company\",\n",
    "            ],\n",
    "            template=template,\n",
    "        )\n",
    "\n",
    "        return prompt\n",
    "\n",
    "    def parse_output(self, output_langchain: str) -> dict:\n",
    "        \"\"\"\n",
    "        Will parse the output_langchain of the Langchain query\n",
    "\n",
    "        Args:\n",
    "            output(str): The output_langchain of Langchain query.\n",
    "\n",
    "        Returns:\n",
    "            result_dict(dict): the parsed output_langchain to dict\n",
    "        \"\"\"\n",
    "\n",
    "        result_dict = {}\n",
    "\n",
    "        sections = [section.strip() for section in output_langchain.split(\";\")]\n",
    "\n",
    "        for section in sections:\n",
    "            print(f\"---->{section}\")\n",
    "            if section:\n",
    "                if \"additional_informations\" in section:\n",
    "                    print(\"---> oi porra\")\n",
    "                    header = \"additional_informations\"\n",
    "                    values = self.parse_additional_info(section)\n",
    "                else:\n",
    "                    header, values_str = section.split(\":\")\n",
    "                    header = header.strip('\"')\n",
    "                    values = [value.strip() for value in values_str.strip(\"[]\").split(\",\")]\n",
    "\n",
    "                result_dict[header] = values\n",
    "\n",
    "        return result_dict\n",
    "\n",
    "    def parse_additional_info(self, data):\n",
    "        # Parse to dict\n",
    "        additional_informations = {}\n",
    "\n",
    "        # Split into lines and iterate\n",
    "        for line in data.split('\\n'):\n",
    "            # Ignore lines without '='\n",
    "            if '=' not in line:\n",
    "                continue\n",
    "\n",
    "            # Split line into key-value pair\n",
    "            key, value = line.split('=', 1)\n",
    "\n",
    "            # Remove unwanted characters from key and value\n",
    "            key = key.replace('\"', '').strip()\n",
    "            value = value.replace('\"', '').strip()\n",
    "\n",
    "            # Add to dictionary\n",
    "            additional_informations[key] = value\n",
    "        return additional_informations"
   ]
  },
  {
   "cell_type": "code",
   "execution_count": 52,
   "metadata": {},
   "outputs": [],
   "source": [
    "inno = Innoscripta(name=\"Innoscripta\", country=\"Germany\", website=None)"
   ]
  },
  {
   "cell_type": "code",
   "execution_count": 53,
   "metadata": {},
   "outputs": [
    {
     "name": "stderr",
     "output_type": "stream",
     "text": [
      "Retrying langchain.llms.openai.completion_with_retry.<locals>._completion_with_retry in 4.0 seconds as it raised RateLimitError: The server had an error while processing your request. Sorry about that!.\n"
     ]
    },
    {
     "name": "stdout",
     "output_type": "stream",
     "text": [
      "---->\"products_services\": Digital transformation, Software development, IT consulting\n",
      "---->\"keywords\":digital transformation, software development, IT consulting, innovation, technology\n",
      "---->\"company_classification\":62020 (Information Technology (IT) Consulting) – NAICS\n",
      "---->\"additional_informations\":\n",
      "            \"Digital Transformation\" = \"Innoscripta offers digital transformation services to help businesses adapt to the changing digital landscape. They provide solutions for digital strategy, customer experience, data analytics, and process optimization. Their services aim to improve efficiency, productivity, and customer satisfaction.\",\n",
      "            \"Software Development\" =  \"Innoscripta specializes in software development services, including web and mobile app development, software integration, and custom software solutions. They use the latest technologies and agile methodologies to deliver high-quality software products that meet clients' needs.\",\n",
      "            \"IT Consulting\" = \"Innoscripta provides IT consulting services to help businesses optimize their IT infrastructure and operations. They offer services such as IT strategy, cybersecurity, cloud computing, and IT project management. Their services aim to improve IT efficiency, security, and cost-effectiveness.\",\n",
      "            \"Innovation and Technology\" = \"Innoscripta focuses on innovation and technology to help businesses stay ahead of the competition. They provide services such as innovation management, technology scouting, and digital innovation. Their services aim to help businesses identify new opportunities and develop innovative solutions.\",\n",
      "            \"Industry Expertise\" = \"Innoscripta has expertise in various industries, including healthcare, finance, logistics, and manufacturing. They provide industry-specific solutions and insights to help businesses address their unique challenges and opportunities.\",\n",
      "            \"Collaborative Approach\" = \"Innoscripta takes a collaborative approach to working with clients, involving them in every step of the process. They prioritize communication, transparency, and flexibility to ensure that clients' needs are met and expectations are exceeded.\",\n",
      "            \"Global Presence\" = \"Innoscripta has a global presence, with offices in Germany, Switzerland, and the United States. They provide services to clients around the world, helping them navigate the complexities of the global business environment.\",\n",
      "            \"Client Satisfaction\" = \"Innoscripta is committed to client satisfaction, with a focus on delivering high-quality services that meet clients' needs and exceed their expectations. They have a track record of success and a reputation for excellence in the industry.\"\n",
      "---> oi porra\n"
     ]
    }
   ],
   "source": [
    "tst = inno.main()"
   ]
  },
  {
   "cell_type": "code",
   "execution_count": 54,
   "metadata": {},
   "outputs": [
    {
     "data": {
      "text/plain": "{'products_services': ['Digital transformation',\n  'Software development',\n  'IT consulting'],\n 'keywords': ['digital transformation',\n  'software development',\n  'IT consulting',\n  'innovation',\n  'technology'],\n 'company_classification': ['62020 (Information Technology (IT) Consulting) – NAICS'],\n 'additional_informations': {'Digital Transformation': 'Innoscripta offers digital transformation services to help businesses adapt to the changing digital landscape. They provide solutions for digital strategy, customer experience, data analytics, and process optimization. Their services aim to improve efficiency, productivity, and customer satisfaction.,',\n  'Software Development': \"Innoscripta specializes in software development services, including web and mobile app development, software integration, and custom software solutions. They use the latest technologies and agile methodologies to deliver high-quality software products that meet clients' needs.,\",\n  'IT Consulting': 'Innoscripta provides IT consulting services to help businesses optimize their IT infrastructure and operations. They offer services such as IT strategy, cybersecurity, cloud computing, and IT project management. Their services aim to improve IT efficiency, security, and cost-effectiveness.,',\n  'Innovation and Technology': 'Innoscripta focuses on innovation and technology to help businesses stay ahead of the competition. They provide services such as innovation management, technology scouting, and digital innovation. Their services aim to help businesses identify new opportunities and develop innovative solutions.,',\n  'Industry Expertise': 'Innoscripta has expertise in various industries, including healthcare, finance, logistics, and manufacturing. They provide industry-specific solutions and insights to help businesses address their unique challenges and opportunities.,',\n  'Collaborative Approach': \"Innoscripta takes a collaborative approach to working with clients, involving them in every step of the process. They prioritize communication, transparency, and flexibility to ensure that clients' needs are met and expectations are exceeded.,\",\n  'Global Presence': 'Innoscripta has a global presence, with offices in Germany, Switzerland, and the United States. They provide services to clients around the world, helping them navigate the complexities of the global business environment.,',\n  'Client Satisfaction': \"Innoscripta is committed to client satisfaction, with a focus on delivering high-quality services that meet clients' needs and exceed their expectations. They have a track record of success and a reputation for excellence in the industry.\"},\n 'images': ['https://media.licdn.com/dms/image/C4D0BAQFbfUNKW2A-9Q/company-logo_200_200/0/1669909775579?e=1688601600&v=beta&t=fCE3goyQIcpls5NL2c_QMzXo4Y0u13pI6DZ5ZvbMS9k',\n  'https://image.pitchbook.com/3T2zgG15lp2J4ZRw44DGxAmhbJe1598972475402_200x200',\n  'https://www.innoscripta.com/861345e95d41fe7fc3ea.jpg?url',\n  'https://www.innoscripta.com/6cc987b6a5d16e4b06b5.jpg?url',\n  'https://www.innosight.com/wp-content/uploads/2018/02/Figure2_700x438.png']}"
     },
     "execution_count": 54,
     "metadata": {},
     "output_type": "execute_result"
    }
   ],
   "source": [
    "tst"
   ]
  },
  {
   "cell_type": "code",
   "execution_count": 25,
   "metadata": {},
   "outputs": [
    {
     "data": {
      "text/plain": "True"
     },
     "execution_count": 25,
     "metadata": {},
     "output_type": "execute_result"
    }
   ],
   "source": [
    "\"innoscripta\" in \"innoscripta.com\""
   ]
  },
  {
   "cell_type": "code",
   "execution_count": 1,
   "metadata": {},
   "outputs": [
    {
     "name": "stdout",
     "output_type": "stream",
     "text": [
      "{'products_services': ['Artificial Intelligence research', 'development', 'and deployment'], 'keywords': ['AI', 'machine learning', 'natural language processing'], 'company_classification': ['7371 (Computer Programming Services) – SIC', '541511 (Custom Computer Programming Services) – NAICS'], 'images': ['https://assets.weforum.org/editor/WAi7awMyhM1beUh5qAHB-m7gkrZ9BCjQrhRovg5OHVA.jpeg', 'https://fourweekmba.com/wp-content/uploads/2023/01/openai-organizational-structur-1200x900.png', 'https://www.delcotimes.com/wp-content/uploads/2023/05/OpenAI_CEO_Congress_63364.jpg?w=525', 'https://i0.wp.com/fourweekmba.com/wp-content/uploads/2023/02/how-does-openai-make-money.png?fit=2560%2C1901&ssl=1', 'https://news.microsoft.com/source/wp-content/uploads/2023/01/openai3-1020x960-1-768x720.png'], 'additional_informations': \"OpenAI is a research organization that focuses on developing and deploying          artificial intelligence in a safe and beneficial way. They work on a wide range of AI-related projectsincluding machine learningnatural language processingroboticsand more. Their goal is to create          advanced AI systems that can help solve some of the world's most pressing problemswhile also ensuring          that these systems are safe and beneficial for everyone.\"}\n"
     ]
    }
   ],
   "source": [
    "import requests\n",
    "\n",
    "# define the base url\n",
    "base_url = 'http://localhost:8885'  # replace with your actual server address and port\n",
    "\n",
    "# define the endpoint\n",
    "endpoint = \"/company/\"\n",
    "\n",
    "# define the parameters for the GET request\n",
    "params = {\n",
    "    \"company_name\": \"OpenAI\",\n",
    "    \"company_country\": \"USA\",\n",
    "    \"company_website\": \"https://www.openai.com\",\n",
    "}\n",
    "\n",
    "# send a GET request\n",
    "response = requests.get(base_url + endpoint, params=params)\n",
    "\n",
    "# print the response\n",
    "print(response.json())"
   ]
  },
  {
   "cell_type": "code",
   "execution_count": 40,
   "metadata": {},
   "outputs": [],
   "source": [
    "data = \"\"\"\n",
    "\"additional_informations\":\n",
    "            \"Digital Transformation\" = \"Innoscripta offers digital transformation services to help businesses adapt to the digital age. They provide solutions for digital strategy, customer experience, data analytics, and process optimization. Their services aim to improve efficiency, productivity, and customer satisfaction.\",\n",
    "            \"Software Development\" = \"Innoscripta specializes in software development services, including web and mobile app development, software architecture, and quality assurance. They use agile methodologies and cutting-edge technologies to deliver high-quality software solutions.\",\n",
    "            \"IT Consulting\" = \"Innoscripta provides IT consulting services to help businesses align their IT strategy with their business goals. They offer services such as IT strategy development, IT governance, risk management, and IT project management. Their services aim to improve IT efficiency, reduce costs, and mitigate risks.\"\n",
    "\"\"\""
   ]
  },
  {
   "cell_type": "code",
   "execution_count": 42,
   "metadata": {},
   "outputs": [],
   "source": [
    "# Parse to dict\n",
    "additional_informations = {}\n",
    "\n",
    "# Split into lines and iterate\n",
    "for line in tst.split('\\n'):\n",
    "    # Ignore lines without '='\n",
    "    if '=' not in line:\n",
    "        continue\n",
    "\n",
    "    # Split line into key-value pair\n",
    "    key, value = line.split('=', 1)\n",
    "\n",
    "    # Remove unwanted characters from key and value\n",
    "    key = key.replace('\"', '').strip()\n",
    "    value = value.replace('\"', '').strip()\n",
    "\n",
    "    # Add to dictionary\n",
    "    additional_informations[key] = value\n"
   ]
  },
  {
   "cell_type": "code",
   "execution_count": 43,
   "metadata": {},
   "outputs": [
    {
     "data": {
      "text/plain": "{'Digital Transformation': 'Innoscripta offers digital transformation services to help businesses adapt to the digital age. They provide solutions for digital strategy, customer experience, data analytics, and process optimization. Their services aim to improve efficiency, productivity, and customer satisfaction.,',\n 'Software Development': 'Innoscripta specializes in software development services, including web and mobile app development, software architecture, and quality assurance. They use agile methodologies and cutting-edge technologies to deliver high-quality software solutions.,',\n 'IT Consulting': 'Innoscripta provides IT consulting services to help businesses align their IT strategy with their business goals. They offer services such as IT strategy development, IT governance, risk management, and IT project management. Their services aim to improve IT efficiency, reduce costs, and mitigate risks.'}"
     },
     "execution_count": 43,
     "metadata": {},
     "output_type": "execute_result"
    }
   ],
   "source": [
    "additional_informations"
   ]
  },
  {
   "cell_type": "code",
   "execution_count": 44,
   "metadata": {},
   "outputs": [],
   "source": [
    "tst2 = {\"oi\": additional_informations}"
   ]
  },
  {
   "cell_type": "code",
   "execution_count": 45,
   "metadata": {},
   "outputs": [
    {
     "data": {
      "text/plain": "{'oi': {'Digital Transformation': 'Innoscripta offers digital transformation services to help businesses adapt to the digital age. They provide solutions for digital strategy, customer experience, data analytics, and process optimization. Their services aim to improve efficiency, productivity, and customer satisfaction.,',\n  'Software Development': 'Innoscripta specializes in software development services, including web and mobile app development, software architecture, and quality assurance. They use agile methodologies and cutting-edge technologies to deliver high-quality software solutions.,',\n  'IT Consulting': 'Innoscripta provides IT consulting services to help businesses align their IT strategy with their business goals. They offer services such as IT strategy development, IT governance, risk management, and IT project management. Their services aim to improve IT efficiency, reduce costs, and mitigate risks.'}}"
     },
     "execution_count": 45,
     "metadata": {},
     "output_type": "execute_result"
    }
   ],
   "source": [
    "tst2"
   ]
  },
  {
   "cell_type": "code",
   "execution_count": null,
   "metadata": {},
   "outputs": [],
   "source": []
  }
 ],
 "metadata": {
  "kernelspec": {
   "display_name": "Python 3.9.16 64-bit ('inno': conda)",
   "name": "python3916jvsc74a57bd03595f5ff90e1af30d1dc43aaf8d22cbd63a07cedbf4f9fee389b052af8ffa6b0"
  },
  "language_info": {
   "codemirror_mode": {
    "name": "ipython",
    "version": 3
   },
   "file_extension": ".py",
   "mimetype": "text/x-python",
   "name": "python",
   "nbconvert_exporter": "python",
   "pygments_lexer": "ipython3",
   "version": "3.9.16"
  },
  "metadata": {
   "interpreter": {
    "hash": "3595f5ff90e1af30d1dc43aaf8d22cbd63a07cedbf4f9fee389b052af8ffa6b0"
   }
  },
  "orig_nbformat": 2
 },
 "nbformat": 4,
 "nbformat_minor": 2
}